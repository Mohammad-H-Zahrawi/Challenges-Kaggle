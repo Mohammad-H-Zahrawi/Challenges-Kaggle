{
  "nbformat": 4,
  "nbformat_minor": 0,
  "metadata": {
    "colab": {
      "provenance": [],
      "toc_visible": true,
      "authorship_tag": "ABX9TyNJ/Qh7NBH+QTQ5tjuTL06X",
      "include_colab_link": true
    },
    "kernelspec": {
      "name": "python3",
      "display_name": "Python 3"
    },
    "language_info": {
      "name": "python"
    }
  },
  "cells": [
    {
      "cell_type": "markdown",
      "metadata": {
        "id": "view-in-github",
        "colab_type": "text"
      },
      "source": [
        "<a href=\"https://colab.research.google.com/github/Mohammad-H-Zahrawi/Challenges-Kaggle/blob/main/COVID-19%20mRNA%20Vaccine%20Degradation/mRNA_Notebook.ipynb\" target=\"_parent\"><img src=\"https://colab.research.google.com/assets/colab-badge.svg\" alt=\"Open In Colab\"/></a>"
      ]
    },
    {
      "cell_type": "markdown",
      "source": [
        "# Importing Data"
      ],
      "metadata": {
        "id": "hzQm12qKdxVv"
      }
    },
    {
      "cell_type": "code",
      "source": [
        "import pandas as pd\n",
        "import numpy as np\n",
        "import matplotlib.pyplot as plt\n",
        "import seaborn as sns\n",
        "import sklearn\n",
        "import re\n",
        "\n",
        "train = pd.read_csv('https://raw.githubusercontent.com/Mohammad-H-Zahrawi/Challenges-Kaggle/main/COVID-19%20mRNA%20Vaccine%20Degradation/train.csv')\n",
        "test = pd.read_csv('https://raw.githubusercontent.com/Mohammad-H-Zahrawi/Challenges-Kaggle/main/COVID-19%20mRNA%20Vaccine%20Degradation/test.csv')\n",
        "sample_submission = pd.read_csv('https://raw.githubusercontent.com/Mohammad-H-Zahrawi/Challenges-Kaggle/main/COVID-19%20mRNA%20Vaccine%20Degradation/sample_submission.csv')\n",
        "\n"
      ],
      "metadata": {
        "id": "p5YPWrRKe0yh"
      },
      "execution_count": 1,
      "outputs": []
    },
    {
      "cell_type": "code",
      "source": [
        "# merge train and test data into df\n",
        "df = pd.concat([train, test])\n",
        "df.head()"
      ],
      "metadata": {
        "colab": {
          "base_uri": "https://localhost:8080/",
          "height": 255
        },
        "id": "mJZfAXSSfHrr",
        "outputId": "36c8284a-ca09-4304-8c72-ae09d3e0b001"
      },
      "execution_count": 2,
      "outputs": [
        {
          "output_type": "execute_result",
          "data": {
            "text/plain": [
              "             id        id_seqpos sequence structure predicted_loop_type  \\\n",
              "0  id_159f0ff46  id_159f0ff46_44        A         .                   H   \n",
              "1  id_d73546f4e  id_d73546f4e_38        G         .                   I   \n",
              "2  id_f3037fedf  id_f3037fedf_34        G         (                   S   \n",
              "3  id_468300749  id_468300749_12        G         (                   S   \n",
              "4  id_69e3878a2  id_69e3878a2_28        U         (                   S   \n",
              "\n",
              "   reactivity  reactivity_error  deg_Mg_pH10  deg_error_Mg_pH10  deg_pH10  \\\n",
              "0      1.7786            0.1195       0.7346             0.0790    0.3680   \n",
              "1      0.4397            0.1033       0.1630             0.0799    0.0878   \n",
              "2      0.1120            0.1375       0.0000             0.0744    0.1835   \n",
              "3      0.0622            0.0471       0.1179             0.1075    0.0657   \n",
              "4      0.1378            0.1352       0.4069             0.2168    0.3375   \n",
              "\n",
              "   ...  b4_structure  a4_structure  b4_predicted_loop_type  \\\n",
              "0  ...             (             )                       S   \n",
              "1  ...             (             .                       S   \n",
              "2  ...             (             (                       S   \n",
              "3  ...             .             (                       E   \n",
              "4  ...             (             (                       S   \n",
              "\n",
              "   a4_predicted_loop_type  b5_sequence a5_sequence b5_structure a5_structure  \\\n",
              "0                       S            C           A            .            )   \n",
              "1                       H            C           C            .            .   \n",
              "2                       S            A           G            (            (   \n",
              "3                       S            A           U            .            (   \n",
              "4                       S            G           G            (            .   \n",
              "\n",
              "  b5_predicted_loop_type a5_predicted_loop_type  \n",
              "0                      I                      S  \n",
              "1                      B                      H  \n",
              "2                      S                      S  \n",
              "3                      E                      S  \n",
              "4                      S                      H  \n",
              "\n",
              "[5 rows x 45 columns]"
            ],
            "text/html": [
              "\n",
              "  <div id=\"df-34d346b2-0cdf-4ba5-9feb-10d4071da44c\" class=\"colab-df-container\">\n",
              "    <div>\n",
              "<style scoped>\n",
              "    .dataframe tbody tr th:only-of-type {\n",
              "        vertical-align: middle;\n",
              "    }\n",
              "\n",
              "    .dataframe tbody tr th {\n",
              "        vertical-align: top;\n",
              "    }\n",
              "\n",
              "    .dataframe thead th {\n",
              "        text-align: right;\n",
              "    }\n",
              "</style>\n",
              "<table border=\"1\" class=\"dataframe\">\n",
              "  <thead>\n",
              "    <tr style=\"text-align: right;\">\n",
              "      <th></th>\n",
              "      <th>id</th>\n",
              "      <th>id_seqpos</th>\n",
              "      <th>sequence</th>\n",
              "      <th>structure</th>\n",
              "      <th>predicted_loop_type</th>\n",
              "      <th>reactivity</th>\n",
              "      <th>reactivity_error</th>\n",
              "      <th>deg_Mg_pH10</th>\n",
              "      <th>deg_error_Mg_pH10</th>\n",
              "      <th>deg_pH10</th>\n",
              "      <th>...</th>\n",
              "      <th>b4_structure</th>\n",
              "      <th>a4_structure</th>\n",
              "      <th>b4_predicted_loop_type</th>\n",
              "      <th>a4_predicted_loop_type</th>\n",
              "      <th>b5_sequence</th>\n",
              "      <th>a5_sequence</th>\n",
              "      <th>b5_structure</th>\n",
              "      <th>a5_structure</th>\n",
              "      <th>b5_predicted_loop_type</th>\n",
              "      <th>a5_predicted_loop_type</th>\n",
              "    </tr>\n",
              "  </thead>\n",
              "  <tbody>\n",
              "    <tr>\n",
              "      <th>0</th>\n",
              "      <td>id_159f0ff46</td>\n",
              "      <td>id_159f0ff46_44</td>\n",
              "      <td>A</td>\n",
              "      <td>.</td>\n",
              "      <td>H</td>\n",
              "      <td>1.7786</td>\n",
              "      <td>0.1195</td>\n",
              "      <td>0.7346</td>\n",
              "      <td>0.0790</td>\n",
              "      <td>0.3680</td>\n",
              "      <td>...</td>\n",
              "      <td>(</td>\n",
              "      <td>)</td>\n",
              "      <td>S</td>\n",
              "      <td>S</td>\n",
              "      <td>C</td>\n",
              "      <td>A</td>\n",
              "      <td>.</td>\n",
              "      <td>)</td>\n",
              "      <td>I</td>\n",
              "      <td>S</td>\n",
              "    </tr>\n",
              "    <tr>\n",
              "      <th>1</th>\n",
              "      <td>id_d73546f4e</td>\n",
              "      <td>id_d73546f4e_38</td>\n",
              "      <td>G</td>\n",
              "      <td>.</td>\n",
              "      <td>I</td>\n",
              "      <td>0.4397</td>\n",
              "      <td>0.1033</td>\n",
              "      <td>0.1630</td>\n",
              "      <td>0.0799</td>\n",
              "      <td>0.0878</td>\n",
              "      <td>...</td>\n",
              "      <td>(</td>\n",
              "      <td>.</td>\n",
              "      <td>S</td>\n",
              "      <td>H</td>\n",
              "      <td>C</td>\n",
              "      <td>C</td>\n",
              "      <td>.</td>\n",
              "      <td>.</td>\n",
              "      <td>B</td>\n",
              "      <td>H</td>\n",
              "    </tr>\n",
              "    <tr>\n",
              "      <th>2</th>\n",
              "      <td>id_f3037fedf</td>\n",
              "      <td>id_f3037fedf_34</td>\n",
              "      <td>G</td>\n",
              "      <td>(</td>\n",
              "      <td>S</td>\n",
              "      <td>0.1120</td>\n",
              "      <td>0.1375</td>\n",
              "      <td>0.0000</td>\n",
              "      <td>0.0744</td>\n",
              "      <td>0.1835</td>\n",
              "      <td>...</td>\n",
              "      <td>(</td>\n",
              "      <td>(</td>\n",
              "      <td>S</td>\n",
              "      <td>S</td>\n",
              "      <td>A</td>\n",
              "      <td>G</td>\n",
              "      <td>(</td>\n",
              "      <td>(</td>\n",
              "      <td>S</td>\n",
              "      <td>S</td>\n",
              "    </tr>\n",
              "    <tr>\n",
              "      <th>3</th>\n",
              "      <td>id_468300749</td>\n",
              "      <td>id_468300749_12</td>\n",
              "      <td>G</td>\n",
              "      <td>(</td>\n",
              "      <td>S</td>\n",
              "      <td>0.0622</td>\n",
              "      <td>0.0471</td>\n",
              "      <td>0.1179</td>\n",
              "      <td>0.1075</td>\n",
              "      <td>0.0657</td>\n",
              "      <td>...</td>\n",
              "      <td>.</td>\n",
              "      <td>(</td>\n",
              "      <td>E</td>\n",
              "      <td>S</td>\n",
              "      <td>A</td>\n",
              "      <td>U</td>\n",
              "      <td>.</td>\n",
              "      <td>(</td>\n",
              "      <td>E</td>\n",
              "      <td>S</td>\n",
              "    </tr>\n",
              "    <tr>\n",
              "      <th>4</th>\n",
              "      <td>id_69e3878a2</td>\n",
              "      <td>id_69e3878a2_28</td>\n",
              "      <td>U</td>\n",
              "      <td>(</td>\n",
              "      <td>S</td>\n",
              "      <td>0.1378</td>\n",
              "      <td>0.1352</td>\n",
              "      <td>0.4069</td>\n",
              "      <td>0.2168</td>\n",
              "      <td>0.3375</td>\n",
              "      <td>...</td>\n",
              "      <td>(</td>\n",
              "      <td>(</td>\n",
              "      <td>S</td>\n",
              "      <td>S</td>\n",
              "      <td>G</td>\n",
              "      <td>G</td>\n",
              "      <td>(</td>\n",
              "      <td>.</td>\n",
              "      <td>S</td>\n",
              "      <td>H</td>\n",
              "    </tr>\n",
              "  </tbody>\n",
              "</table>\n",
              "<p>5 rows × 45 columns</p>\n",
              "</div>\n",
              "    <div class=\"colab-df-buttons\">\n",
              "\n",
              "  <div class=\"colab-df-container\">\n",
              "    <button class=\"colab-df-convert\" onclick=\"convertToInteractive('df-34d346b2-0cdf-4ba5-9feb-10d4071da44c')\"\n",
              "            title=\"Convert this dataframe to an interactive table.\"\n",
              "            style=\"display:none;\">\n",
              "\n",
              "  <svg xmlns=\"http://www.w3.org/2000/svg\" height=\"24px\" viewBox=\"0 -960 960 960\">\n",
              "    <path d=\"M120-120v-720h720v720H120Zm60-500h600v-160H180v160Zm220 220h160v-160H400v160Zm0 220h160v-160H400v160ZM180-400h160v-160H180v160Zm440 0h160v-160H620v160ZM180-180h160v-160H180v160Zm440 0h160v-160H620v160Z\"/>\n",
              "  </svg>\n",
              "    </button>\n",
              "\n",
              "  <style>\n",
              "    .colab-df-container {\n",
              "      display:flex;\n",
              "      gap: 12px;\n",
              "    }\n",
              "\n",
              "    .colab-df-convert {\n",
              "      background-color: #E8F0FE;\n",
              "      border: none;\n",
              "      border-radius: 50%;\n",
              "      cursor: pointer;\n",
              "      display: none;\n",
              "      fill: #1967D2;\n",
              "      height: 32px;\n",
              "      padding: 0 0 0 0;\n",
              "      width: 32px;\n",
              "    }\n",
              "\n",
              "    .colab-df-convert:hover {\n",
              "      background-color: #E2EBFA;\n",
              "      box-shadow: 0px 1px 2px rgba(60, 64, 67, 0.3), 0px 1px 3px 1px rgba(60, 64, 67, 0.15);\n",
              "      fill: #174EA6;\n",
              "    }\n",
              "\n",
              "    .colab-df-buttons div {\n",
              "      margin-bottom: 4px;\n",
              "    }\n",
              "\n",
              "    [theme=dark] .colab-df-convert {\n",
              "      background-color: #3B4455;\n",
              "      fill: #D2E3FC;\n",
              "    }\n",
              "\n",
              "    [theme=dark] .colab-df-convert:hover {\n",
              "      background-color: #434B5C;\n",
              "      box-shadow: 0px 1px 3px 1px rgba(0, 0, 0, 0.15);\n",
              "      filter: drop-shadow(0px 1px 2px rgba(0, 0, 0, 0.3));\n",
              "      fill: #FFFFFF;\n",
              "    }\n",
              "  </style>\n",
              "\n",
              "    <script>\n",
              "      const buttonEl =\n",
              "        document.querySelector('#df-34d346b2-0cdf-4ba5-9feb-10d4071da44c button.colab-df-convert');\n",
              "      buttonEl.style.display =\n",
              "        google.colab.kernel.accessAllowed ? 'block' : 'none';\n",
              "\n",
              "      async function convertToInteractive(key) {\n",
              "        const element = document.querySelector('#df-34d346b2-0cdf-4ba5-9feb-10d4071da44c');\n",
              "        const dataTable =\n",
              "          await google.colab.kernel.invokeFunction('convertToInteractive',\n",
              "                                                    [key], {});\n",
              "        if (!dataTable) return;\n",
              "\n",
              "        const docLinkHtml = 'Like what you see? Visit the ' +\n",
              "          '<a target=\"_blank\" href=https://colab.research.google.com/notebooks/data_table.ipynb>data table notebook</a>'\n",
              "          + ' to learn more about interactive tables.';\n",
              "        element.innerHTML = '';\n",
              "        dataTable['output_type'] = 'display_data';\n",
              "        await google.colab.output.renderOutput(dataTable, element);\n",
              "        const docLink = document.createElement('div');\n",
              "        docLink.innerHTML = docLinkHtml;\n",
              "        element.appendChild(docLink);\n",
              "      }\n",
              "    </script>\n",
              "  </div>\n",
              "\n",
              "\n",
              "<div id=\"df-201d8cf6-3650-4edb-9701-8f112a8e77fd\">\n",
              "  <button class=\"colab-df-quickchart\" onclick=\"quickchart('df-201d8cf6-3650-4edb-9701-8f112a8e77fd')\"\n",
              "            title=\"Suggest charts\"\n",
              "            style=\"display:none;\">\n",
              "\n",
              "<svg xmlns=\"http://www.w3.org/2000/svg\" height=\"24px\"viewBox=\"0 0 24 24\"\n",
              "     width=\"24px\">\n",
              "    <g>\n",
              "        <path d=\"M19 3H5c-1.1 0-2 .9-2 2v14c0 1.1.9 2 2 2h14c1.1 0 2-.9 2-2V5c0-1.1-.9-2-2-2zM9 17H7v-7h2v7zm4 0h-2V7h2v10zm4 0h-2v-4h2v4z\"/>\n",
              "    </g>\n",
              "</svg>\n",
              "  </button>\n",
              "\n",
              "<style>\n",
              "  .colab-df-quickchart {\n",
              "      --bg-color: #E8F0FE;\n",
              "      --fill-color: #1967D2;\n",
              "      --hover-bg-color: #E2EBFA;\n",
              "      --hover-fill-color: #174EA6;\n",
              "      --disabled-fill-color: #AAA;\n",
              "      --disabled-bg-color: #DDD;\n",
              "  }\n",
              "\n",
              "  [theme=dark] .colab-df-quickchart {\n",
              "      --bg-color: #3B4455;\n",
              "      --fill-color: #D2E3FC;\n",
              "      --hover-bg-color: #434B5C;\n",
              "      --hover-fill-color: #FFFFFF;\n",
              "      --disabled-bg-color: #3B4455;\n",
              "      --disabled-fill-color: #666;\n",
              "  }\n",
              "\n",
              "  .colab-df-quickchart {\n",
              "    background-color: var(--bg-color);\n",
              "    border: none;\n",
              "    border-radius: 50%;\n",
              "    cursor: pointer;\n",
              "    display: none;\n",
              "    fill: var(--fill-color);\n",
              "    height: 32px;\n",
              "    padding: 0;\n",
              "    width: 32px;\n",
              "  }\n",
              "\n",
              "  .colab-df-quickchart:hover {\n",
              "    background-color: var(--hover-bg-color);\n",
              "    box-shadow: 0 1px 2px rgba(60, 64, 67, 0.3), 0 1px 3px 1px rgba(60, 64, 67, 0.15);\n",
              "    fill: var(--button-hover-fill-color);\n",
              "  }\n",
              "\n",
              "  .colab-df-quickchart-complete:disabled,\n",
              "  .colab-df-quickchart-complete:disabled:hover {\n",
              "    background-color: var(--disabled-bg-color);\n",
              "    fill: var(--disabled-fill-color);\n",
              "    box-shadow: none;\n",
              "  }\n",
              "\n",
              "  .colab-df-spinner {\n",
              "    border: 2px solid var(--fill-color);\n",
              "    border-color: transparent;\n",
              "    border-bottom-color: var(--fill-color);\n",
              "    animation:\n",
              "      spin 1s steps(1) infinite;\n",
              "  }\n",
              "\n",
              "  @keyframes spin {\n",
              "    0% {\n",
              "      border-color: transparent;\n",
              "      border-bottom-color: var(--fill-color);\n",
              "      border-left-color: var(--fill-color);\n",
              "    }\n",
              "    20% {\n",
              "      border-color: transparent;\n",
              "      border-left-color: var(--fill-color);\n",
              "      border-top-color: var(--fill-color);\n",
              "    }\n",
              "    30% {\n",
              "      border-color: transparent;\n",
              "      border-left-color: var(--fill-color);\n",
              "      border-top-color: var(--fill-color);\n",
              "      border-right-color: var(--fill-color);\n",
              "    }\n",
              "    40% {\n",
              "      border-color: transparent;\n",
              "      border-right-color: var(--fill-color);\n",
              "      border-top-color: var(--fill-color);\n",
              "    }\n",
              "    60% {\n",
              "      border-color: transparent;\n",
              "      border-right-color: var(--fill-color);\n",
              "    }\n",
              "    80% {\n",
              "      border-color: transparent;\n",
              "      border-right-color: var(--fill-color);\n",
              "      border-bottom-color: var(--fill-color);\n",
              "    }\n",
              "    90% {\n",
              "      border-color: transparent;\n",
              "      border-bottom-color: var(--fill-color);\n",
              "    }\n",
              "  }\n",
              "</style>\n",
              "\n",
              "  <script>\n",
              "    async function quickchart(key) {\n",
              "      const quickchartButtonEl =\n",
              "        document.querySelector('#' + key + ' button');\n",
              "      quickchartButtonEl.disabled = true;  // To prevent multiple clicks.\n",
              "      quickchartButtonEl.classList.add('colab-df-spinner');\n",
              "      try {\n",
              "        const charts = await google.colab.kernel.invokeFunction(\n",
              "            'suggestCharts', [key], {});\n",
              "      } catch (error) {\n",
              "        console.error('Error during call to suggestCharts:', error);\n",
              "      }\n",
              "      quickchartButtonEl.classList.remove('colab-df-spinner');\n",
              "      quickchartButtonEl.classList.add('colab-df-quickchart-complete');\n",
              "    }\n",
              "    (() => {\n",
              "      let quickchartButtonEl =\n",
              "        document.querySelector('#df-201d8cf6-3650-4edb-9701-8f112a8e77fd button');\n",
              "      quickchartButtonEl.style.display =\n",
              "        google.colab.kernel.accessAllowed ? 'block' : 'none';\n",
              "    })();\n",
              "  </script>\n",
              "</div>\n",
              "\n",
              "    </div>\n",
              "  </div>\n"
            ],
            "application/vnd.google.colaboratory.intrinsic+json": {
              "type": "dataframe",
              "variable_name": "df"
            }
          },
          "metadata": {},
          "execution_count": 2
        }
      ]
    },
    {
      "cell_type": "code",
      "source": [
        "sns.heatmap(df.isnull(), cbar=False)"
      ],
      "metadata": {
        "colab": {
          "base_uri": "https://localhost:8080/",
          "height": 606
        },
        "id": "NMtrHal5fQDM",
        "outputId": "48b5f62b-8b66-4d98-f9b2-3bad3fbbd119"
      },
      "execution_count": 3,
      "outputs": [
        {
          "output_type": "execute_result",
          "data": {
            "text/plain": [
              "<Axes: >"
            ]
          },
          "metadata": {},
          "execution_count": 3
        },
        {
          "output_type": "display_data",
          "data": {
            "text/plain": [
              "<Figure size 640x480 with 1 Axes>"
            ],
            "image/png": "[encoded data removed]"
          },
          "metadata": {}
        }
      ]
    },
    {
      "cell_type": "code",
      "source": [
        "df['id_number'] = df['id_seqpos'].apply(lambda x: re.search(r'_(\\d+)$', x).group(1)).apply(lambda x: int(x))\n",
        "df['seqRow'] = df['b5_sequence'] + df['b4_sequence'] + df['b3_sequence'] + df['b2_sequence'] + df['b1_sequence'] + df['sequence'] + df['a1_sequence'] + df['a2_sequence'] + df['a3_sequence'] + df['a4_sequence'] + df['a5_sequence']\n",
        "df['structureRow'] = df['b5_structure'] + df['b4_structure'] + df['b3_structure'] + df['b2_structure'] + df['b1_structure'] + df['structure'] + df['a1_structure'] + df['a2_structure'] + df['a3_structure'] + df['a4_structure'] + df['a5_structure']\n",
        "df.head(2)\n"
      ],
      "metadata": {
        "colab": {
          "base_uri": "https://localhost:8080/",
          "height": 161
        },
        "id": "ctlKHTTsfSMm",
        "outputId": "cf4dc117-7e00-446a-a54c-454f55ab4d4d"
      },
      "execution_count": 4,
      "outputs": [
        {
          "output_type": "execute_result",
          "data": {
            "text/plain": [
              "             id        id_seqpos sequence structure predicted_loop_type  \\\n",
              "0  id_159f0ff46  id_159f0ff46_44        A         .                   H   \n",
              "1  id_d73546f4e  id_d73546f4e_38        G         .                   I   \n",
              "\n",
              "   reactivity  reactivity_error  deg_Mg_pH10  deg_error_Mg_pH10  deg_pH10  \\\n",
              "0      1.7786            0.1195       0.7346             0.0790    0.3680   \n",
              "1      0.4397            0.1033       0.1630             0.0799    0.0878   \n",
              "\n",
              "   ...  a4_predicted_loop_type  b5_sequence  a5_sequence  b5_structure  \\\n",
              "0  ...                       S            C            A             .   \n",
              "1  ...                       H            C            C             .   \n",
              "\n",
              "   a5_structure b5_predicted_loop_type a5_predicted_loop_type id_number  \\\n",
              "0             )                      I                      S        44   \n",
              "1             .                      B                      H        38   \n",
              "\n",
              "        seqRow structureRow  \n",
              "0  CGUGCAUCGCA  .((((...)))  \n",
              "1  CGACGGACGUC  .((((..((..  \n",
              "\n",
              "[2 rows x 48 columns]"
            ],
            "text/html": [
              "\n",
              "  <div id=\"df-cdb0446c-8355-41d5-8f21-97e83ff9e8cd\" class=\"colab-df-container\">\n",
              "    <div>\n",
              "<style scoped>\n",
              "    .dataframe tbody tr th:only-of-type {\n",
              "        vertical-align: middle;\n",
              "    }\n",
              "\n",
              "    .dataframe tbody tr th {\n",
              "        vertical-align: top;\n",
              "    }\n",
              "\n",
              "    .dataframe thead th {\n",
              "        text-align: right;\n",
              "    }\n",
              "</style>\n",
              "<table border=\"1\" class=\"dataframe\">\n",
              "  <thead>\n",
              "    <tr style=\"text-align: right;\">\n",
              "      <th></th>\n",
              "      <th>id</th>\n",
              "      <th>id_seqpos</th>\n",
              "      <th>sequence</th>\n",
              "      <th>structure</th>\n",
              "      <th>predicted_loop_type</th>\n",
              "      <th>reactivity</th>\n",
              "      <th>reactivity_error</th>\n",
              "      <th>deg_Mg_pH10</th>\n",
              "      <th>deg_error_Mg_pH10</th>\n",
              "      <th>deg_pH10</th>\n",
              "      <th>...</th>\n",
              "      <th>a4_predicted_loop_type</th>\n",
              "      <th>b5_sequence</th>\n",
              "      <th>a5_sequence</th>\n",
              "      <th>b5_structure</th>\n",
              "      <th>a5_structure</th>\n",
              "      <th>b5_predicted_loop_type</th>\n",
              "      <th>a5_predicted_loop_type</th>\n",
              "      <th>id_number</th>\n",
              "      <th>seqRow</th>\n",
              "      <th>structureRow</th>\n",
              "    </tr>\n",
              "  </thead>\n",
              "  <tbody>\n",
              "    <tr>\n",
              "      <th>0</th>\n",
              "      <td>id_159f0ff46</td>\n",
              "      <td>id_159f0ff46_44</td>\n",
              "      <td>A</td>\n",
              "      <td>.</td>\n",
              "      <td>H</td>\n",
              "      <td>1.7786</td>\n",
              "      <td>0.1195</td>\n",
              "      <td>0.7346</td>\n",
              "      <td>0.0790</td>\n",
              "      <td>0.3680</td>\n",
              "      <td>...</td>\n",
              "      <td>S</td>\n",
              "      <td>C</td>\n",
              "      <td>A</td>\n",
              "      <td>.</td>\n",
              "      <td>)</td>\n",
              "      <td>I</td>\n",
              "      <td>S</td>\n",
              "      <td>44</td>\n",
              "      <td>CGUGCAUCGCA</td>\n",
              "      <td>.((((...)))</td>\n",
              "    </tr>\n",
              "    <tr>\n",
              "      <th>1</th>\n",
              "      <td>id_d73546f4e</td>\n",
              "      <td>id_d73546f4e_38</td>\n",
              "      <td>G</td>\n",
              "      <td>.</td>\n",
              "      <td>I</td>\n",
              "      <td>0.4397</td>\n",
              "      <td>0.1033</td>\n",
              "      <td>0.1630</td>\n",
              "      <td>0.0799</td>\n",
              "      <td>0.0878</td>\n",
              "      <td>...</td>\n",
              "      <td>H</td>\n",
              "      <td>C</td>\n",
              "      <td>C</td>\n",
              "      <td>.</td>\n",
              "      <td>.</td>\n",
              "      <td>B</td>\n",
              "      <td>H</td>\n",
              "      <td>38</td>\n",
              "      <td>CGACGGACGUC</td>\n",
              "      <td>.((((..((..</td>\n",
              "    </tr>\n",
              "  </tbody>\n",
              "</table>\n",
              "<p>2 rows × 48 columns</p>\n",
              "</div>\n",
              "    <div class=\"colab-df-buttons\">\n",
              "\n",
              "  <div class=\"colab-df-container\">\n",
              "    <button class=\"colab-df-convert\" onclick=\"convertToInteractive('df-cdb0446c-8355-41d5-8f21-97e83ff9e8cd')\"\n",
              "            title=\"Convert this dataframe to an interactive table.\"\n",
              "            style=\"display:none;\">\n",
              "\n",
              "  <svg xmlns=\"http://www.w3.org/2000/svg\" height=\"24px\" viewBox=\"0 -960 960 960\">\n",
              "    <path d=\"M120-120v-720h720v720H120Zm60-500h600v-160H180v160Zm220 220h160v-160H400v160Zm0 220h160v-160H400v160ZM180-400h160v-160H180v160Zm440 0h160v-160H620v160ZM180-180h160v-160H180v160Zm440 0h160v-160H620v160Z\"/>\n",
              "  </svg>\n",
              "    </button>\n",
              "\n",
              "  <style>\n",
              "    .colab-df-container {\n",
              "      display:flex;\n",
              "      gap: 12px;\n",
              "    }\n",
              "\n",
              "    .colab-df-convert {\n",
              "      background-color: #E8F0FE;\n",
              "      border: none;\n",
              "      border-radius: 50%;\n",
              "      cursor: pointer;\n",
              "      display: none;\n",
              "      fill: #1967D2;\n",
              "      height: 32px;\n",
              "      padding: 0 0 0 0;\n",
              "      width: 32px;\n",
              "    }\n",
              "\n",
              "    .colab-df-convert:hover {\n",
              "      background-color: #E2EBFA;\n",
              "      box-shadow: 0px 1px 2px rgba(60, 64, 67, 0.3), 0px 1px 3px 1px rgba(60, 64, 67, 0.15);\n",
              "      fill: #174EA6;\n",
              "    }\n",
              "\n",
              "    .colab-df-buttons div {\n",
              "      margin-bottom: 4px;\n",
              "    }\n",
              "\n",
              "    [theme=dark] .colab-df-convert {\n",
              "      background-color: #3B4455;\n",
              "      fill: #D2E3FC;\n",
              "    }\n",
              "\n",
              "    [theme=dark] .colab-df-convert:hover {\n",
              "      background-color: #434B5C;\n",
              "      box-shadow: 0px 1px 3px 1px rgba(0, 0, 0, 0.15);\n",
              "      filter: drop-shadow(0px 1px 2px rgba(0, 0, 0, 0.3));\n",
              "      fill: #FFFFFF;\n",
              "    }\n",
              "  </style>\n",
              "\n",
              "    <script>\n",
              "      const buttonEl =\n",
              "        document.querySelector('#df-cdb0446c-8355-41d5-8f21-97e83ff9e8cd button.colab-df-convert');\n",
              "      buttonEl.style.display =\n",
              "        google.colab.kernel.accessAllowed ? 'block' : 'none';\n",
              "\n",
              "      async function convertToInteractive(key) {\n",
              "        const element = document.querySelector('#df-cdb0446c-8355-41d5-8f21-97e83ff9e8cd');\n",
              "        const dataTable =\n",
              "          await google.colab.kernel.invokeFunction('convertToInteractive',\n",
              "                                                    [key], {});\n",
              "        if (!dataTable) return;\n",
              "\n",
              "        const docLinkHtml = 'Like what you see? Visit the ' +\n",
              "          '<a target=\"_blank\" href=https://colab.research.google.com/notebooks/data_table.ipynb>data table notebook</a>'\n",
              "          + ' to learn more about interactive tables.';\n",
              "        element.innerHTML = '';\n",
              "        dataTable['output_type'] = 'display_data';\n",
              "        await google.colab.output.renderOutput(dataTable, element);\n",
              "        const docLink = document.createElement('div');\n",
              "        docLink.innerHTML = docLinkHtml;\n",
              "        element.appendChild(docLink);\n",
              "      }\n",
              "    </script>\n",
              "  </div>\n",
              "\n",
              "\n",
              "<div id=\"df-c34e4129-f911-404f-a0b1-ea4c0eecafe3\">\n",
              "  <button class=\"colab-df-quickchart\" onclick=\"quickchart('df-c34e4129-f911-404f-a0b1-ea4c0eecafe3')\"\n",
              "            title=\"Suggest charts\"\n",
              "            style=\"display:none;\">\n",
              "\n",
              "<svg xmlns=\"http://www.w3.org/2000/svg\" height=\"24px\"viewBox=\"0 0 24 24\"\n",
              "     width=\"24px\">\n",
              "    <g>\n",
              "        <path d=\"M19 3H5c-1.1 0-2 .9-2 2v14c0 1.1.9 2 2 2h14c1.1 0 2-.9 2-2V5c0-1.1-.9-2-2-2zM9 17H7v-7h2v7zm4 0h-2V7h2v10zm4 0h-2v-4h2v4z\"/>\n",
              "    </g>\n",
              "</svg>\n",
              "  </button>\n",
              "\n",
              "<style>\n",
              "  .colab-df-quickchart {\n",
              "      --bg-color: #E8F0FE;\n",
              "      --fill-color: #1967D2;\n",
              "      --hover-bg-color: #E2EBFA;\n",
              "      --hover-fill-color: #174EA6;\n",
              "      --disabled-fill-color: #AAA;\n",
              "      --disabled-bg-color: #DDD;\n",
              "  }\n",
              "\n",
              "  [theme=dark] .colab-df-quickchart {\n",
              "      --bg-color: #3B4455;\n",
              "      --fill-color: #D2E3FC;\n",
              "      --hover-bg-color: #434B5C;\n",
              "      --hover-fill-color: #FFFFFF;\n",
              "      --disabled-bg-color: #3B4455;\n",
              "      --disabled-fill-color: #666;\n",
              "  }\n",
              "\n",
              "  .colab-df-quickchart {\n",
              "    background-color: var(--bg-color);\n",
              "    border: none;\n",
              "    border-radius: 50%;\n",
              "    cursor: pointer;\n",
              "    display: none;\n",
              "    fill: var(--fill-color);\n",
              "    height: 32px;\n",
              "    padding: 0;\n",
              "    width: 32px;\n",
              "  }\n",
              "\n",
              "  .colab-df-quickchart:hover {\n",
              "    background-color: var(--hover-bg-color);\n",
              "    box-shadow: 0 1px 2px rgba(60, 64, 67, 0.3), 0 1px 3px 1px rgba(60, 64, 67, 0.15);\n",
              "    fill: var(--button-hover-fill-color);\n",
              "  }\n",
              "\n",
              "  .colab-df-quickchart-complete:disabled,\n",
              "  .colab-df-quickchart-complete:disabled:hover {\n",
              "    background-color: var(--disabled-bg-color);\n",
              "    fill: var(--disabled-fill-color);\n",
              "    box-shadow: none;\n",
              "  }\n",
              "\n",
              "  .colab-df-spinner {\n",
              "    border: 2px solid var(--fill-color);\n",
              "    border-color: transparent;\n",
              "    border-bottom-color: var(--fill-color);\n",
              "    animation:\n",
              "      spin 1s steps(1) infinite;\n",
              "  }\n",
              "\n",
              "  @keyframes spin {\n",
              "    0% {\n",
              "      border-color: transparent;\n",
              "      border-bottom-color: var(--fill-color);\n",
              "      border-left-color: var(--fill-color);\n",
              "    }\n",
              "    20% {\n",
              "      border-color: transparent;\n",
              "      border-left-color: var(--fill-color);\n",
              "      border-top-color: var(--fill-color);\n",
              "    }\n",
              "    30% {\n",
              "      border-color: transparent;\n",
              "      border-left-color: var(--fill-color);\n",
              "      border-top-color: var(--fill-color);\n",
              "      border-right-color: var(--fill-color);\n",
              "    }\n",
              "    40% {\n",
              "      border-color: transparent;\n",
              "      border-right-color: var(--fill-color);\n",
              "      border-top-color: var(--fill-color);\n",
              "    }\n",
              "    60% {\n",
              "      border-color: transparent;\n",
              "      border-right-color: var(--fill-color);\n",
              "    }\n",
              "    80% {\n",
              "      border-color: transparent;\n",
              "      border-right-color: var(--fill-color);\n",
              "      border-bottom-color: var(--fill-color);\n",
              "    }\n",
              "    90% {\n",
              "      border-color: transparent;\n",
              "      border-bottom-color: var(--fill-color);\n",
              "    }\n",
              "  }\n",
              "</style>\n",
              "\n",
              "  <script>\n",
              "    async function quickchart(key) {\n",
              "      const quickchartButtonEl =\n",
              "        document.querySelector('#' + key + ' button');\n",
              "      quickchartButtonEl.disabled = true;  // To prevent multiple clicks.\n",
              "      quickchartButtonEl.classList.add('colab-df-spinner');\n",
              "      try {\n",
              "        const charts = await google.colab.kernel.invokeFunction(\n",
              "            'suggestCharts', [key], {});\n",
              "      } catch (error) {\n",
              "        console.error('Error during call to suggestCharts:', error);\n",
              "      }\n",
              "      quickchartButtonEl.classList.remove('colab-df-spinner');\n",
              "      quickchartButtonEl.classList.add('colab-df-quickchart-complete');\n",
              "    }\n",
              "    (() => {\n",
              "      let quickchartButtonEl =\n",
              "        document.querySelector('#df-c34e4129-f911-404f-a0b1-ea4c0eecafe3 button');\n",
              "      quickchartButtonEl.style.display =\n",
              "        google.colab.kernel.accessAllowed ? 'block' : 'none';\n",
              "    })();\n",
              "  </script>\n",
              "</div>\n",
              "\n",
              "    </div>\n",
              "  </div>\n"
            ],
            "application/vnd.google.colaboratory.intrinsic+json": {
              "type": "dataframe",
              "variable_name": "df"
            }
          },
          "metadata": {},
          "execution_count": 4
        }
      ]
    },
    {
      "cell_type": "markdown",
      "source": [
        "### sequence"
      ],
      "metadata": {
        "id": "oqrmnDWyfgaU"
      }
    },
    {
      "cell_type": "code",
      "source": [
        "full_sequence = {}\n",
        "for id in df['id'].unique():\n",
        "    sample = df[df['id']==id].sort_values('id_number')\n",
        "    q={}\n",
        "    for index, row in sample.iterrows():\n",
        "        q[row['id_number']] = row['sequence']\n",
        "\n",
        "    for i in range(0, 72):\n",
        "        try:\n",
        "            if i in q.keys():\n",
        "                pass\n",
        "            else:\n",
        "                if i+1 in q.keys() and i < 68:\n",
        "                    q[i] = sample[sample['id_number']==i+1]['b1_sequence'].values[0]\n",
        "                else:\n",
        "                    if i+2 in q.keys() and i + 2 < 68:\n",
        "                        q[i] = q[i] = sample[sample['id_number']==i+2]['b2_sequence'].values[0]\n",
        "                        q[i+1] = sample[sample['id_number']==i+2]['b1_sequence'].values[0]\n",
        "                    else:\n",
        "                        if i+3 in q.keys() and i + 3 < 68:\n",
        "\n",
        "                            q[i] = sample[sample['id_number']==i+3]['b3_sequence'].values[0]\n",
        "                            q[i+1] = sample[sample['id_number']==i+3]['b2_sequence'].values[0]\n",
        "                            q[i+2] = sample[sample['id_number']==i+3]['b1_sequence'].values[0]\n",
        "                        else:\n",
        "                            if i+4 in q.keys() and i + 4 < 68:\n",
        "\n",
        "                                q[i] = sample[sample['id_number']==i+4]['b4_sequence'].values[0]\n",
        "                                q[i+1] = sample[sample['id_number']==i+4]['b3_sequence'].values[0]\n",
        "                                q[i+2] = sample[sample['id_number']==i+4]['b2_sequence'].values[0]\n",
        "                                q[i+3] = sample[sample['id_number']==i+4]['b1_sequence'].values[0]\n",
        "                            else:\n",
        "                                if i+5 in q.keys() and i + 5 < 68:\n",
        "\n",
        "                                    q[i] = sample[sample['id_number']==i+5]['b5_sequence'].values[0]\n",
        "                                    q[i+1] = sample[sample['id_number']==i+5]['b4_sequence'].values[0]\n",
        "                                    q[i+2] = sample[sample['id_number']==i+5]['b3_sequence'].values[0]\n",
        "                                    q[i+3] = sample[sample['id_number']==i+5]['b2_sequence'].values[0]\n",
        "                                    q[i+4] = sample[sample['id_number']==i+5]['b1_sequence'].values[0]\n",
        "                                else:\n",
        "                                    pass\n",
        "        except:\n",
        "            pass\n",
        "\n",
        "\n",
        "    if 63 not in q.keys():\n",
        "        if not sample[sample['id_number']==62].empty:\n",
        "            q[63] = sample[sample['id_number']==62]['a1_sequence'].values[0]\n",
        "        elif not sample[sample['id_number']==61].empty:\n",
        "            q[63] = sample[sample['id_number']==61]['a2_sequence'].values[0]\n",
        "        elif not sample[sample['id_number']==60].empty:\n",
        "            q[63] = sample[sample['id_number']==60]['a3_sequence'].values[0]\n",
        "        elif not sample[sample['id_number']==59].empty:\n",
        "            q[63] = sample[sample['id_number']==59]['a4_sequence'].values[0]\n",
        "        else:\n",
        "            q[63] = sample[sample['id_number']==58]['a5_sequence'].values[0]\n",
        "\n",
        "    if 64 not in q.keys():\n",
        "        if not sample[sample['id_number']==63].empty:\n",
        "            q[64] = sample[sample['id_number']==63]['a1_sequence'].values[0]\n",
        "        elif not sample[sample['id_number']==62].empty:\n",
        "            q[64] = sample[sample['id_number']==62]['a2_sequence'].values[0]\n",
        "        elif not sample[sample['id_number']==61].empty:\n",
        "            q[64] = sample[sample['id_number']==61]['a3_sequence'].values[0]\n",
        "        elif not sample[sample['id_number']==60].empty:\n",
        "            q[64] = sample[sample['id_number']==60]['a4_sequence'].values[0]\n",
        "        else:\n",
        "            q[64] = sample[sample['id_number']==59]['a5_sequence'].values[0]\n",
        "\n",
        "    if 65 not in q.keys():\n",
        "        if not sample[sample['id_number']==64].empty:\n",
        "            q[65] = sample[sample['id_number']==64]['a1_sequence'].values[0]\n",
        "        elif not sample[sample['id_number']==63].empty:\n",
        "            q[65] = sample[sample['id_number']==63]['a2_sequence'].values[0]\n",
        "        elif not sample[sample['id_number']==62].empty:\n",
        "            q[65] = sample[sample['id_number']==62]['a3_sequence'].values[0]\n",
        "        elif not sample[sample['id_number']==61].empty:\n",
        "            q[65] = sample[sample['id_number']==61]['a4_sequence'].values[0]\n",
        "        else:\n",
        "            q[65] = sample[sample['id_number']==60]['a5_sequence'].values[0]\n",
        "\n",
        "    if 66 not in q.keys():\n",
        "        if not sample[sample['id_number']==64].empty:\n",
        "            q[66] = sample[sample['id_number']==64]['a1_sequence'].values[0]\n",
        "        elif not sample[sample['id_number']==63].empty:\n",
        "            q[66] = sample[sample['id_number']==63]['a2_sequence'].values[0]\n",
        "        elif not sample[sample['id_number']==62].empty:\n",
        "            q[66] = sample[sample['id_number']==62]['a3_sequence'].values[0]\n",
        "        elif not sample[sample['id_number']==61].empty:\n",
        "            q[66] = sample[sample['id_number']==61]['a4_sequence'].values[0]\n",
        "        else:\n",
        "            q[66] = sample[sample['id_number']==60]['a5_sequence'].values[0]\n",
        "\n",
        "    if 67 not in q.keys():\n",
        "        if not sample[sample['id_number']==66].empty:\n",
        "            q[67] = sample[sample['id_number']==66]['a1_sequence'].values[0]\n",
        "        elif not sample[sample['id_number']==65].empty:\n",
        "            q[67] = sample[sample['id_number']==65]['a2_sequence'].values[0]\n",
        "        elif not sample[sample['id_number']==64].empty:\n",
        "            q[67] = sample[sample['id_number']==64]['a3_sequence'].values[0]\n",
        "        elif not sample[sample['id_number']==63].empty:\n",
        "            q[67] = sample[sample['id_number']==63]['a4_sequence'].values[0]\n",
        "        else:\n",
        "            q[67] = sample[sample['id_number']==62]['a5_sequence'].values[0]\n",
        "\n",
        "\n",
        "    if not sample[sample['id_number']==67].empty:\n",
        "        q[67] = q[67]+sample[sample['id_number']==67]['a1_sequence'].values[0]\n",
        "    elif not sample[sample['id_number']==66].empty:\n",
        "        q[67] = q[67]+sample[sample['id_number']==66]['a2_sequence'].values[0]\n",
        "    elif not sample[sample['id_number']==65].empty:\n",
        "        q[67] = q[67]+sample[sample['id_number']==65]['a3_sequence'].values[0]\n",
        "    elif not sample[sample['id_number']==64].empty:\n",
        "        q[67] = q[67]+sample[sample['id_number']==64]['a4_sequence'].values[0]\n",
        "    else:\n",
        "        q[67] = q[67]+sample[sample['id_number']==63]['a5_sequence'].values[0]\n",
        "\n",
        "\n",
        "    sorted_sample = {k: q[k] for k in sorted(q)}\n",
        "    concatenated_string = ''.join(sorted_sample.values())\n",
        "    full_sequence[id] = concatenated_string"
      ],
      "metadata": {
        "id": "c8sYxKiPirb3"
      },
      "execution_count": 5,
      "outputs": []
    },
    {
      "cell_type": "markdown",
      "source": [
        "### Structure"
      ],
      "metadata": {
        "id": "xClDQqYzLkdo"
      }
    },
    {
      "cell_type": "code",
      "source": [
        "full_structure = {}\n",
        "for id in df['id'].unique():\n",
        "    sample = df[df['id']==id].sort_values('id_number')\n",
        "    q={}\n",
        "    for index, row in sample.iterrows():\n",
        "        q[row['id_number']] = row['structure']\n",
        "\n",
        "    for i in range(0, 72):\n",
        "        try:\n",
        "            if i in q.keys():\n",
        "                pass\n",
        "            else:\n",
        "                if i+1 in q.keys() and i < 68:\n",
        "                    q[i] = sample[sample['id_number']==i+1]['b1_structure'].values[0]\n",
        "                else:\n",
        "                    if i+2 in q.keys() and i + 2 < 68:\n",
        "                        q[i] = q[i] = sample[sample['id_number']==i+2]['b2_structure'].values[0]\n",
        "                        q[i+1] = sample[sample['id_number']==i+2]['b1_structure'].values[0]\n",
        "                    else:\n",
        "                        if i+3 in q.keys() and i + 3 < 68:\n",
        "\n",
        "                            q[i] = sample[sample['id_number']==i+3]['b3_structure'].values[0]\n",
        "                            q[i+1] = sample[sample['id_number']==i+3]['b2_structure'].values[0]\n",
        "                            q[i+2] = sample[sample['id_number']==i+3]['b1_structure'].values[0]\n",
        "                        else:\n",
        "                            if i+4 in q.keys() and i + 4 < 68:\n",
        "\n",
        "                                q[i] = sample[sample['id_number']==i+4]['b4_structure'].values[0]\n",
        "                                q[i+1] = sample[sample['id_number']==i+4]['b3_structure'].values[0]\n",
        "                                q[i+2] = sample[sample['id_number']==i+4]['b2_structure'].values[0]\n",
        "                                q[i+3] = sample[sample['id_number']==i+4]['b1_structure'].values[0]\n",
        "                            else:\n",
        "                                if i+5 in q.keys() and i + 5 < 68:\n",
        "\n",
        "                                    q[i] = sample[sample['id_number']==i+5]['b5_structure'].values[0]\n",
        "                                    q[i+1] = sample[sample['id_number']==i+5]['b4_structure'].values[0]\n",
        "                                    q[i+2] = sample[sample['id_number']==i+5]['b3_structure'].values[0]\n",
        "                                    q[i+3] = sample[sample['id_number']==i+5]['b2_structure'].values[0]\n",
        "                                    q[i+4] = sample[sample['id_number']==i+5]['b1_structure'].values[0]\n",
        "                                else:\n",
        "                                    pass\n",
        "        except:\n",
        "            pass\n",
        "\n",
        "\n",
        "    if 63 not in q.keys():\n",
        "        if not sample[sample['id_number']==62].empty:\n",
        "            q[63] = sample[sample['id_number']==62]['a1_structure'].values[0]\n",
        "        elif not sample[sample['id_number']==61].empty:\n",
        "            q[63] = sample[sample['id_number']==61]['a2_structure'].values[0]\n",
        "        elif not sample[sample['id_number']==60].empty:\n",
        "            q[63] = sample[sample['id_number']==60]['a3_structure'].values[0]\n",
        "        elif not sample[sample['id_number']==59].empty:\n",
        "            q[63] = sample[sample['id_number']==59]['a4_structure'].values[0]\n",
        "        else:\n",
        "            q[63] = sample[sample['id_number']==58]['a5_structure'].values[0]\n",
        "\n",
        "    if 64 not in q.keys():\n",
        "        if not sample[sample['id_number']==63].empty:\n",
        "            q[64] = sample[sample['id_number']==63]['a1_structure'].values[0]\n",
        "        elif not sample[sample['id_number']==62].empty:\n",
        "            q[64] = sample[sample['id_number']==62]['a2_structure'].values[0]\n",
        "        elif not sample[sample['id_number']==61].empty:\n",
        "            q[64] = sample[sample['id_number']==61]['a3_structure'].values[0]\n",
        "        elif not sample[sample['id_number']==60].empty:\n",
        "            q[64] = sample[sample['id_number']==60]['a4_structure'].values[0]\n",
        "        else:\n",
        "            q[64] = sample[sample['id_number']==59]['a5_structure'].values[0]\n",
        "\n",
        "    if 65 not in q.keys():\n",
        "        if not sample[sample['id_number']==64].empty:\n",
        "            q[65] = sample[sample['id_number']==64]['a1_structure'].values[0]\n",
        "        elif not sample[sample['id_number']==63].empty:\n",
        "            q[65] = sample[sample['id_number']==63]['a2_structure'].values[0]\n",
        "        elif not sample[sample['id_number']==62].empty:\n",
        "            q[65] = sample[sample['id_number']==62]['a3_structure'].values[0]\n",
        "        elif not sample[sample['id_number']==61].empty:\n",
        "            q[65] = sample[sample['id_number']==61]['a4_structure'].values[0]\n",
        "        else:\n",
        "            q[65] = sample[sample['id_number']==60]['a5_structure'].values[0]\n",
        "\n",
        "    if 66 not in q.keys():\n",
        "        if not sample[sample['id_number']==64].empty:\n",
        "            q[66] = sample[sample['id_number']==64]['a1_structure'].values[0]\n",
        "        elif not sample[sample['id_number']==63].empty:\n",
        "            q[66] = sample[sample['id_number']==63]['a2_structure'].values[0]\n",
        "        elif not sample[sample['id_number']==62].empty:\n",
        "            q[66] = sample[sample['id_number']==62]['a3_structure'].values[0]\n",
        "        elif not sample[sample['id_number']==61].empty:\n",
        "            q[66] = sample[sample['id_number']==61]['a4_structure'].values[0]\n",
        "        else:\n",
        "            q[66] = sample[sample['id_number']==60]['a5_structure'].values[0]\n",
        "\n",
        "    if 67 not in q.keys():\n",
        "        if not sample[sample['id_number']==66].empty:\n",
        "            q[67] = sample[sample['id_number']==66]['a1_structure'].values[0]\n",
        "        elif not sample[sample['id_number']==65].empty:\n",
        "            q[67] = sample[sample['id_number']==65]['a2_structure'].values[0]\n",
        "        elif not sample[sample['id_number']==64].empty:\n",
        "            q[67] = sample[sample['id_number']==64]['a3_structure'].values[0]\n",
        "        elif not sample[sample['id_number']==63].empty:\n",
        "            q[67] = sample[sample['id_number']==63]['a4_structure'].values[0]\n",
        "        else:\n",
        "            q[67] = sample[sample['id_number']==62]['a5_structure'].values[0]\n",
        "\n",
        "\n",
        "    if not sample[sample['id_number']==67].empty:\n",
        "        q[67] = q[67]+sample[sample['id_number']==67]['a1_structure'].values[0]\n",
        "    elif not sample[sample['id_number']==66].empty:\n",
        "        q[67] = q[67]+sample[sample['id_number']==66]['a2_structure'].values[0]\n",
        "    elif not sample[sample['id_number']==65].empty:\n",
        "        q[67] = q[67]+sample[sample['id_number']==65]['a3_structure'].values[0]\n",
        "    elif not sample[sample['id_number']==64].empty:\n",
        "        q[67] = q[67]+sample[sample['id_number']==64]['a4_structure'].values[0]\n",
        "    else:\n",
        "        q[67] = q[67]+sample[sample['id_number']==63]['a5_structure'].values[0]\n",
        "\n",
        "\n",
        "    sorted_sample = {k: q[k] for k in sorted(q)}\n",
        "    concatenated_string = ''.join(sorted_sample.values())\n",
        "    full_structure[id] = concatenated_string"
      ],
      "metadata": {
        "id": "8yZ23FC9ycqs"
      },
      "execution_count": 6,
      "outputs": []
    },
    {
      "cell_type": "markdown",
      "source": [
        "### predicted loop"
      ],
      "metadata": {
        "id": "_twro7NAQsad"
      }
    },
    {
      "cell_type": "code",
      "source": [
        "predicted_loop = {}\n",
        "for id in df['id'].unique():\n",
        "    sample = df[df['id']==id].sort_values('id_number')\n",
        "    q={}\n",
        "    for index, row in sample.iterrows():\n",
        "        q[row['id_number']] = row['predicted_loop_type']\n",
        "\n",
        "    for i in range(0, 72):\n",
        "        try:\n",
        "            if i in q.keys():\n",
        "                pass\n",
        "            else:\n",
        "                if i+1 in q.keys() and i < 68:\n",
        "                    q[i] = sample[sample['id_number']==i+1]['b1_predicted_loop_type'].values[0]\n",
        "                else:\n",
        "                    if i+2 in q.keys() and i + 2 < 68:\n",
        "                        q[i] = q[i] = sample[sample['id_number']==i+2]['b2_predicted_loop_type'].values[0]\n",
        "                        q[i+1] = sample[sample['id_number']==i+2]['b1_predicted_loop_type'].values[0]\n",
        "                    else:\n",
        "                        if i+3 in q.keys() and i + 3 < 68:\n",
        "\n",
        "                            q[i] = sample[sample['id_number']==i+3]['b3_predicted_loop_type'].values[0]\n",
        "                            q[i+1] = sample[sample['id_number']==i+3]['b2_predicted_loop_type'].values[0]\n",
        "                            q[i+2] = sample[sample['id_number']==i+3]['b1_predicted_loop_type'].values[0]\n",
        "                        else:\n",
        "                            if i+4 in q.keys() and i + 4 < 68:\n",
        "\n",
        "                                q[i] = sample[sample['id_number']==i+4]['b4_predicted_loop_type'].values[0]\n",
        "                                q[i+1] = sample[sample['id_number']==i+4]['b3_predicted_loop_type'].values[0]\n",
        "                                q[i+2] = sample[sample['id_number']==i+4]['b2_predicted_loop_type'].values[0]\n",
        "                                q[i+3] = sample[sample['id_number']==i+4]['b1_predicted_loop_type'].values[0]\n",
        "                            else:\n",
        "                                if i+5 in q.keys() and i + 5 < 68:\n",
        "\n",
        "                                    q[i] = sample[sample['id_number']==i+5]['b5_predicted_loop_type'].values[0]\n",
        "                                    q[i+1] = sample[sample['id_number']==i+5]['b4_predicted_loop_type'].values[0]\n",
        "                                    q[i+2] = sample[sample['id_number']==i+5]['b3_predicted_loop_type'].values[0]\n",
        "                                    q[i+3] = sample[sample['id_number']==i+5]['b2_predicted_loop_type'].values[0]\n",
        "                                    q[i+4] = sample[sample['id_number']==i+5]['b1_predicted_loop_type'].values[0]\n",
        "                                else:\n",
        "                                    pass\n",
        "        except:\n",
        "            pass\n",
        "\n",
        "\n",
        "    if 63 not in q.keys():\n",
        "        if not sample[sample['id_number']==62].empty:\n",
        "            q[63] = sample[sample['id_number']==62]['a1_predicted_loop_type'].values[0]\n",
        "        elif not sample[sample['id_number']==61].empty:\n",
        "            q[63] = sample[sample['id_number']==61]['a2_predicted_loop_type'].values[0]\n",
        "        elif not sample[sample['id_number']==60].empty:\n",
        "            q[63] = sample[sample['id_number']==60]['a3_predicted_loop_type'].values[0]\n",
        "        elif not sample[sample['id_number']==59].empty:\n",
        "            q[63] = sample[sample['id_number']==59]['a4_predicted_loop_type'].values[0]\n",
        "        else:\n",
        "            q[63] = sample[sample['id_number']==58]['a5_predicted_loop_type'].values[0]\n",
        "\n",
        "    if 64 not in q.keys():\n",
        "        if not sample[sample['id_number']==63].empty:\n",
        "            q[64] = sample[sample['id_number']==63]['a1_predicted_loop_type'].values[0]\n",
        "        elif not sample[sample['id_number']==62].empty:\n",
        "            q[64] = sample[sample['id_number']==62]['a2_predicted_loop_type'].values[0]\n",
        "        elif not sample[sample['id_number']==61].empty:\n",
        "            q[64] = sample[sample['id_number']==61]['a3_predicted_loop_type'].values[0]\n",
        "        elif not sample[sample['id_number']==60].empty:\n",
        "            q[64] = sample[sample['id_number']==60]['a4_predicted_loop_type'].values[0]\n",
        "        else:\n",
        "            q[64] = sample[sample['id_number']==59]['a5_predicted_loop_type'].values[0]\n",
        "\n",
        "    if 65 not in q.keys():\n",
        "        if not sample[sample['id_number']==64].empty:\n",
        "            q[65] = sample[sample['id_number']==64]['a1_predicted_loop_type'].values[0]\n",
        "        elif not sample[sample['id_number']==63].empty:\n",
        "            q[65] = sample[sample['id_number']==63]['a2_predicted_loop_type'].values[0]\n",
        "        elif not sample[sample['id_number']==62].empty:\n",
        "            q[65] = sample[sample['id_number']==62]['a3_predicted_loop_type'].values[0]\n",
        "        elif not sample[sample['id_number']==61].empty:\n",
        "            q[65] = sample[sample['id_number']==61]['a4_predicted_loop_type'].values[0]\n",
        "        else:\n",
        "            q[65] = sample[sample['id_number']==60]['a5_predicted_loop_type'].values[0]\n",
        "\n",
        "    if 66 not in q.keys():\n",
        "        if not sample[sample['id_number']==64].empty:\n",
        "            q[66] = sample[sample['id_number']==64]['a1_predicted_loop_type'].values[0]\n",
        "        elif not sample[sample['id_number']==63].empty:\n",
        "            q[66] = sample[sample['id_number']==63]['a2_predicted_loop_type'].values[0]\n",
        "        elif not sample[sample['id_number']==62].empty:\n",
        "            q[66] = sample[sample['id_number']==62]['a3_predicted_loop_type'].values[0]\n",
        "        elif not sample[sample['id_number']==61].empty:\n",
        "            q[66] = sample[sample['id_number']==61]['a4_predicted_loop_type'].values[0]\n",
        "        else:\n",
        "            q[66] = sample[sample['id_number']==60]['a5_predicted_loop_type'].values[0]\n",
        "\n",
        "    if 67 not in q.keys():\n",
        "        if not sample[sample['id_number']==66].empty:\n",
        "            q[67] = sample[sample['id_number']==66]['a1_predicted_loop_type'].values[0]\n",
        "        elif not sample[sample['id_number']==65].empty:\n",
        "            q[67] = sample[sample['id_number']==65]['a2_predicted_loop_type'].values[0]\n",
        "        elif not sample[sample['id_number']==64].empty:\n",
        "            q[67] = sample[sample['id_number']==64]['a3_predicted_loop_type'].values[0]\n",
        "        elif not sample[sample['id_number']==63].empty:\n",
        "            q[67] = sample[sample['id_number']==63]['a4_predicted_loop_type'].values[0]\n",
        "        else:\n",
        "            q[67] = sample[sample['id_number']==62]['a5_predicted_loop_type'].values[0]\n",
        "\n",
        "\n",
        "    if not sample[sample['id_number']==67].empty:\n",
        "        q[67] = q[67]+sample[sample['id_number']==67]['a1_predicted_loop_type'].values[0]\n",
        "    elif not sample[sample['id_number']==66].empty:\n",
        "        q[67] = q[67]+sample[sample['id_number']==66]['a2_predicted_loop_type'].values[0]\n",
        "    elif not sample[sample['id_number']==65].empty:\n",
        "        q[67] = q[67]+sample[sample['id_number']==65]['a3_predicted_loop_type'].values[0]\n",
        "    elif not sample[sample['id_number']==64].empty:\n",
        "        q[67] = q[67]+sample[sample['id_number']==64]['a4_predicted_loop_type'].values[0]\n",
        "    else:\n",
        "        q[67] = q[67]+sample[sample['id_number']==63]['a5_predicted_loop_type'].values[0]\n",
        "\n",
        "\n",
        "    sorted_sample = {k: q[k] for k in sorted(q)}\n",
        "    concatenated_string = ''.join(sorted_sample.values())\n",
        "    predicted_loop[id] = concatenated_string"
      ],
      "metadata": {
        "id": "MddZFXZPYJrz"
      },
      "execution_count": 7,
      "outputs": []
    },
    {
      "cell_type": "markdown",
      "source": [
        "## Prepaing the final data"
      ],
      "metadata": {
        "id": "2ZZXTJAvi-H6"
      }
    },
    {
      "cell_type": "code",
      "source": [
        "df.columns"
      ],
      "metadata": {
        "id": "aGapJsZbTo7X",
        "colab": {
          "base_uri": "https://localhost:8080/"
        },
        "outputId": "06100460-66a8-4164-ebf4-9d51c9f518e9"
      },
      "execution_count": 8,
      "outputs": [
        {
          "output_type": "execute_result",
          "data": {
            "text/plain": [
              "Index(['id', 'id_seqpos', 'sequence', 'structure', 'predicted_loop_type',\n",
              "       'reactivity', 'reactivity_error', 'deg_Mg_pH10', 'deg_error_Mg_pH10',\n",
              "       'deg_pH10', 'deg_error_pH10', 'deg_Mg_50C', 'deg_error_Mg_50C',\n",
              "       'deg_50C', 'deg_error_50C', 'b1_sequence', 'a1_sequence',\n",
              "       'b1_structure', 'a1_structure', 'b1_predicted_loop_type',\n",
              "       'a1_predicted_loop_type', 'b2_sequence', 'a2_sequence', 'b2_structure',\n",
              "       'a2_structure', 'b2_predicted_loop_type', 'a2_predicted_loop_type',\n",
              "       'b3_sequence', 'a3_sequence', 'b3_structure', 'a3_structure',\n",
              "       'b3_predicted_loop_type', 'a3_predicted_loop_type', 'b4_sequence',\n",
              "       'a4_sequence', 'b4_structure', 'a4_structure', 'b4_predicted_loop_type',\n",
              "       'a4_predicted_loop_type', 'b5_sequence', 'a5_sequence', 'b5_structure',\n",
              "       'a5_structure', 'b5_predicted_loop_type', 'a5_predicted_loop_type',\n",
              "       'id_number', 'seqRow', 'structureRow'],\n",
              "      dtype='object')"
            ]
          },
          "metadata": {},
          "execution_count": 8
        }
      ]
    },
    {
      "cell_type": "code",
      "source": [
        "df1 = df[['id', 'id_seqpos', 'id_number', 'sequence', 'structure', 'predicted_loop_type', 'reactivity_error', 'deg_error_Mg_pH10', 'deg_error_pH10', 'deg_error_Mg_50C', 'deg_error_50C', 'deg_pH10', 'deg_50C', 'reactivity', 'deg_Mg_pH10', 'deg_Mg_50C']]\n",
        "df1.head()"
      ],
      "metadata": {
        "id": "QOWgv_zeTo5A",
        "colab": {
          "base_uri": "https://localhost:8080/",
          "height": 226
        },
        "outputId": "a143a930-707f-414d-9872-38cd452d16aa"
      },
      "execution_count": 9,
      "outputs": [
        {
          "output_type": "execute_result",
          "data": {
            "text/plain": [
              "             id        id_seqpos  id_number sequence structure  \\\n",
              "0  id_159f0ff46  id_159f0ff46_44         44        A         .   \n",
              "1  id_d73546f4e  id_d73546f4e_38         38        G         .   \n",
              "2  id_f3037fedf  id_f3037fedf_34         34        G         (   \n",
              "3  id_468300749  id_468300749_12         12        G         (   \n",
              "4  id_69e3878a2  id_69e3878a2_28         28        U         (   \n",
              "\n",
              "  predicted_loop_type  reactivity_error  deg_error_Mg_pH10  deg_error_pH10  \\\n",
              "0                   H            0.1195             0.0790          0.0851   \n",
              "1                   I            0.1033             0.0799          0.0878   \n",
              "2                   S            0.1375             0.0744          0.1969   \n",
              "3                   S            0.0471             0.1075          0.0615   \n",
              "4                   S            0.1352             0.2168          0.2623   \n",
              "\n",
              "   deg_error_Mg_50C  deg_error_50C  deg_pH10  deg_50C  reactivity  \\\n",
              "0            0.0792         0.1051    0.3680   0.5685      1.7786   \n",
              "1            0.0683         0.0864    0.0878   0.0666      0.4397   \n",
              "2            0.1163         0.1088    0.1835   0.0000      0.1120   \n",
              "3            0.0506         0.0913    0.0657   0.0749      0.0622   \n",
              "4            0.1569         0.3370    0.3375   0.6247      0.1378   \n",
              "\n",
              "   deg_Mg_pH10  deg_Mg_50C  \n",
              "0       0.7346      0.7228  \n",
              "1       0.1630      0.1100  \n",
              "2       0.0000      0.0933  \n",
              "3       0.1179      0.0548  \n",
              "4       0.4069      0.2378  "
            ],
            "text/html": [
              "\n",
              "  <div id=\"df-bd2e1099-93a7-48c9-ba5e-ff8ebb066350\" class=\"colab-df-container\">\n",
              "    <div>\n",
              "<style scoped>\n",
              "    .dataframe tbody tr th:only-of-type {\n",
              "        vertical-align: middle;\n",
              "    }\n",
              "\n",
              "    .dataframe tbody tr th {\n",
              "        vertical-align: top;\n",
              "    }\n",
              "\n",
              "    .dataframe thead th {\n",
              "        text-align: right;\n",
              "    }\n",
              "</style>\n",
              "<table border=\"1\" class=\"dataframe\">\n",
              "  <thead>\n",
              "    <tr style=\"text-align: right;\">\n",
              "      <th></th>\n",
              "      <th>id</th>\n",
              "      <th>id_seqpos</th>\n",
              "      <th>id_number</th>\n",
              "      <th>sequence</th>\n",
              "      <th>structure</th>\n",
              "      <th>predicted_loop_type</th>\n",
              "      <th>reactivity_error</th>\n",
              "      <th>deg_error_Mg_pH10</th>\n",
              "      <th>deg_error_pH10</th>\n",
              "      <th>deg_error_Mg_50C</th>\n",
              "      <th>deg_error_50C</th>\n",
              "      <th>deg_pH10</th>\n",
              "      <th>deg_50C</th>\n",
              "      <th>reactivity</th>\n",
              "      <th>deg_Mg_pH10</th>\n",
              "      <th>deg_Mg_50C</th>\n",
              "    </tr>\n",
              "  </thead>\n",
              "  <tbody>\n",
              "    <tr>\n",
              "      <th>0</th>\n",
              "      <td>id_159f0ff46</td>\n",
              "      <td>id_159f0ff46_44</td>\n",
              "      <td>44</td>\n",
              "      <td>A</td>\n",
              "      <td>.</td>\n",
              "      <td>H</td>\n",
              "      <td>0.1195</td>\n",
              "      <td>0.0790</td>\n",
              "      <td>0.0851</td>\n",
              "      <td>0.0792</td>\n",
              "      <td>0.1051</td>\n",
              "      <td>0.3680</td>\n",
              "      <td>0.5685</td>\n",
              "      <td>1.7786</td>\n",
              "      <td>0.7346</td>\n",
              "      <td>0.7228</td>\n",
              "    </tr>\n",
              "    <tr>\n",
              "      <th>1</th>\n",
              "      <td>id_d73546f4e</td>\n",
              "      <td>id_d73546f4e_38</td>\n",
              "      <td>38</td>\n",
              "      <td>G</td>\n",
              "      <td>.</td>\n",
              "      <td>I</td>\n",
              "      <td>0.1033</td>\n",
              "      <td>0.0799</td>\n",
              "      <td>0.0878</td>\n",
              "      <td>0.0683</td>\n",
              "      <td>0.0864</td>\n",
              "      <td>0.0878</td>\n",
              "      <td>0.0666</td>\n",
              "      <td>0.4397</td>\n",
              "      <td>0.1630</td>\n",
              "      <td>0.1100</td>\n",
              "    </tr>\n",
              "    <tr>\n",
              "      <th>2</th>\n",
              "      <td>id_f3037fedf</td>\n",
              "      <td>id_f3037fedf_34</td>\n",
              "      <td>34</td>\n",
              "      <td>G</td>\n",
              "      <td>(</td>\n",
              "      <td>S</td>\n",
              "      <td>0.1375</td>\n",
              "      <td>0.0744</td>\n",
              "      <td>0.1969</td>\n",
              "      <td>0.1163</td>\n",
              "      <td>0.1088</td>\n",
              "      <td>0.1835</td>\n",
              "      <td>0.0000</td>\n",
              "      <td>0.1120</td>\n",
              "      <td>0.0000</td>\n",
              "      <td>0.0933</td>\n",
              "    </tr>\n",
              "    <tr>\n",
              "      <th>3</th>\n",
              "      <td>id_468300749</td>\n",
              "      <td>id_468300749_12</td>\n",
              "      <td>12</td>\n",
              "      <td>G</td>\n",
              "      <td>(</td>\n",
              "      <td>S</td>\n",
              "      <td>0.0471</td>\n",
              "      <td>0.1075</td>\n",
              "      <td>0.0615</td>\n",
              "      <td>0.0506</td>\n",
              "      <td>0.0913</td>\n",
              "      <td>0.0657</td>\n",
              "      <td>0.0749</td>\n",
              "      <td>0.0622</td>\n",
              "      <td>0.1179</td>\n",
              "      <td>0.0548</td>\n",
              "    </tr>\n",
              "    <tr>\n",
              "      <th>4</th>\n",
              "      <td>id_69e3878a2</td>\n",
              "      <td>id_69e3878a2_28</td>\n",
              "      <td>28</td>\n",
              "      <td>U</td>\n",
              "      <td>(</td>\n",
              "      <td>S</td>\n",
              "      <td>0.1352</td>\n",
              "      <td>0.2168</td>\n",
              "      <td>0.2623</td>\n",
              "      <td>0.1569</td>\n",
              "      <td>0.3370</td>\n",
              "      <td>0.3375</td>\n",
              "      <td>0.6247</td>\n",
              "      <td>0.1378</td>\n",
              "      <td>0.4069</td>\n",
              "      <td>0.2378</td>\n",
              "    </tr>\n",
              "  </tbody>\n",
              "</table>\n",
              "</div>\n",
              "    <div class=\"colab-df-buttons\">\n",
              "\n",
              "  <div class=\"colab-df-container\">\n",
              "    <button class=\"colab-df-convert\" onclick=\"convertToInteractive('df-bd2e1099-93a7-48c9-ba5e-ff8ebb066350')\"\n",
              "            title=\"Convert this dataframe to an interactive table.\"\n",
              "            style=\"display:none;\">\n",
              "\n",
              "  <svg xmlns=\"http://www.w3.org/2000/svg\" height=\"24px\" viewBox=\"0 -960 960 960\">\n",
              "    <path d=\"M120-120v-720h720v720H120Zm60-500h600v-160H180v160Zm220 220h160v-160H400v160Zm0 220h160v-160H400v160ZM180-400h160v-160H180v160Zm440 0h160v-160H620v160ZM180-180h160v-160H180v160Zm440 0h160v-160H620v160Z\"/>\n",
              "  </svg>\n",
              "    </button>\n",
              "\n",
              "  <style>\n",
              "    .colab-df-container {\n",
              "      display:flex;\n",
              "      gap: 12px;\n",
              "    }\n",
              "\n",
              "    .colab-df-convert {\n",
              "      background-color: #E8F0FE;\n",
              "      border: none;\n",
              "      border-radius: 50%;\n",
              "      cursor: pointer;\n",
              "      display: none;\n",
              "      fill: #1967D2;\n",
              "      height: 32px;\n",
              "      padding: 0 0 0 0;\n",
              "      width: 32px;\n",
              "    }\n",
              "\n",
              "    .colab-df-convert:hover {\n",
              "      background-color: #E2EBFA;\n",
              "      box-shadow: 0px 1px 2px rgba(60, 64, 67, 0.3), 0px 1px 3px 1px rgba(60, 64, 67, 0.15);\n",
              "      fill: #174EA6;\n",
              "    }\n",
              "\n",
              "    .colab-df-buttons div {\n",
              "      margin-bottom: 4px;\n",
              "    }\n",
              "\n",
              "    [theme=dark] .colab-df-convert {\n",
              "      background-color: #3B4455;\n",
              "      fill: #D2E3FC;\n",
              "    }\n",
              "\n",
              "    [theme=dark] .colab-df-convert:hover {\n",
              "      background-color: #434B5C;\n",
              "      box-shadow: 0px 1px 3px 1px rgba(0, 0, 0, 0.15);\n",
              "      filter: drop-shadow(0px 1px 2px rgba(0, 0, 0, 0.3));\n",
              "      fill: #FFFFFF;\n",
              "    }\n",
              "  </style>\n",
              "\n",
              "    <script>\n",
              "      const buttonEl =\n",
              "        document.querySelector('#df-bd2e1099-93a7-48c9-ba5e-ff8ebb066350 button.colab-df-convert');\n",
              "      buttonEl.style.display =\n",
              "        google.colab.kernel.accessAllowed ? 'block' : 'none';\n",
              "\n",
              "      async function convertToInteractive(key) {\n",
              "        const element = document.querySelector('#df-bd2e1099-93a7-48c9-ba5e-ff8ebb066350');\n",
              "        const dataTable =\n",
              "          await google.colab.kernel.invokeFunction('convertToInteractive',\n",
              "                                                    [key], {});\n",
              "        if (!dataTable) return;\n",
              "\n",
              "        const docLinkHtml = 'Like what you see? Visit the ' +\n",
              "          '<a target=\"_blank\" href=https://colab.research.google.com/notebooks/data_table.ipynb>data table notebook</a>'\n",
              "          + ' to learn more about interactive tables.';\n",
              "        element.innerHTML = '';\n",
              "        dataTable['output_type'] = 'display_data';\n",
              "        await google.colab.output.renderOutput(dataTable, element);\n",
              "        const docLink = document.createElement('div');\n",
              "        docLink.innerHTML = docLinkHtml;\n",
              "        element.appendChild(docLink);\n",
              "      }\n",
              "    </script>\n",
              "  </div>\n",
              "\n",
              "\n",
              "<div id=\"df-4ed093dd-c1bc-4e72-a181-6c1ee7bab974\">\n",
              "  <button class=\"colab-df-quickchart\" onclick=\"quickchart('df-4ed093dd-c1bc-4e72-a181-6c1ee7bab974')\"\n",
              "            title=\"Suggest charts\"\n",
              "            style=\"display:none;\">\n",
              "\n",
              "<svg xmlns=\"http://www.w3.org/2000/svg\" height=\"24px\"viewBox=\"0 0 24 24\"\n",
              "     width=\"24px\">\n",
              "    <g>\n",
              "        <path d=\"M19 3H5c-1.1 0-2 .9-2 2v14c0 1.1.9 2 2 2h14c1.1 0 2-.9 2-2V5c0-1.1-.9-2-2-2zM9 17H7v-7h2v7zm4 0h-2V7h2v10zm4 0h-2v-4h2v4z\"/>\n",
              "    </g>\n",
              "</svg>\n",
              "  </button>\n",
              "\n",
              "<style>\n",
              "  .colab-df-quickchart {\n",
              "      --bg-color: #E8F0FE;\n",
              "      --fill-color: #1967D2;\n",
              "      --hover-bg-color: #E2EBFA;\n",
              "      --hover-fill-color: #174EA6;\n",
              "      --disabled-fill-color: #AAA;\n",
              "      --disabled-bg-color: #DDD;\n",
              "  }\n",
              "\n",
              "  [theme=dark] .colab-df-quickchart {\n",
              "      --bg-color: #3B4455;\n",
              "      --fill-color: #D2E3FC;\n",
              "      --hover-bg-color: #434B5C;\n",
              "      --hover-fill-color: #FFFFFF;\n",
              "      --disabled-bg-color: #3B4455;\n",
              "      --disabled-fill-color: #666;\n",
              "  }\n",
              "\n",
              "  .colab-df-quickchart {\n",
              "    background-color: var(--bg-color);\n",
              "    border: none;\n",
              "    border-radius: 50%;\n",
              "    cursor: pointer;\n",
              "    display: none;\n",
              "    fill: var(--fill-color);\n",
              "    height: 32px;\n",
              "    padding: 0;\n",
              "    width: 32px;\n",
              "  }\n",
              "\n",
              "  .colab-df-quickchart:hover {\n",
              "    background-color: var(--hover-bg-color);\n",
              "    box-shadow: 0 1px 2px rgba(60, 64, 67, 0.3), 0 1px 3px 1px rgba(60, 64, 67, 0.15);\n",
              "    fill: var(--button-hover-fill-color);\n",
              "  }\n",
              "\n",
              "  .colab-df-quickchart-complete:disabled,\n",
              "  .colab-df-quickchart-complete:disabled:hover {\n",
              "    background-color: var(--disabled-bg-color);\n",
              "    fill: var(--disabled-fill-color);\n",
              "    box-shadow: none;\n",
              "  }\n",
              "\n",
              "  .colab-df-spinner {\n",
              "    border: 2px solid var(--fill-color);\n",
              "    border-color: transparent;\n",
              "    border-bottom-color: var(--fill-color);\n",
              "    animation:\n",
              "      spin 1s steps(1) infinite;\n",
              "  }\n",
              "\n",
              "  @keyframes spin {\n",
              "    0% {\n",
              "      border-color: transparent;\n",
              "      border-bottom-color: var(--fill-color);\n",
              "      border-left-color: var(--fill-color);\n",
              "    }\n",
              "    20% {\n",
              "      border-color: transparent;\n",
              "      border-left-color: var(--fill-color);\n",
              "      border-top-color: var(--fill-color);\n",
              "    }\n",
              "    30% {\n",
              "      border-color: transparent;\n",
              "      border-left-color: var(--fill-color);\n",
              "      border-top-color: var(--fill-color);\n",
              "      border-right-color: var(--fill-color);\n",
              "    }\n",
              "    40% {\n",
              "      border-color: transparent;\n",
              "      border-right-color: var(--fill-color);\n",
              "      border-top-color: var(--fill-color);\n",
              "    }\n",
              "    60% {\n",
              "      border-color: transparent;\n",
              "      border-right-color: var(--fill-color);\n",
              "    }\n",
              "    80% {\n",
              "      border-color: transparent;\n",
              "      border-right-color: var(--fill-color);\n",
              "      border-bottom-color: var(--fill-color);\n",
              "    }\n",
              "    90% {\n",
              "      border-color: transparent;\n",
              "      border-bottom-color: var(--fill-color);\n",
              "    }\n",
              "  }\n",
              "</style>\n",
              "\n",
              "  <script>\n",
              "    async function quickchart(key) {\n",
              "      const quickchartButtonEl =\n",
              "        document.querySelector('#' + key + ' button');\n",
              "      quickchartButtonEl.disabled = true;  // To prevent multiple clicks.\n",
              "      quickchartButtonEl.classList.add('colab-df-spinner');\n",
              "      try {\n",
              "        const charts = await google.colab.kernel.invokeFunction(\n",
              "            'suggestCharts', [key], {});\n",
              "      } catch (error) {\n",
              "        console.error('Error during call to suggestCharts:', error);\n",
              "      }\n",
              "      quickchartButtonEl.classList.remove('colab-df-spinner');\n",
              "      quickchartButtonEl.classList.add('colab-df-quickchart-complete');\n",
              "    }\n",
              "    (() => {\n",
              "      let quickchartButtonEl =\n",
              "        document.querySelector('#df-4ed093dd-c1bc-4e72-a181-6c1ee7bab974 button');\n",
              "      quickchartButtonEl.style.display =\n",
              "        google.colab.kernel.accessAllowed ? 'block' : 'none';\n",
              "    })();\n",
              "  </script>\n",
              "</div>\n",
              "\n",
              "    </div>\n",
              "  </div>\n"
            ],
            "application/vnd.google.colaboratory.intrinsic+json": {
              "type": "dataframe",
              "variable_name": "df1"
            }
          },
          "metadata": {},
          "execution_count": 9
        }
      ]
    },
    {
      "cell_type": "code",
      "source": [
        "df1['full_sequence'] = df1['id'].map(full_sequence)\n",
        "df1['full_structure'] = df1['id'].map(full_structure)\n",
        "df1['predicted_loop'] = df1['id'].map(predicted_loop)"
      ],
      "metadata": {
        "id": "-CB_yU52Toz8",
        "colab": {
          "base_uri": "https://localhost:8080/"
        },
        "outputId": "844cbc57-9cb1-4160-c2d1-f41b5b2db658"
      },
      "execution_count": 10,
      "outputs": [
        {
          "output_type": "stream",
          "name": "stderr",
          "text": [
            "<ipython-input-10-d7f87ab18b9f>:1: SettingWithCopyWarning: \n",
            "A value is trying to be set on a copy of a slice from a DataFrame.\n",
            "Try using .loc[row_indexer,col_indexer] = value instead\n",
            "\n",
            "See the caveats in the documentation: https://pandas.pydata.org/pandas-docs/stable/user_guide/indexing.html#returning-a-view-versus-a-copy\n",
            "  df1['full_sequence'] = df1['id'].map(full_sequence)\n",
            "<ipython-input-10-d7f87ab18b9f>:2: SettingWithCopyWarning: \n",
            "A value is trying to be set on a copy of a slice from a DataFrame.\n",
            "Try using .loc[row_indexer,col_indexer] = value instead\n",
            "\n",
            "See the caveats in the documentation: https://pandas.pydata.org/pandas-docs/stable/user_guide/indexing.html#returning-a-view-versus-a-copy\n",
            "  df1['full_structure'] = df1['id'].map(full_structure)\n",
            "<ipython-input-10-d7f87ab18b9f>:3: SettingWithCopyWarning: \n",
            "A value is trying to be set on a copy of a slice from a DataFrame.\n",
            "Try using .loc[row_indexer,col_indexer] = value instead\n",
            "\n",
            "See the caveats in the documentation: https://pandas.pydata.org/pandas-docs/stable/user_guide/indexing.html#returning-a-view-versus-a-copy\n",
            "  df1['predicted_loop'] = df1['id'].map(predicted_loop)\n"
          ]
        }
      ]
    },
    {
      "cell_type": "code",
      "source": [
        "df1.reset_index(inplace=True, drop=True)"
      ],
      "metadata": {
        "id": "QFgsDb08tDnF"
      },
      "execution_count": 11,
      "outputs": []
    },
    {
      "cell_type": "code",
      "source": [
        "# creating new three features, codon, and condon structure and codon predicted loop\n",
        "df1['codon']='a'\n",
        "df1['codon_str']='b'\n",
        "df1['codon_pred_loop']='c'\n",
        "\n",
        "for index, i in df1.iterrows():\n",
        "    number = i['id_number']//3\n",
        "    df1.iloc[index, 19] = df1['full_sequence'][index][number*3:3+number*3]\n",
        "    df1.iloc[index, 20] = df1['full_structure'][index][number*3:3+number*3]\n",
        "    df1.iloc[index, 21] = df1['predicted_loop'][index][number*3:3+number*3]"
      ],
      "metadata": {
        "id": "RZaV-b7KXxct",
        "colab": {
          "base_uri": "https://localhost:8080/"
        },
        "outputId": "3fa3e26d-c86a-4337-83b8-d9a72c339f74"
      },
      "execution_count": 13,
      "outputs": [
        {
          "output_type": "stream",
          "name": "stderr",
          "text": [
            "<ipython-input-13-dc50c8df32f7>:1: SettingWithCopyWarning: \n",
            "A value is trying to be set on a copy of a slice from a DataFrame.\n",
            "Try using .loc[row_indexer,col_indexer] = value instead\n",
            "\n",
            "See the caveats in the documentation: https://pandas.pydata.org/pandas-docs/stable/user_guide/indexing.html#returning-a-view-versus-a-copy\n",
            "  df1['codon']='a'\n",
            "<ipython-input-13-dc50c8df32f7>:2: SettingWithCopyWarning: \n",
            "A value is trying to be set on a copy of a slice from a DataFrame.\n",
            "Try using .loc[row_indexer,col_indexer] = value instead\n",
            "\n",
            "See the caveats in the documentation: https://pandas.pydata.org/pandas-docs/stable/user_guide/indexing.html#returning-a-view-versus-a-copy\n",
            "  df1['codon_str']='b'\n",
            "<ipython-input-13-dc50c8df32f7>:3: SettingWithCopyWarning: \n",
            "A value is trying to be set on a copy of a slice from a DataFrame.\n",
            "Try using .loc[row_indexer,col_indexer] = value instead\n",
            "\n",
            "See the caveats in the documentation: https://pandas.pydata.org/pandas-docs/stable/user_guide/indexing.html#returning-a-view-versus-a-copy\n",
            "  df1['codon_pred_loop']='c'\n"
          ]
        }
      ]
    },
    {
      "cell_type": "code",
      "source": [
        "# mapping codon structure to codon name\n",
        "codon_name_dict = {\n",
        "    'AUG': 'Methionine',\n",
        "    'UUU': 'Phenylalanine','UUC': 'Phenylalanine',\n",
        "    'UUA': 'Leucine', 'UUG': 'Leucine','CUU': 'Leucine', 'CUC': 'Leucine', 'CUA': 'Leucine', 'CUG': 'Leucine',\n",
        "    'AUU': 'Isoleucine', 'AUC': 'Isoleucine','AUA': 'Isoleucine',\n",
        "    'GUU': 'Valine', 'GUC': 'Valine', 'GUA': 'Valine', 'GUG': 'Valine',\n",
        "    'UCU': 'Serine','UCC': 'Serine', 'UCA': 'Serine', 'UCG': 'Serine', 'AGU': 'Serine', 'AGC': 'Serine',\n",
        "    'CCU': 'Proline', 'CCC': 'Proline', 'CCA': 'Proline','CCG': 'Proline',\n",
        "    'ACU': 'Threonine', 'ACC': 'Threonine', 'ACA': 'Threonine', 'ACG': 'Threonine','UGG': 'Tryptophan',\n",
        "    'GCU': 'Alanine', 'GCC': 'Alanine', 'GCA': 'Alanine', 'GCG': 'Alanine',\n",
        "    'UAU': 'Tyrosine', 'UAC': 'Tyrosine',\n",
        "    'UAA': 'Stop', 'UAG': 'Stop', 'UGA': 'Stop',\n",
        "    'CAU': 'Histidine', 'CAC': 'Histidine',\n",
        "    'CAA': 'Glutamine', 'CAG': 'Glutamine',\n",
        "    'AAU': 'Asparagine', 'AAC': 'Asparagine',\n",
        "    'AAA': 'Lysine', 'AAG': 'Lysine',\n",
        "    'GAU': 'Aspartic acid','GAC': 'Aspartic acid',\n",
        "    'GAA': 'Glutamic acid', 'GAG': 'Glutamic acid',\n",
        "    'UGU': 'Cysteine', 'UGC': 'Cysteine',\n",
        "    'CGU': 'Arginine', 'CGC': 'Arginine', 'CGA': 'Arginine', 'CGG': 'Arginine','AGA': 'Arginine', 'AGG': 'Arginine',\n",
        "    'GGU': 'Glycine', 'GGC': 'Glycine','GGA': 'Glycine', 'GGG': 'Glycine'\n",
        "}\n",
        "\n",
        "def get_codon_name(codon):\n",
        "    return codon_name_dict.get(codon, 'Unknown')\n",
        "\n",
        "df1['codon_name'] = df1['codon'].apply(get_codon_name)"
      ],
      "metadata": {
        "colab": {
          "base_uri": "https://localhost:8080/"
        },
        "id": "NZ5SoIzhjhne",
        "outputId": "70ff8bd4-d7c0-40e8-ca64-d9b6a6862bac"
      },
      "execution_count": 16,
      "outputs": [
        {
          "output_type": "stream",
          "name": "stderr",
          "text": [
            "<ipython-input-16-923c9c71ecd0>:28: SettingWithCopyWarning: \n",
            "A value is trying to be set on a copy of a slice from a DataFrame.\n",
            "Try using .loc[row_indexer,col_indexer] = value instead\n",
            "\n",
            "See the caveats in the documentation: https://pandas.pydata.org/pandas-docs/stable/user_guide/indexing.html#returning-a-view-versus-a-copy\n",
            "  df1['codon_name'] = df1['codon'].apply(get_codon_name)\n"
          ]
        }
      ]
    },
    {
      "cell_type": "code",
      "source": [
        "#create a new feature that combine sequence, structure and predicted loop type\n",
        "df1['z1'] = df1['sequence']+df1['structure']+df1['predicted_loop_type']\n",
        "df1.head()"
      ],
      "metadata": {
        "colab": {
          "base_uri": "https://localhost:8080/",
          "height": 469
        },
        "id": "GcXUw4lskC-a",
        "outputId": "0c97be2d-878d-4974-948a-e2769f9d62a2"
      },
      "execution_count": 17,
      "outputs": [
        {
          "output_type": "stream",
          "name": "stderr",
          "text": [
            "<ipython-input-17-dd9df86e33ef>:2: SettingWithCopyWarning: \n",
            "A value is trying to be set on a copy of a slice from a DataFrame.\n",
            "Try using .loc[row_indexer,col_indexer] = value instead\n",
            "\n",
            "See the caveats in the documentation: https://pandas.pydata.org/pandas-docs/stable/user_guide/indexing.html#returning-a-view-versus-a-copy\n",
            "  df1['z1'] = df1['sequence']+df1['structure']+df1['predicted_loop_type']\n"
          ]
        },
        {
          "output_type": "execute_result",
          "data": {
            "text/plain": [
              "             id        id_seqpos  id_number sequence structure  \\\n",
              "0  id_159f0ff46  id_159f0ff46_44         44        A         .   \n",
              "1  id_d73546f4e  id_d73546f4e_38         38        G         .   \n",
              "2  id_f3037fedf  id_f3037fedf_34         34        G         (   \n",
              "3  id_468300749  id_468300749_12         12        G         (   \n",
              "4  id_69e3878a2  id_69e3878a2_28         28        U         (   \n",
              "\n",
              "  predicted_loop_type  reactivity_error  deg_error_Mg_pH10  deg_error_pH10  \\\n",
              "0                   H            0.1195             0.0790          0.0851   \n",
              "1                   I            0.1033             0.0799          0.0878   \n",
              "2                   S            0.1375             0.0744          0.1969   \n",
              "3                   S            0.0471             0.1075          0.0615   \n",
              "4                   S            0.1352             0.2168          0.2623   \n",
              "\n",
              "   deg_error_Mg_50C  ...  deg_Mg_pH10  deg_Mg_50C  \\\n",
              "0            0.0792  ...       0.7346      0.7228   \n",
              "1            0.0683  ...       0.1630      0.1100   \n",
              "2            0.1163  ...       0.0000      0.0933   \n",
              "3            0.0506  ...       0.1179      0.0548   \n",
              "4            0.1569  ...       0.4069      0.2378   \n",
              "\n",
              "                                       full_sequence  \\\n",
              "0  GGAAACGGCUAGGCGAGGCAUAGGCGGCAGUGGGAGGUGCGUGCAU...   \n",
              "1  GGAAACCAAUGGAGGAGGACCCGGAUCGACCGACGACGGACGUCUC...   \n",
              "2  GGAAAAUGUGGUAAAAAGUAUUAUAUAUAAUUUUGGGAUGUAAAUA...   \n",
              "3  GGAAAAUAAGGCGGCGGUUAUUAAAUAAUGCGCCGCCCUCGCAAUA...   \n",
              "4  GGAAAACGUACGUACGUGAAGACGUACGUACGAGAUAUAAUCGUAG...   \n",
              "\n",
              "                                      full_structure  \\\n",
              "0  .....((.(((.((...)).))).))((((((((..(((.((((.....   \n",
              "1  .....((......))....(((((.(((((((..((((..((...)...   \n",
              "2  .....((((((((.....))))))))((((((((((((((((.......   \n",
              "3  .........((((((((((((...))))).))))))).((((((((...   \n",
              "4  ......((((((((((((...((((((.(((((.......))))))...   \n",
              "\n",
              "                                      predicted_loop  codon codon_str  \\\n",
              "0  EEEEESSISSSISSHHHSSISSSISSSSSSSSSSIISSSISSSSHH...    GCA       ((.   \n",
              "1  EEEEESSHHHHHHSSMMMMSSSSSBSSSSSSSBBSSSSIISSHHHS...    CGG       ((.   \n",
              "2  EEEEESSSSSSSSHHHHHSSSSSSSSSSSSSSSSSSSSSSSSHHHH...    UGG       (((   \n",
              "3  EEEEEEEEESSSSSSSSSSSSHHHSSSSSBSSSSSSSXSSSSSSSS...    GGC       (((   \n",
              "4  EEEEEESSSSSSSSSSSSIIISSSSSSBSSSSSHHHHHHHSSSSSS...    GUA       .((   \n",
              "\n",
              "  codon_pred_loop  codon_name   z1  \n",
              "0             SSH     Alanine  A.H  \n",
              "1             SSI    Arginine  G.I  \n",
              "2             SSS  Tryptophan  G(S  \n",
              "3             SSS     Glycine  G(S  \n",
              "4             BSS      Valine  U(S  \n",
              "\n",
              "[5 rows x 24 columns]"
            ],
            "text/html": [
              "\n",
              "  <div id=\"df-47a7820a-52ef-48d9-9d1b-ed4a312aed1c\" class=\"colab-df-container\">\n",
              "    <div>\n",
              "<style scoped>\n",
              "    .dataframe tbody tr th:only-of-type {\n",
              "        vertical-align: middle;\n",
              "    }\n",
              "\n",
              "    .dataframe tbody tr th {\n",
              "        vertical-align: top;\n",
              "    }\n",
              "\n",
              "    .dataframe thead th {\n",
              "        text-align: right;\n",
              "    }\n",
              "</style>\n",
              "<table border=\"1\" class=\"dataframe\">\n",
              "  <thead>\n",
              "    <tr style=\"text-align: right;\">\n",
              "      <th></th>\n",
              "      <th>id</th>\n",
              "      <th>id_seqpos</th>\n",
              "      <th>id_number</th>\n",
              "      <th>sequence</th>\n",
              "      <th>structure</th>\n",
              "      <th>predicted_loop_type</th>\n",
              "      <th>reactivity_error</th>\n",
              "      <th>deg_error_Mg_pH10</th>\n",
              "      <th>deg_error_pH10</th>\n",
              "      <th>deg_error_Mg_50C</th>\n",
              "      <th>...</th>\n",
              "      <th>deg_Mg_pH10</th>\n",
              "      <th>deg_Mg_50C</th>\n",
              "      <th>full_sequence</th>\n",
              "      <th>full_structure</th>\n",
              "      <th>predicted_loop</th>\n",
              "      <th>codon</th>\n",
              "      <th>codon_str</th>\n",
              "      <th>codon_pred_loop</th>\n",
              "      <th>codon_name</th>\n",
              "      <th>z1</th>\n",
              "    </tr>\n",
              "  </thead>\n",
              "  <tbody>\n",
              "    <tr>\n",
              "      <th>0</th>\n",
              "      <td>id_159f0ff46</td>\n",
              "      <td>id_159f0ff46_44</td>\n",
              "      <td>44</td>\n",
              "      <td>A</td>\n",
              "      <td>.</td>\n",
              "      <td>H</td>\n",
              "      <td>0.1195</td>\n",
              "      <td>0.0790</td>\n",
              "      <td>0.0851</td>\n",
              "      <td>0.0792</td>\n",
              "      <td>...</td>\n",
              "      <td>0.7346</td>\n",
              "      <td>0.7228</td>\n",
              "      <td>GGAAACGGCUAGGCGAGGCAUAGGCGGCAGUGGGAGGUGCGUGCAU...</td>\n",
              "      <td>.....((.(((.((...)).))).))((((((((..(((.((((.....</td>\n",
              "      <td>EEEEESSISSSISSHHHSSISSSISSSSSSSSSSIISSSISSSSHH...</td>\n",
              "      <td>GCA</td>\n",
              "      <td>((.</td>\n",
              "      <td>SSH</td>\n",
              "      <td>Alanine</td>\n",
              "      <td>A.H</td>\n",
              "    </tr>\n",
              "    <tr>\n",
              "      <th>1</th>\n",
              "      <td>id_d73546f4e</td>\n",
              "      <td>id_d73546f4e_38</td>\n",
              "      <td>38</td>\n",
              "      <td>G</td>\n",
              "      <td>.</td>\n",
              "      <td>I</td>\n",
              "      <td>0.1033</td>\n",
              "      <td>0.0799</td>\n",
              "      <td>0.0878</td>\n",
              "      <td>0.0683</td>\n",
              "      <td>...</td>\n",
              "      <td>0.1630</td>\n",
              "      <td>0.1100</td>\n",
              "      <td>GGAAACCAAUGGAGGAGGACCCGGAUCGACCGACGACGGACGUCUC...</td>\n",
              "      <td>.....((......))....(((((.(((((((..((((..((...)...</td>\n",
              "      <td>EEEEESSHHHHHHSSMMMMSSSSSBSSSSSSSBBSSSSIISSHHHS...</td>\n",
              "      <td>CGG</td>\n",
              "      <td>((.</td>\n",
              "      <td>SSI</td>\n",
              "      <td>Arginine</td>\n",
              "      <td>G.I</td>\n",
              "    </tr>\n",
              "    <tr>\n",
              "      <th>2</th>\n",
              "      <td>id_f3037fedf</td>\n",
              "      <td>id_f3037fedf_34</td>\n",
              "      <td>34</td>\n",
              "      <td>G</td>\n",
              "      <td>(</td>\n",
              "      <td>S</td>\n",
              "      <td>0.1375</td>\n",
              "      <td>0.0744</td>\n",
              "      <td>0.1969</td>\n",
              "      <td>0.1163</td>\n",
              "      <td>...</td>\n",
              "      <td>0.0000</td>\n",
              "      <td>0.0933</td>\n",
              "      <td>GGAAAAUGUGGUAAAAAGUAUUAUAUAUAAUUUUGGGAUGUAAAUA...</td>\n",
              "      <td>.....((((((((.....))))))))((((((((((((((((.......</td>\n",
              "      <td>EEEEESSSSSSSSHHHHHSSSSSSSSSSSSSSSSSSSSSSSSHHHH...</td>\n",
              "      <td>UGG</td>\n",
              "      <td>(((</td>\n",
              "      <td>SSS</td>\n",
              "      <td>Tryptophan</td>\n",
              "      <td>G(S</td>\n",
              "    </tr>\n",
              "    <tr>\n",
              "      <th>3</th>\n",
              "      <td>id_468300749</td>\n",
              "      <td>id_468300749_12</td>\n",
              "      <td>12</td>\n",
              "      <td>G</td>\n",
              "      <td>(</td>\n",
              "      <td>S</td>\n",
              "      <td>0.0471</td>\n",
              "      <td>0.1075</td>\n",
              "      <td>0.0615</td>\n",
              "      <td>0.0506</td>\n",
              "      <td>...</td>\n",
              "      <td>0.1179</td>\n",
              "      <td>0.0548</td>\n",
              "      <td>GGAAAAUAAGGCGGCGGUUAUUAAAUAAUGCGCCGCCCUCGCAAUA...</td>\n",
              "      <td>.........((((((((((((...))))).))))))).((((((((...</td>\n",
              "      <td>EEEEEEEEESSSSSSSSSSSSHHHSSSSSBSSSSSSSXSSSSSSSS...</td>\n",
              "      <td>GGC</td>\n",
              "      <td>(((</td>\n",
              "      <td>SSS</td>\n",
              "      <td>Glycine</td>\n",
              "      <td>G(S</td>\n",
              "    </tr>\n",
              "    <tr>\n",
              "      <th>4</th>\n",
              "      <td>id_69e3878a2</td>\n",
              "      <td>id_69e3878a2_28</td>\n",
              "      <td>28</td>\n",
              "      <td>U</td>\n",
              "      <td>(</td>\n",
              "      <td>S</td>\n",
              "      <td>0.1352</td>\n",
              "      <td>0.2168</td>\n",
              "      <td>0.2623</td>\n",
              "      <td>0.1569</td>\n",
              "      <td>...</td>\n",
              "      <td>0.4069</td>\n",
              "      <td>0.2378</td>\n",
              "      <td>GGAAAACGUACGUACGUGAAGACGUACGUACGAGAUAUAAUCGUAG...</td>\n",
              "      <td>......((((((((((((...((((((.(((((.......))))))...</td>\n",
              "      <td>EEEEEESSSSSSSSSSSSIIISSSSSSBSSSSSHHHHHHHSSSSSS...</td>\n",
              "      <td>GUA</td>\n",
              "      <td>.((</td>\n",
              "      <td>BSS</td>\n",
              "      <td>Valine</td>\n",
              "      <td>U(S</td>\n",
              "    </tr>\n",
              "  </tbody>\n",
              "</table>\n",
              "<p>5 rows × 24 columns</p>\n",
              "</div>\n",
              "    <div class=\"colab-df-buttons\">\n",
              "\n",
              "  <div class=\"colab-df-container\">\n",
              "    <button class=\"colab-df-convert\" onclick=\"convertToInteractive('df-47a7820a-52ef-48d9-9d1b-ed4a312aed1c')\"\n",
              "            title=\"Convert this dataframe to an interactive table.\"\n",
              "            style=\"display:none;\">\n",
              "\n",
              "  <svg xmlns=\"http://www.w3.org/2000/svg\" height=\"24px\" viewBox=\"0 -960 960 960\">\n",
              "    <path d=\"M120-120v-720h720v720H120Zm60-500h600v-160H180v160Zm220 220h160v-160H400v160Zm0 220h160v-160H400v160ZM180-400h160v-160H180v160Zm440 0h160v-160H620v160ZM180-180h160v-160H180v160Zm440 0h160v-160H620v160Z\"/>\n",
              "  </svg>\n",
              "    </button>\n",
              "\n",
              "  <style>\n",
              "    .colab-df-container {\n",
              "      display:flex;\n",
              "      gap: 12px;\n",
              "    }\n",
              "\n",
              "    .colab-df-convert {\n",
              "      background-color: #E8F0FE;\n",
              "      border: none;\n",
              "      border-radius: 50%;\n",
              "      cursor: pointer;\n",
              "      display: none;\n",
              "      fill: #1967D2;\n",
              "      height: 32px;\n",
              "      padding: 0 0 0 0;\n",
              "      width: 32px;\n",
              "    }\n",
              "\n",
              "    .colab-df-convert:hover {\n",
              "      background-color: #E2EBFA;\n",
              "      box-shadow: 0px 1px 2px rgba(60, 64, 67, 0.3), 0px 1px 3px 1px rgba(60, 64, 67, 0.15);\n",
              "      fill: #174EA6;\n",
              "    }\n",
              "\n",
              "    .colab-df-buttons div {\n",
              "      margin-bottom: 4px;\n",
              "    }\n",
              "\n",
              "    [theme=dark] .colab-df-convert {\n",
              "      background-color: #3B4455;\n",
              "      fill: #D2E3FC;\n",
              "    }\n",
              "\n",
              "    [theme=dark] .colab-df-convert:hover {\n",
              "      background-color: #434B5C;\n",
              "      box-shadow: 0px 1px 3px 1px rgba(0, 0, 0, 0.15);\n",
              "      filter: drop-shadow(0px 1px 2px rgba(0, 0, 0, 0.3));\n",
              "      fill: #FFFFFF;\n",
              "    }\n",
              "  </style>\n",
              "\n",
              "    <script>\n",
              "      const buttonEl =\n",
              "        document.querySelector('#df-47a7820a-52ef-48d9-9d1b-ed4a312aed1c button.colab-df-convert');\n",
              "      buttonEl.style.display =\n",
              "        google.colab.kernel.accessAllowed ? 'block' : 'none';\n",
              "\n",
              "      async function convertToInteractive(key) {\n",
              "        const element = document.querySelector('#df-47a7820a-52ef-48d9-9d1b-ed4a312aed1c');\n",
              "        const dataTable =\n",
              "          await google.colab.kernel.invokeFunction('convertToInteractive',\n",
              "                                                    [key], {});\n",
              "        if (!dataTable) return;\n",
              "\n",
              "        const docLinkHtml = 'Like what you see? Visit the ' +\n",
              "          '<a target=\"_blank\" href=https://colab.research.google.com/notebooks/data_table.ipynb>data table notebook</a>'\n",
              "          + ' to learn more about interactive tables.';\n",
              "        element.innerHTML = '';\n",
              "        dataTable['output_type'] = 'display_data';\n",
              "        await google.colab.output.renderOutput(dataTable, element);\n",
              "        const docLink = document.createElement('div');\n",
              "        docLink.innerHTML = docLinkHtml;\n",
              "        element.appendChild(docLink);\n",
              "      }\n",
              "    </script>\n",
              "  </div>\n",
              "\n",
              "\n",
              "<div id=\"df-f8618a6a-4b84-4c41-a618-ee4704c02408\">\n",
              "  <button class=\"colab-df-quickchart\" onclick=\"quickchart('df-f8618a6a-4b84-4c41-a618-ee4704c02408')\"\n",
              "            title=\"Suggest charts\"\n",
              "            style=\"display:none;\">\n",
              "\n",
              "<svg xmlns=\"http://www.w3.org/2000/svg\" height=\"24px\"viewBox=\"0 0 24 24\"\n",
              "     width=\"24px\">\n",
              "    <g>\n",
              "        <path d=\"M19 3H5c-1.1 0-2 .9-2 2v14c0 1.1.9 2 2 2h14c1.1 0 2-.9 2-2V5c0-1.1-.9-2-2-2zM9 17H7v-7h2v7zm4 0h-2V7h2v10zm4 0h-2v-4h2v4z\"/>\n",
              "    </g>\n",
              "</svg>\n",
              "  </button>\n",
              "\n",
              "<style>\n",
              "  .colab-df-quickchart {\n",
              "      --bg-color: #E8F0FE;\n",
              "      --fill-color: #1967D2;\n",
              "      --hover-bg-color: #E2EBFA;\n",
              "      --hover-fill-color: #174EA6;\n",
              "      --disabled-fill-color: #AAA;\n",
              "      --disabled-bg-color: #DDD;\n",
              "  }\n",
              "\n",
              "  [theme=dark] .colab-df-quickchart {\n",
              "      --bg-color: #3B4455;\n",
              "      --fill-color: #D2E3FC;\n",
              "      --hover-bg-color: #434B5C;\n",
              "      --hover-fill-color: #FFFFFF;\n",
              "      --disabled-bg-color: #3B4455;\n",
              "      --disabled-fill-color: #666;\n",
              "  }\n",
              "\n",
              "  .colab-df-quickchart {\n",
              "    background-color: var(--bg-color);\n",
              "    border: none;\n",
              "    border-radius: 50%;\n",
              "    cursor: pointer;\n",
              "    display: none;\n",
              "    fill: var(--fill-color);\n",
              "    height: 32px;\n",
              "    padding: 0;\n",
              "    width: 32px;\n",
              "  }\n",
              "\n",
              "  .colab-df-quickchart:hover {\n",
              "    background-color: var(--hover-bg-color);\n",
              "    box-shadow: 0 1px 2px rgba(60, 64, 67, 0.3), 0 1px 3px 1px rgba(60, 64, 67, 0.15);\n",
              "    fill: var(--button-hover-fill-color);\n",
              "  }\n",
              "\n",
              "  .colab-df-quickchart-complete:disabled,\n",
              "  .colab-df-quickchart-complete:disabled:hover {\n",
              "    background-color: var(--disabled-bg-color);\n",
              "    fill: var(--disabled-fill-color);\n",
              "    box-shadow: none;\n",
              "  }\n",
              "\n",
              "  .colab-df-spinner {\n",
              "    border: 2px solid var(--fill-color);\n",
              "    border-color: transparent;\n",
              "    border-bottom-color: var(--fill-color);\n",
              "    animation:\n",
              "      spin 1s steps(1) infinite;\n",
              "  }\n",
              "\n",
              "  @keyframes spin {\n",
              "    0% {\n",
              "      border-color: transparent;\n",
              "      border-bottom-color: var(--fill-color);\n",
              "      border-left-color: var(--fill-color);\n",
              "    }\n",
              "    20% {\n",
              "      border-color: transparent;\n",
              "      border-left-color: var(--fill-color);\n",
              "      border-top-color: var(--fill-color);\n",
              "    }\n",
              "    30% {\n",
              "      border-color: transparent;\n",
              "      border-left-color: var(--fill-color);\n",
              "      border-top-color: var(--fill-color);\n",
              "      border-right-color: var(--fill-color);\n",
              "    }\n",
              "    40% {\n",
              "      border-color: transparent;\n",
              "      border-right-color: var(--fill-color);\n",
              "      border-top-color: var(--fill-color);\n",
              "    }\n",
              "    60% {\n",
              "      border-color: transparent;\n",
              "      border-right-color: var(--fill-color);\n",
              "    }\n",
              "    80% {\n",
              "      border-color: transparent;\n",
              "      border-right-color: var(--fill-color);\n",
              "      border-bottom-color: var(--fill-color);\n",
              "    }\n",
              "    90% {\n",
              "      border-color: transparent;\n",
              "      border-bottom-color: var(--fill-color);\n",
              "    }\n",
              "  }\n",
              "</style>\n",
              "\n",
              "  <script>\n",
              "    async function quickchart(key) {\n",
              "      const quickchartButtonEl =\n",
              "        document.querySelector('#' + key + ' button');\n",
              "      quickchartButtonEl.disabled = true;  // To prevent multiple clicks.\n",
              "      quickchartButtonEl.classList.add('colab-df-spinner');\n",
              "      try {\n",
              "        const charts = await google.colab.kernel.invokeFunction(\n",
              "            'suggestCharts', [key], {});\n",
              "      } catch (error) {\n",
              "        console.error('Error during call to suggestCharts:', error);\n",
              "      }\n",
              "      quickchartButtonEl.classList.remove('colab-df-spinner');\n",
              "      quickchartButtonEl.classList.add('colab-df-quickchart-complete');\n",
              "    }\n",
              "    (() => {\n",
              "      let quickchartButtonEl =\n",
              "        document.querySelector('#df-f8618a6a-4b84-4c41-a618-ee4704c02408 button');\n",
              "      quickchartButtonEl.style.display =\n",
              "        google.colab.kernel.accessAllowed ? 'block' : 'none';\n",
              "    })();\n",
              "  </script>\n",
              "</div>\n",
              "\n",
              "    </div>\n",
              "  </div>\n"
            ],
            "application/vnd.google.colaboratory.intrinsic+json": {
              "type": "dataframe",
              "variable_name": "df1"
            }
          },
          "metadata": {},
          "execution_count": 17
        }
      ]
    },
    {
      "cell_type": "markdown",
      "source": [
        "# Modeling"
      ],
      "metadata": {
        "id": "trVXfRx6kNhW"
      }
    },
    {
      "cell_type": "code",
      "source": [
        "# here, I am going to build three models with their own features and parameters"
      ],
      "metadata": {
        "id": "L0BvBb_vkdwz"
      },
      "execution_count": 18,
      "outputs": []
    },
    {
      "cell_type": "markdown",
      "source": [
        "## Model1: Reactivity"
      ],
      "metadata": {
        "id": "oqjXvAWekqjs"
      }
    },
    {
      "cell_type": "code",
      "source": [
        "#preparing the data\n",
        "train = pd.merge(train[['id_seqpos']], df1 , on = 'id_seqpos')\n",
        "test = pd.merge(test[['id_seqpos']], df1 , on = 'id_seqpos')\n",
        "test.drop(['reactivity', 'deg_Mg_pH10', 'deg_Mg_50C'], axis=1, inplace=True)\n"
      ],
      "metadata": {
        "id": "mYDjwHk0ks6J"
      },
      "execution_count": 19,
      "outputs": []
    },
    {
      "cell_type": "markdown",
      "source": [
        "### features Important"
      ],
      "metadata": {
        "id": "63UDi73Mp7du"
      }
    },
    {
      "cell_type": "code",
      "source": [
        "!pip install dython"
      ],
      "metadata": {
        "id": "JGsSNOR6tuE7",
        "outputId": "be62feae-9c90-4801-9db4-4342775503a7",
        "colab": {
          "base_uri": "https://localhost:8080/"
        }
      },
      "execution_count": 20,
      "outputs": [
        {
          "output_type": "stream",
          "name": "stdout",
          "text": [
            "Collecting dython\n",
            "  Downloading dython-0.7.6-py3-none-any.whl.metadata (3.0 kB)\n",
            "Requirement already satisfied: numpy>=1.23.0 in /usr/local/lib/python3.10/dist-packages (from dython) (1.26.4)\n",
            "Requirement already satisfied: pandas>=1.4.2 in /usr/local/lib/python3.10/dist-packages (from dython) (2.1.4)\n",
            "Requirement already satisfied: seaborn>=0.12.0 in /usr/local/lib/python3.10/dist-packages (from dython) (0.13.1)\n",
            "Requirement already satisfied: scipy>=1.7.1 in /usr/local/lib/python3.10/dist-packages (from dython) (1.13.1)\n",
            "Requirement already satisfied: matplotlib>=3.6.0 in /usr/local/lib/python3.10/dist-packages (from dython) (3.7.1)\n",
            "Requirement already satisfied: scikit-learn>=0.24.2 in /usr/local/lib/python3.10/dist-packages (from dython) (1.3.2)\n",
            "Requirement already satisfied: psutil>=5.9.1 in /usr/local/lib/python3.10/dist-packages (from dython) (5.9.5)\n",
            "Requirement already satisfied: contourpy>=1.0.1 in /usr/local/lib/python3.10/dist-packages (from matplotlib>=3.6.0->dython) (1.2.1)\n",
            "Requirement already satisfied: cycler>=0.10 in /usr/local/lib/python3.10/dist-packages (from matplotlib>=3.6.0->dython) (0.12.1)\n",
            "Requirement already satisfied: fonttools>=4.22.0 in /usr/local/lib/python3.10/dist-packages (from matplotlib>=3.6.0->dython) (4.53.1)\n",
            "Requirement already satisfied: kiwisolver>=1.0.1 in /usr/local/lib/python3.10/dist-packages (from matplotlib>=3.6.0->dython) (1.4.5)\n",
            "Requirement already satisfied: packaging>=20.0 in /usr/local/lib/python3.10/dist-packages (from matplotlib>=3.6.0->dython) (24.1)\n",
            "Requirement already satisfied: pillow>=6.2.0 in /usr/local/lib/python3.10/dist-packages (from matplotlib>=3.6.0->dython) (9.4.0)\n",
            "Requirement already satisfied: pyparsing>=2.3.1 in /usr/local/lib/python3.10/dist-packages (from matplotlib>=3.6.0->dython) (3.1.2)\n",
            "Requirement already satisfied: python-dateutil>=2.7 in /usr/local/lib/python3.10/dist-packages (from matplotlib>=3.6.0->dython) (2.8.2)\n",
            "Requirement already satisfied: pytz>=2020.1 in /usr/local/lib/python3.10/dist-packages (from pandas>=1.4.2->dython) (2024.1)\n",
            "Requirement already satisfied: tzdata>=2022.1 in /usr/local/lib/python3.10/dist-packages (from pandas>=1.4.2->dython) (2024.1)\n",
            "Requirement already satisfied: joblib>=1.1.1 in /usr/local/lib/python3.10/dist-packages (from scikit-learn>=0.24.2->dython) (1.4.2)\n",
            "Requirement already satisfied: threadpoolctl>=2.0.0 in /usr/local/lib/python3.10/dist-packages (from scikit-learn>=0.24.2->dython) (3.5.0)\n",
            "Requirement already satisfied: six>=1.5 in /usr/local/lib/python3.10/dist-packages (from python-dateutil>=2.7->matplotlib>=3.6.0->dython) (1.16.0)\n",
            "Downloading dython-0.7.6-py3-none-any.whl (26 kB)\n",
            "Installing collected packages: dython\n",
            "Successfully installed dython-0.7.6\n"
          ]
        }
      ]
    },
    {
      "cell_type": "code",
      "source": [
        "import pandas as pd\n",
        "from dython.nominal import associations\n",
        "from dython.nominal import correlation_ratio\n"
      ],
      "metadata": {
        "id": "J941BK6nuAy9"
      },
      "execution_count": 21,
      "outputs": []
    },
    {
      "cell_type": "code",
      "source": [
        "for col in train.select_dtypes(include='object').columns:\n",
        "    eta = correlation_ratio(train[col], train['reactivity'])\n",
        "    print(f\"Correlation  {col} and reactivity: {eta:.4f}\")"
      ],
      "metadata": {
        "id": "RrQb33uKrQfq",
        "colab": {
          "base_uri": "https://localhost:8080/"
        },
        "outputId": "6d765109-4814-428c-bf8e-b405f760f054"
      },
      "execution_count": 22,
      "outputs": [
        {
          "output_type": "stream",
          "name": "stdout",
          "text": [
            "Correlation  id_seqpos and reactivity: 1.0000\n",
            "Correlation  id and reactivity: 0.1769\n",
            "Correlation  sequence and reactivity: 0.1730\n",
            "Correlation  structure and reactivity: 0.2621\n",
            "Correlation  predicted_loop_type and reactivity: 0.2732\n",
            "Correlation  full_sequence and reactivity: 0.1697\n",
            "Correlation  full_structure and reactivity: 0.1345\n",
            "Correlation  predicted_loop and reactivity: 0.1346\n",
            "Correlation  codon and reactivity: 0.2613\n",
            "Correlation  codon_str and reactivity: 0.2485\n",
            "Correlation  codon_pred_loop and reactivity: 0.2572\n",
            "Correlation  codon_name and reactivity: 0.1902\n",
            "Correlation  z1 and reactivity: 0.3076\n"
          ]
        }
      ]
    },
    {
      "cell_type": "code",
      "source": [
        "train_numerical = train[train.columns[train.dtypes != 'object']]\n",
        "train_categorical = train[train.columns[train.dtypes == 'object']]\n",
        "corr=abs(train_numerical.corr())\n",
        "core = corr.reactivity.sort_values(ascending=False)\n",
        "core"
      ],
      "metadata": {
        "id": "4w_bkRKCqUYm",
        "colab": {
          "base_uri": "https://localhost:8080/"
        },
        "outputId": "3631b156-2280-4d82-87f1-bacefb24f3be"
      },
      "execution_count": 24,
      "outputs": [
        {
          "output_type": "execute_result",
          "data": {
            "text/plain": [
              "reactivity           1.000000\n",
              "deg_Mg_50C           0.495704\n",
              "deg_Mg_pH10          0.451195\n",
              "deg_50C              0.440576\n",
              "deg_pH10             0.412597\n",
              "id_number            0.108214\n",
              "reactivity_error     0.036351\n",
              "deg_error_Mg_pH10    0.024306\n",
              "deg_error_Mg_50C     0.023550\n",
              "deg_error_pH10       0.015277\n",
              "deg_error_50C        0.014824\n",
              "Name: reactivity, dtype: float64"
            ]
          },
          "metadata": {},
          "execution_count": 24
        }
      ]
    },
    {
      "cell_type": "markdown",
      "source": [
        "### encoding"
      ],
      "metadata": {
        "id": "VjxcoLaxlI_M"
      }
    },
    {
      "cell_type": "code",
      "source": [
        "train.drop(['id', 'id_seqpos', 'id_number'], axis=1, inplace=True)\n",
        "test.drop(['id', 'id_seqpos', 'id_number'], axis=1, inplace=True)"
      ],
      "metadata": {
        "id": "rvmHOAnLlOPP"
      },
      "execution_count": 25,
      "outputs": []
    },
    {
      "cell_type": "code",
      "source": [
        "train['G'] = train['full_sequence'].apply(lambda x:x.count('G'))/68\n",
        "train['U'] = train['full_sequence'].apply(lambda x:x.count('U'))/68\n",
        "train['A'] = train['full_sequence'].apply(lambda x:x.count('A'))/68\n",
        "train['C'] = train['full_sequence'].apply(lambda x:x.count('C'))/68\n",
        "train['loop_E'] = train['predicted_loop'].apply(lambda x:x.count('E'))\n",
        "train['loop_S'] = train['predicted_loop'].apply(lambda x:x.count('S'))\n",
        "train['loop_M'] = train['predicted_loop'].apply(lambda x:x.count('M'))\n",
        "train['loop_H'] = train['predicted_loop'].apply(lambda x:x.count('H'))\n",
        "train['loop_B'] = train['predicted_loop'].apply(lambda x:x.count('B'))\n",
        "train['loop_I'] = train['predicted_loop'].apply(lambda x:x.count('I'))\n",
        "train['loop_X'] = train['predicted_loop'].apply(lambda x:x.count('X'))\n",
        "\n",
        "test['G'] = test['full_sequence'].apply(lambda x:x.count('G'))/68\n",
        "test['U'] = test['full_sequence'].apply(lambda x:x.count('U'))/68\n",
        "test['A'] = test['full_sequence'].apply(lambda x:x.count('A'))/68\n",
        "test['C'] = test['full_sequence'].apply(lambda x:x.count('C'))/68\n",
        "test['loop_E'] = test['predicted_loop'].apply(lambda x:x.count('E'))\n",
        "test['loop_S'] = test['predicted_loop'].apply(lambda x:x.count('S'))\n",
        "test['loop_M'] = test['predicted_loop'].apply(lambda x:x.count('M'))\n",
        "test['loop_H'] = test['predicted_loop'].apply(lambda x:x.count('H'))\n",
        "test['loop_B'] = test['predicted_loop'].apply(lambda x:x.count('B'))\n",
        "test['loop_I'] = test['predicted_loop'].apply(lambda x:x.count('I'))\n",
        "test['loop_X'] = test['predicted_loop'].apply(lambda x:x.count('X'))"
      ],
      "metadata": {
        "id": "ZO7Yn-mQlcUm"
      },
      "execution_count": 26,
      "outputs": []
    },
    {
      "cell_type": "code",
      "source": [
        "# new features help us to improve the score\n",
        "train['error_50cc'] = train['deg_error_Mg_50C'] - train['deg_error_50C']\n",
        "train['error_pH10c'] = train['deg_error_Mg_pH10'] - train['deg_error_pH10']\n",
        "\n",
        "\n",
        "train['all_errors'] = train['deg_error_Mg_50C']+train['deg_error_Mg_pH10']+train['deg_error_50C']+train['deg_error_pH10']\n",
        "train['a1'] = train['deg_50C']+train['deg_error_50C']\n",
        "train['a2'] = train['deg_pH10']+train['deg_error_pH10']\n",
        "\n",
        "test['all_errors'] = test['deg_error_Mg_50C']+test['deg_error_Mg_pH10']+test['deg_error_50C']+test['deg_error_pH10']\n",
        "test['a1'] = test['deg_50C']+test['deg_error_50C']\n",
        "test['a2'] = test['deg_pH10']+test['deg_error_pH10']\n",
        "\n"
      ],
      "metadata": {
        "id": "8mvDC7iAiyni"
      },
      "execution_count": 27,
      "outputs": []
    },
    {
      "cell_type": "code",
      "source": [
        "# a way to encode the features\n",
        "lookup_table = {\n",
        "    '(': 0,\n",
        "    ')': 1,\n",
        "    '.': 2,\n",
        "    'A': 3,\n",
        "    'C': 4,\n",
        "    'G': 5,\n",
        "    'U': 6,\n",
        "    'B': 7,\n",
        "    'E': 8,\n",
        "    'H': 9,\n",
        "    'I': 10,\n",
        "    'M': 11,\n",
        "    'S': 12,\n",
        "    'X': 13\n",
        "}\n",
        "\n",
        "def encoding(sequence, lookup):\n",
        "    return [lookup[char] for char in sequence if char in lookup]\n",
        "\n",
        "def preprocess_data_custom(df):\n",
        "    df = df.copy()\n",
        "    column_patterns = ['sequence', 'structure', 'predicted_loop','z1','codon_str']\n",
        "    for pattern in column_patterns:\n",
        "        columns_to_encode = [col for col in df.columns if pattern in col]\n",
        "        for column in columns_to_encode:\n",
        "            df[column] = df[column].apply(lambda x: int(''.join(map(str, encoding(x, lookup_table)))) if pd.notnull(x) else x)\n",
        "    df['codon'] = df['codon'].apply(lambda x: int(''.join(map(str, encoding(x, lookup_table)))) if pd.notnull(x) else x)\n",
        "\n",
        "\n",
        "    return df\n",
        "train = preprocess_data_custom(train)\n",
        "test = preprocess_data_custom(test)\n"
      ],
      "metadata": {
        "id": "W997s9TilnHl"
      },
      "execution_count": 28,
      "outputs": []
    },
    {
      "cell_type": "code",
      "source": [
        "train1 = train.drop(['full_structure', 'predicted_loop', 'full_sequence'], axis=1)\n",
        "test1 = test.drop(['full_structure', 'predicted_loop', 'full_sequence'], axis=1)\n",
        "\n",
        "categories_columns = train1.select_dtypes(include='object').columns\n",
        "\n",
        "# Generate dummy variables for categorical columns\n",
        "dummies = pd.get_dummies(train1[categories_columns], drop_first=True)\n",
        "# Concatenate dummy variables with the main DataFrame\n",
        "train1 = pd.concat([train1, dummies], axis=1)\n",
        "# Optionally drop the original categorical columns\n",
        "train1.drop(categories_columns, axis=1, inplace=True)\n",
        "\n",
        "categories_columns_test = test1.select_dtypes(include='object').columns\n",
        "\n",
        "dummies = pd.get_dummies(test1[categories_columns], drop_first=True)\n",
        "test1 = pd.concat([test1, dummies], axis=1)\n",
        "test1.drop(categories_columns_test, axis=1, inplace=True)"
      ],
      "metadata": {
        "id": "6AgQmE9lltSW"
      },
      "execution_count": 29,
      "outputs": []
    },
    {
      "cell_type": "markdown",
      "source": [
        "### train and test the reactivity model"
      ],
      "metadata": {
        "id": "26dtz8U_l0eJ"
      }
    },
    {
      "cell_type": "code",
      "source": [
        "X = train1.drop(['reactivity', 'deg_Mg_pH10', 'deg_Mg_50C'], axis=1)\n",
        "y=train1['reactivity']\n",
        "X.drop([i for i in set(X.columns) - set(test1.columns)], axis=1, inplace=True)\n",
        "\n",
        "from sklearn.model_selection import train_test_split\n",
        "X_train, X_test, y_train, y_test = train_test_split(X, y, test_size=0.2, random_state=42)"
      ],
      "metadata": {
        "id": "JRzLN-MMv9W8"
      },
      "execution_count": 30,
      "outputs": []
    },
    {
      "cell_type": "code",
      "source": [
        "X.shape, test1.shape"
      ],
      "metadata": {
        "colab": {
          "base_uri": "https://localhost:8080/"
        },
        "id": "rxF1Ir-Ua3yW",
        "outputId": "f2c91461-7806-47ea-fb26-d9dd765ffefc"
      },
      "execution_count": 31,
      "outputs": [
        {
          "output_type": "execute_result",
          "data": {
            "text/plain": [
              "((130560, 91), (32640, 91))"
            ]
          },
          "metadata": {},
          "execution_count": 31
        }
      ]
    },
    {
      "cell_type": "code",
      "source": [
        "!pip install catboost"
      ],
      "metadata": {
        "id": "XexASiIgv9Oo",
        "colab": {
          "base_uri": "https://localhost:8080/"
        },
        "outputId": "092ec1dd-743a-462b-8cfd-54f106b24055"
      },
      "execution_count": 32,
      "outputs": [
        {
          "output_type": "stream",
          "name": "stdout",
          "text": [
            "Collecting catboost\n",
            "  Downloading catboost-1.2.5-cp310-cp310-manylinux2014_x86_64.whl.metadata (1.2 kB)\n",
            "Requirement already satisfied: graphviz in /usr/local/lib/python3.10/dist-packages (from catboost) (0.20.3)\n",
            "Requirement already satisfied: matplotlib in /usr/local/lib/python3.10/dist-packages (from catboost) (3.7.1)\n",
            "Requirement already satisfied: numpy>=1.16.0 in /usr/local/lib/python3.10/dist-packages (from catboost) (1.26.4)\n",
            "Requirement already satisfied: pandas>=0.24 in /usr/local/lib/python3.10/dist-packages (from catboost) (2.1.4)\n",
            "Requirement already satisfied: scipy in /usr/local/lib/python3.10/dist-packages (from catboost) (1.13.1)\n",
            "Requirement already satisfied: plotly in /usr/local/lib/python3.10/dist-packages (from catboost) (5.15.0)\n",
            "Requirement already satisfied: six in /usr/local/lib/python3.10/dist-packages (from catboost) (1.16.0)\n",
            "Requirement already satisfied: python-dateutil>=2.8.2 in /usr/local/lib/python3.10/dist-packages (from pandas>=0.24->catboost) (2.8.2)\n",
            "Requirement already satisfied: pytz>=2020.1 in /usr/local/lib/python3.10/dist-packages (from pandas>=0.24->catboost) (2024.1)\n",
            "Requirement already satisfied: tzdata>=2022.1 in /usr/local/lib/python3.10/dist-packages (from pandas>=0.24->catboost) (2024.1)\n",
            "Requirement already satisfied: contourpy>=1.0.1 in /usr/local/lib/python3.10/dist-packages (from matplotlib->catboost) (1.2.1)\n",
            "Requirement already satisfied: cycler>=0.10 in /usr/local/lib/python3.10/dist-packages (from matplotlib->catboost) (0.12.1)\n",
            "Requirement already satisfied: fonttools>=4.22.0 in /usr/local/lib/python3.10/dist-packages (from matplotlib->catboost) (4.53.1)\n",
            "Requirement already satisfied: kiwisolver>=1.0.1 in /usr/local/lib/python3.10/dist-packages (from matplotlib->catboost) (1.4.5)\n",
            "Requirement already satisfied: packaging>=20.0 in /usr/local/lib/python3.10/dist-packages (from matplotlib->catboost) (24.1)\n",
            "Requirement already satisfied: pillow>=6.2.0 in /usr/local/lib/python3.10/dist-packages (from matplotlib->catboost) (9.4.0)\n",
            "Requirement already satisfied: pyparsing>=2.3.1 in /usr/local/lib/python3.10/dist-packages (from matplotlib->catboost) (3.1.2)\n",
            "Requirement already satisfied: tenacity>=6.2.0 in /usr/local/lib/python3.10/dist-packages (from plotly->catboost) (8.5.0)\n",
            "Downloading catboost-1.2.5-cp310-cp310-manylinux2014_x86_64.whl (98.2 MB)\n",
            "\u001b[2K   \u001b[90m━━━━━━━━━━━━━━━━━━━━━━━━━━━━━━━━━━━━━━━━\u001b[0m \u001b[32m98.2/98.2 MB\u001b[0m \u001b[31m5.1 MB/s\u001b[0m eta \u001b[36m0:00:00\u001b[0m\n",
            "\u001b[?25hInstalling collected packages: catboost\n",
            "Successfully installed catboost-1.2.5\n"
          ]
        }
      ]
    },
    {
      "cell_type": "code",
      "source": [
        "# evaluation metric\n",
        "import tensorflow.keras.backend as K\n",
        "\n",
        "def MCRMSE(y_true, y_pred):\n",
        "    colwise_mse = K.mean(K.square(y_true - y_pred))\n",
        "    return K.mean(K.sqrt(colwise_mse))\n"
      ],
      "metadata": {
        "id": "FeliA6SOmL78"
      },
      "execution_count": 33,
      "outputs": []
    },
    {
      "cell_type": "code",
      "source": [
        "from catboost import CatBoostRegressor, Pool\n",
        "train_pool1 = Pool(X_train, y_train)\n",
        "train_pool2 = Pool(X_train, y_train)\n",
        "train_pool3 = Pool(X_train, y_train)\n",
        "\n",
        "test_pool = Pool(X_test)\n",
        "\n",
        "\n",
        "model1 = CatBoostRegressor(iterations=1000,\n",
        "                          learning_rate=0.1,\n",
        "                          depth=6,\n",
        "                          verbose=100,\n",
        "                           )\n",
        "model1.fit(train_pool1)\n",
        "predR = model1.predict(test_pool)"
      ],
      "metadata": {
        "id": "MTZKtGwvv9L3",
        "colab": {
          "base_uri": "https://localhost:8080/"
        },
        "outputId": "2a427009-435b-4a03-b44e-f542d7981814"
      },
      "execution_count": 34,
      "outputs": [
        {
          "output_type": "stream",
          "name": "stdout",
          "text": [
            "0:\tlearn: 0.7163256\ttotal: 97.2ms\tremaining: 1m 37s\n",
            "100:\tlearn: 0.4874354\ttotal: 6.63s\tremaining: 59s\n",
            "200:\tlearn: 0.4394726\ttotal: 12.4s\tremaining: 49.1s\n",
            "300:\tlearn: 0.4106553\ttotal: 18.4s\tremaining: 42.8s\n",
            "400:\tlearn: 0.3903106\ttotal: 27.4s\tremaining: 41s\n",
            "500:\tlearn: 0.3733559\ttotal: 34.5s\tremaining: 34.4s\n",
            "600:\tlearn: 0.3605293\ttotal: 43.2s\tremaining: 28.7s\n",
            "700:\tlearn: 0.3486814\ttotal: 49.2s\tremaining: 21s\n",
            "800:\tlearn: 0.3395195\ttotal: 55.7s\tremaining: 13.8s\n",
            "900:\tlearn: 0.3295257\ttotal: 1m\tremaining: 6.67s\n",
            "999:\tlearn: 0.3228926\ttotal: 1m 5s\tremaining: 0us\n"
          ]
        }
      ]
    },
    {
      "cell_type": "code",
      "source": [
        "print('RMSE for catboost')\n",
        "print(MCRMSE(y_test,predR))\n"
      ],
      "metadata": {
        "colab": {
          "base_uri": "https://localhost:8080/"
        },
        "id": "fIt0jVdRmily",
        "outputId": "1c8af6ff-cebd-4020-ef44-c2846ffccffd"
      },
      "execution_count": 35,
      "outputs": [
        {
          "output_type": "stream",
          "name": "stdout",
          "text": [
            "RMSE for catboost\n",
            "tf.Tensor(0.47075702894052274, shape=(), dtype=float64)\n"
          ]
        }
      ]
    },
    {
      "cell_type": "code",
      "source": [
        "#HGBC\n",
        "from sklearn.ensemble import HistGradientBoostingRegressor\n",
        "model = HistGradientBoostingRegressor(max_iter=1000, learning_rate=0.1, random_state=42)\n",
        "model.fit(X_train, y_train)\n",
        "predR = model.predict(X_test)\n",
        "print('RMSE for HGBC')\n",
        "print(MCRMSE(y_test,predR))"
      ],
      "metadata": {
        "colab": {
          "base_uri": "https://localhost:8080/"
        },
        "id": "RVgWwQ0lIb08",
        "outputId": "3fed6326-d4ea-474c-a523-bfeb9618b391"
      },
      "execution_count": 37,
      "outputs": [
        {
          "output_type": "stream",
          "name": "stdout",
          "text": [
            "RMSE for HGBC\n",
            "tf.Tensor(0.46652134132019984, shape=(), dtype=float64)\n"
          ]
        }
      ]
    },
    {
      "cell_type": "code",
      "source": [
        "#RF\n",
        "from sklearn.ensemble import RandomForestRegressor\n",
        "model = RandomForestRegressor(n_estimators=50, random_state=42)\n",
        "model.fit(X_train, y_train)\n",
        "predR = model.predict(X_test)\n",
        "print('RMSE for Random Forest')\n",
        "print(MCRMSE(y_test,predR))"
      ],
      "metadata": {
        "colab": {
          "base_uri": "https://localhost:8080/"
        },
        "id": "YzhgHgTLLY66",
        "outputId": "ce23e6f2-65e6-403d-cf7a-a2ffb680caa4"
      },
      "execution_count": 38,
      "outputs": [
        {
          "output_type": "stream",
          "name": "stdout",
          "text": [
            "RMSE for Random Forest\n",
            "tf.Tensor(0.3778727229273519, shape=(), dtype=float64)\n"
          ]
        }
      ]
    },
    {
      "cell_type": "code",
      "source": [
        "import lightgbm as lgb\n",
        "model_reactivity = lgb.LGBMRegressor(n_estimators=1500, learning_rate=0.1, num_leaves=31, random_state=42)\n",
        "model_reactivity.fit(X_train, y_train)\n",
        "predR = model_reactivity.predict(X_test)\n",
        "print('RMSE for LightGBM')\n",
        "print(MCRMSE(y_test,predR))"
      ],
      "metadata": {
        "colab": {
          "base_uri": "https://localhost:8080/"
        },
        "id": "4ghsXexZ2bFv",
        "outputId": "15557b6c-65f9-4241-f1c6-e50dd0b79e1a"
      },
      "execution_count": 40,
      "outputs": [
        {
          "output_type": "stream",
          "name": "stderr",
          "text": [
            "/usr/local/lib/python3.10/dist-packages/dask/dataframe/__init__.py:42: FutureWarning: \n",
            "Dask dataframe query planning is disabled because dask-expr is not installed.\n",
            "\n",
            "You can install it with `pip install dask[dataframe]` or `conda install dask`.\n",
            "This will raise in a future version.\n",
            "\n",
            "  warnings.warn(msg, FutureWarning)\n"
          ]
        },
        {
          "output_type": "stream",
          "name": "stdout",
          "text": [
            "[LightGBM] [Warning] Found whitespace in feature_names, replace with underlines\n",
            "[LightGBM] [Info] Auto-choosing col-wise multi-threading, the overhead of testing was 0.115806 seconds.\n",
            "You can set `force_col_wise=true` to remove the overhead.\n",
            "[LightGBM] [Info] Total Bins 3215\n",
            "[LightGBM] [Info] Number of data points in the train set: 104448, number of used features: 84\n",
            "[LightGBM] [Info] Start training from score 0.377152\n",
            "RMSE for LightGBM\n",
            "tf.Tensor(0.3464135381435738, shape=(), dtype=float64)\n"
          ]
        }
      ]
    },
    {
      "cell_type": "code",
      "source": [
        "from sklearn.ensemble import GradientBoostingRegressor\n",
        "base_regressor = GradientBoostingRegressor(\n",
        "    n_estimators=1000,            # Number of boosting stages to be run\n",
        "    learning_rate=0.1,          # Learning rate to shrink the contribution of each tree\n",
        "    max_depth=4,                 # Maximum depth of the individual regression estimators\n",
        "    min_samples_split=3,         # Minimum number of samples required to split an internal node\n",
        "    min_samples_leaf=2,          # Minimum number of samples required to be at a leaf node\n",
        "    subsample=0.8,               # Fraction of samples to be used for fitting the individual base learners\n",
        "    max_features='sqrt',         # Number of features to consider when looking for the best split\n",
        "    random_state=42              # Seed for random number generation\n",
        ")\n",
        "gpr = base_regressor\n",
        "gpr.fit(X_train, y_train)\n",
        "predR = gpr.predict(X_test)\n",
        "print('RMSE for GBM')\n",
        "print(MCRMSE(y_test,predR))"
      ],
      "metadata": {
        "colab": {
          "base_uri": "https://localhost:8080/"
        },
        "id": "TZQBkFTSYnAR",
        "outputId": "b59cfaa6-7dcb-47c1-8fb2-e9a06247b199"
      },
      "execution_count": 41,
      "outputs": [
        {
          "output_type": "stream",
          "name": "stdout",
          "text": [
            "RMSE for GBM\n",
            "tf.Tensor(0.38009868440494055, shape=(), dtype=float64)\n"
          ]
        }
      ]
    },
    {
      "cell_type": "code",
      "source": [
        "import xgboost as xgb\n",
        "model = xgb.XGBRegressor(objective='reg:squarederror',  # Use reg:squarederror for regression\n",
        "                         n_estimators=1000,\n",
        "                         learning_rate=0.1,\n",
        "                         max_depth=5,\n",
        "                         random_state=42)\n",
        "\n",
        "model.fit(X_train, y_train)\n",
        "predR = model.predict(X_test)\n",
        "print('RMSE for XGBOOST')\n",
        "print(MCRMSE(y_test,predR))"
      ],
      "metadata": {
        "colab": {
          "base_uri": "https://localhost:8080/"
        },
        "id": "WkN7rdcx0PlK",
        "outputId": "cb25b177-8355-4d92-bd6d-5b24f0774fc8"
      },
      "execution_count": 42,
      "outputs": [
        {
          "output_type": "stream",
          "name": "stdout",
          "text": [
            "RMSE for XGBOOST\n",
            "tf.Tensor(0.4651747414416518, shape=(), dtype=float64)\n"
          ]
        }
      ]
    },
    {
      "cell_type": "code",
      "source": [
        "pp1 = model_reactivity.predict(test1)"
      ],
      "metadata": {
        "id": "KDADh8uQpabB"
      },
      "execution_count": 43,
      "outputs": []
    },
    {
      "cell_type": "code",
      "source": [
        "feature_importances = model_reactivity.feature_importances_\n",
        "feature_importances"
      ],
      "metadata": {
        "colab": {
          "base_uri": "https://localhost:8080/"
        },
        "id": "2AO7p_pJ9tEa",
        "outputId": "215b1e27-5f41-4d53-b747-40036c83a1ee"
      },
      "execution_count": 44,
      "outputs": [
        {
          "output_type": "execute_result",
          "data": {
            "text/plain": [
              "array([ 678,  345,  448, 6645, 2817, 2024, 2121, 2943, 2086, 2282, 2046,\n",
              "        841, 1201, 1609, 1496, 1835, 1598,  729, 1221,  358,  940,  431,\n",
              "        664,  792, 1566, 1686, 1483,    3,    0,    0,    0,    6,  151,\n",
              "         39,    0,   14,  164,   30,    0,   11,   21,   17,   27,    8,\n",
              "          0,    0,    0,   16,   19,    8,    0,    6,   17,   13,  125,\n",
              "         11,   13,    6,   12,   17,   62,    6,   11,   69,   12,    6,\n",
              "         13,    0,    0,   14,   17,   99,   48,   30,    6,  135,   32,\n",
              "        175,    8,  151,   51,   55,   13,   13,   64,  100,   32,   16,\n",
              "          3,   52,   68], dtype=int32)"
            ]
          },
          "metadata": {},
          "execution_count": 44
        }
      ]
    },
    {
      "cell_type": "code",
      "source": [
        "import seaborn as sns\n",
        "import matplotlib.pyplot as plt\n",
        "\n",
        "feature_importances = model_reactivity.feature_importances_\n",
        "feature_importances\n",
        "\n",
        "# Create a DataFrame with feature importances\n",
        "importance_df = pd.DataFrame({\n",
        "    'Feature': X_train.columns,\n",
        "    'Importance': feature_importances\n",
        "})\n",
        "\n",
        "importance_df.sort_values(by='Importance', ascending=False, inplace=True)\n",
        "\n",
        "# Plot the feature importances\n",
        "plt.figure(figsize=(10, 6))\n",
        "sns.barplot(x='Importance', y='Feature', data=importance_df[:20])\n",
        "plt.title('Feature Importances')"
      ],
      "metadata": {
        "colab": {
          "base_uri": "https://localhost:8080/",
          "height": 582
        },
        "id": "gKR6O0cw9-S1",
        "outputId": "0ad3a8cf-b5bb-44be-ab92-4a0ca5b8d7a8"
      },
      "execution_count": 45,
      "outputs": [
        {
          "output_type": "execute_result",
          "data": {
            "text/plain": [
              "Text(0.5, 1.0, 'Feature Importances')"
            ]
          },
          "metadata": {},
          "execution_count": 45
        },
        {
          "output_type": "display_data",
          "data": {
            "text/plain": [
              "<Figure size 1000x600 with 1 Axes>"
            ],
            "image/png": "[encoded data removed]"
          },
          "metadata": {}
        }
      ]
    },
    {
      "cell_type": "code",
      "source": [
        "X_train.corrwith(y_train).to_frame().sort_values(by=0, ascending=False)"
      ],
      "metadata": {
        "colab": {
          "base_uri": "https://localhost:8080/",
          "height": 423
        },
        "id": "pTGx9L41-WUU",
        "outputId": "81092514-2486-4fdd-9ce1-502d9d078bc5"
      },
      "execution_count": 46,
      "outputs": [
        {
          "output_type": "execute_result",
          "data": {
            "text/plain": [
              "                            0\n",
              "deg_50C              0.442653\n",
              "deg_pH10             0.403158\n",
              "structure            0.234294\n",
              "codon_str            0.159206\n",
              "codon_pred_loop_EEE  0.119932\n",
              "...                       ...\n",
              "codon_name_Arginine -0.052236\n",
              "sequence            -0.070992\n",
              "codon_pred_loop_SSS -0.203040\n",
              "z1                  -0.216969\n",
              "predicted_loop_type -0.225365\n",
              "\n",
              "[91 rows x 1 columns]"
            ],
            "text/html": [
              "\n",
              "  <div id=\"df-474eeaab-925b-4de3-9207-da8b518618fc\" class=\"colab-df-container\">\n",
              "    <div>\n",
              "<style scoped>\n",
              "    .dataframe tbody tr th:only-of-type {\n",
              "        vertical-align: middle;\n",
              "    }\n",
              "\n",
              "    .dataframe tbody tr th {\n",
              "        vertical-align: top;\n",
              "    }\n",
              "\n",
              "    .dataframe thead th {\n",
              "        text-align: right;\n",
              "    }\n",
              "</style>\n",
              "<table border=\"1\" class=\"dataframe\">\n",
              "  <thead>\n",
              "    <tr style=\"text-align: right;\">\n",
              "      <th></th>\n",
              "      <th>0</th>\n",
              "    </tr>\n",
              "  </thead>\n",
              "  <tbody>\n",
              "    <tr>\n",
              "      <th>deg_50C</th>\n",
              "      <td>0.442653</td>\n",
              "    </tr>\n",
              "    <tr>\n",
              "      <th>deg_pH10</th>\n",
              "      <td>0.403158</td>\n",
              "    </tr>\n",
              "    <tr>\n",
              "      <th>structure</th>\n",
              "      <td>0.234294</td>\n",
              "    </tr>\n",
              "    <tr>\n",
              "      <th>codon_str</th>\n",
              "      <td>0.159206</td>\n",
              "    </tr>\n",
              "    <tr>\n",
              "      <th>codon_pred_loop_EEE</th>\n",
              "      <td>0.119932</td>\n",
              "    </tr>\n",
              "    <tr>\n",
              "      <th>...</th>\n",
              "      <td>...</td>\n",
              "    </tr>\n",
              "    <tr>\n",
              "      <th>codon_name_Arginine</th>\n",
              "      <td>-0.052236</td>\n",
              "    </tr>\n",
              "    <tr>\n",
              "      <th>sequence</th>\n",
              "      <td>-0.070992</td>\n",
              "    </tr>\n",
              "    <tr>\n",
              "      <th>codon_pred_loop_SSS</th>\n",
              "      <td>-0.203040</td>\n",
              "    </tr>\n",
              "    <tr>\n",
              "      <th>z1</th>\n",
              "      <td>-0.216969</td>\n",
              "    </tr>\n",
              "    <tr>\n",
              "      <th>predicted_loop_type</th>\n",
              "      <td>-0.225365</td>\n",
              "    </tr>\n",
              "  </tbody>\n",
              "</table>\n",
              "<p>91 rows × 1 columns</p>\n",
              "</div>\n",
              "    <div class=\"colab-df-buttons\">\n",
              "\n",
              "  <div class=\"colab-df-container\">\n",
              "    <button class=\"colab-df-convert\" onclick=\"convertToInteractive('df-474eeaab-925b-4de3-9207-da8b518618fc')\"\n",
              "            title=\"Convert this dataframe to an interactive table.\"\n",
              "            style=\"display:none;\">\n",
              "\n",
              "  <svg xmlns=\"http://www.w3.org/2000/svg\" height=\"24px\" viewBox=\"0 -960 960 960\">\n",
              "    <path d=\"M120-120v-720h720v720H120Zm60-500h600v-160H180v160Zm220 220h160v-160H400v160Zm0 220h160v-160H400v160ZM180-400h160v-160H180v160Zm440 0h160v-160H620v160ZM180-180h160v-160H180v160Zm440 0h160v-160H620v160Z\"/>\n",
              "  </svg>\n",
              "    </button>\n",
              "\n",
              "  <style>\n",
              "    .colab-df-container {\n",
              "      display:flex;\n",
              "      gap: 12px;\n",
              "    }\n",
              "\n",
              "    .colab-df-convert {\n",
              "      background-color: #E8F0FE;\n",
              "      border: none;\n",
              "      border-radius: 50%;\n",
              "      cursor: pointer;\n",
              "      display: none;\n",
              "      fill: #1967D2;\n",
              "      height: 32px;\n",
              "      padding: 0 0 0 0;\n",
              "      width: 32px;\n",
              "    }\n",
              "\n",
              "    .colab-df-convert:hover {\n",
              "      background-color: #E2EBFA;\n",
              "      box-shadow: 0px 1px 2px rgba(60, 64, 67, 0.3), 0px 1px 3px 1px rgba(60, 64, 67, 0.15);\n",
              "      fill: #174EA6;\n",
              "    }\n",
              "\n",
              "    .colab-df-buttons div {\n",
              "      margin-bottom: 4px;\n",
              "    }\n",
              "\n",
              "    [theme=dark] .colab-df-convert {\n",
              "      background-color: #3B4455;\n",
              "      fill: #D2E3FC;\n",
              "    }\n",
              "\n",
              "    [theme=dark] .colab-df-convert:hover {\n",
              "      background-color: #434B5C;\n",
              "      box-shadow: 0px 1px 3px 1px rgba(0, 0, 0, 0.15);\n",
              "      filter: drop-shadow(0px 1px 2px rgba(0, 0, 0, 0.3));\n",
              "      fill: #FFFFFF;\n",
              "    }\n",
              "  </style>\n",
              "\n",
              "    <script>\n",
              "      const buttonEl =\n",
              "        document.querySelector('#df-474eeaab-925b-4de3-9207-da8b518618fc button.colab-df-convert');\n",
              "      buttonEl.style.display =\n",
              "        google.colab.kernel.accessAllowed ? 'block' : 'none';\n",
              "\n",
              "      async function convertToInteractive(key) {\n",
              "        const element = document.querySelector('#df-474eeaab-925b-4de3-9207-da8b518618fc');\n",
              "        const dataTable =\n",
              "          await google.colab.kernel.invokeFunction('convertToInteractive',\n",
              "                                                    [key], {});\n",
              "        if (!dataTable) return;\n",
              "\n",
              "        const docLinkHtml = 'Like what you see? Visit the ' +\n",
              "          '<a target=\"_blank\" href=https://colab.research.google.com/notebooks/data_table.ipynb>data table notebook</a>'\n",
              "          + ' to learn more about interactive tables.';\n",
              "        element.innerHTML = '';\n",
              "        dataTable['output_type'] = 'display_data';\n",
              "        await google.colab.output.renderOutput(dataTable, element);\n",
              "        const docLink = document.createElement('div');\n",
              "        docLink.innerHTML = docLinkHtml;\n",
              "        element.appendChild(docLink);\n",
              "      }\n",
              "    </script>\n",
              "  </div>\n",
              "\n",
              "\n",
              "<div id=\"df-d18c3eda-ecc8-4b5a-9790-aff6f67b0176\">\n",
              "  <button class=\"colab-df-quickchart\" onclick=\"quickchart('df-d18c3eda-ecc8-4b5a-9790-aff6f67b0176')\"\n",
              "            title=\"Suggest charts\"\n",
              "            style=\"display:none;\">\n",
              "\n",
              "<svg xmlns=\"http://www.w3.org/2000/svg\" height=\"24px\"viewBox=\"0 0 24 24\"\n",
              "     width=\"24px\">\n",
              "    <g>\n",
              "        <path d=\"M19 3H5c-1.1 0-2 .9-2 2v14c0 1.1.9 2 2 2h14c1.1 0 2-.9 2-2V5c0-1.1-.9-2-2-2zM9 17H7v-7h2v7zm4 0h-2V7h2v10zm4 0h-2v-4h2v4z\"/>\n",
              "    </g>\n",
              "</svg>\n",
              "  </button>\n",
              "\n",
              "<style>\n",
              "  .colab-df-quickchart {\n",
              "      --bg-color: #E8F0FE;\n",
              "      --fill-color: #1967D2;\n",
              "      --hover-bg-color: #E2EBFA;\n",
              "      --hover-fill-color: #174EA6;\n",
              "      --disabled-fill-color: #AAA;\n",
              "      --disabled-bg-color: #DDD;\n",
              "  }\n",
              "\n",
              "  [theme=dark] .colab-df-quickchart {\n",
              "      --bg-color: #3B4455;\n",
              "      --fill-color: #D2E3FC;\n",
              "      --hover-bg-color: #434B5C;\n",
              "      --hover-fill-color: #FFFFFF;\n",
              "      --disabled-bg-color: #3B4455;\n",
              "      --disabled-fill-color: #666;\n",
              "  }\n",
              "\n",
              "  .colab-df-quickchart {\n",
              "    background-color: var(--bg-color);\n",
              "    border: none;\n",
              "    border-radius: 50%;\n",
              "    cursor: pointer;\n",
              "    display: none;\n",
              "    fill: var(--fill-color);\n",
              "    height: 32px;\n",
              "    padding: 0;\n",
              "    width: 32px;\n",
              "  }\n",
              "\n",
              "  .colab-df-quickchart:hover {\n",
              "    background-color: var(--hover-bg-color);\n",
              "    box-shadow: 0 1px 2px rgba(60, 64, 67, 0.3), 0 1px 3px 1px rgba(60, 64, 67, 0.15);\n",
              "    fill: var(--button-hover-fill-color);\n",
              "  }\n",
              "\n",
              "  .colab-df-quickchart-complete:disabled,\n",
              "  .colab-df-quickchart-complete:disabled:hover {\n",
              "    background-color: var(--disabled-bg-color);\n",
              "    fill: var(--disabled-fill-color);\n",
              "    box-shadow: none;\n",
              "  }\n",
              "\n",
              "  .colab-df-spinner {\n",
              "    border: 2px solid var(--fill-color);\n",
              "    border-color: transparent;\n",
              "    border-bottom-color: var(--fill-color);\n",
              "    animation:\n",
              "      spin 1s steps(1) infinite;\n",
              "  }\n",
              "\n",
              "  @keyframes spin {\n",
              "    0% {\n",
              "      border-color: transparent;\n",
              "      border-bottom-color: var(--fill-color);\n",
              "      border-left-color: var(--fill-color);\n",
              "    }\n",
              "    20% {\n",
              "      border-color: transparent;\n",
              "      border-left-color: var(--fill-color);\n",
              "      border-top-color: var(--fill-color);\n",
              "    }\n",
              "    30% {\n",
              "      border-color: transparent;\n",
              "      border-left-color: var(--fill-color);\n",
              "      border-top-color: var(--fill-color);\n",
              "      border-right-color: var(--fill-color);\n",
              "    }\n",
              "    40% {\n",
              "      border-color: transparent;\n",
              "      border-right-color: var(--fill-color);\n",
              "      border-top-color: var(--fill-color);\n",
              "    }\n",
              "    60% {\n",
              "      border-color: transparent;\n",
              "      border-right-color: var(--fill-color);\n",
              "    }\n",
              "    80% {\n",
              "      border-color: transparent;\n",
              "      border-right-color: var(--fill-color);\n",
              "      border-bottom-color: var(--fill-color);\n",
              "    }\n",
              "    90% {\n",
              "      border-color: transparent;\n",
              "      border-bottom-color: var(--fill-color);\n",
              "    }\n",
              "  }\n",
              "</style>\n",
              "\n",
              "  <script>\n",
              "    async function quickchart(key) {\n",
              "      const quickchartButtonEl =\n",
              "        document.querySelector('#' + key + ' button');\n",
              "      quickchartButtonEl.disabled = true;  // To prevent multiple clicks.\n",
              "      quickchartButtonEl.classList.add('colab-df-spinner');\n",
              "      try {\n",
              "        const charts = await google.colab.kernel.invokeFunction(\n",
              "            'suggestCharts', [key], {});\n",
              "      } catch (error) {\n",
              "        console.error('Error during call to suggestCharts:', error);\n",
              "      }\n",
              "      quickchartButtonEl.classList.remove('colab-df-spinner');\n",
              "      quickchartButtonEl.classList.add('colab-df-quickchart-complete');\n",
              "    }\n",
              "    (() => {\n",
              "      let quickchartButtonEl =\n",
              "        document.querySelector('#df-d18c3eda-ecc8-4b5a-9790-aff6f67b0176 button');\n",
              "      quickchartButtonEl.style.display =\n",
              "        google.colab.kernel.accessAllowed ? 'block' : 'none';\n",
              "    })();\n",
              "  </script>\n",
              "</div>\n",
              "\n",
              "    </div>\n",
              "  </div>\n"
            ],
            "application/vnd.google.colaboratory.intrinsic+json": {
              "type": "dataframe",
              "summary": "{\n  \"name\": \"X_train\",\n  \"rows\": 91,\n  \"fields\": [\n    {\n      \"column\": 0,\n      \"properties\": {\n        \"dtype\": \"number\",\n        \"std\": 0.0858449252574475,\n        \"min\": -0.2253654769557891,\n        \"max\": 0.4426530215964836,\n        \"num_unique_values\": 91,\n        \"samples\": [\n          -0.00012052182599231311,\n          0.014781087172316472,\n          -0.006465006203646799\n        ],\n        \"semantic_type\": \"\",\n        \"description\": \"\"\n      }\n    }\n  ]\n}"
            }
          },
          "metadata": {},
          "execution_count": 46
        }
      ]
    },
    {
      "cell_type": "code",
      "source": [
        "plt.figure(figsize=(15, 15))\n",
        "sns.heatmap(X_train.corrwith(y_train).to_frame().sort_values(by=0, ascending=False))"
      ],
      "metadata": {
        "colab": {
          "base_uri": "https://localhost:8080/",
          "height": 1000
        },
        "id": "EL_CLtO4-qFl",
        "outputId": "f467bb87-ceee-4f27-9de8-faad32bd4ae5"
      },
      "execution_count": 47,
      "outputs": [
        {
          "output_type": "execute_result",
          "data": {
            "text/plain": [
              "<Axes: >"
            ]
          },
          "metadata": {},
          "execution_count": 47
        },
        {
          "output_type": "display_data",
          "data": {
            "text/plain": [
              "<Figure size 1500x1500 with 2 Axes>"
            ],
            "image/png": "[encoded data removed]"
          },
          "metadata": {}
        }
      ]
    },
    {
      "cell_type": "markdown",
      "source": [
        "## Model2: deg_Mg_pH10"
      ],
      "metadata": {
        "id": "-uevfXJdoKBq"
      }
    },
    {
      "cell_type": "code",
      "source": [
        "#import data fror new model\n",
        "train = pd.read_csv('https://raw.githubusercontent.com/Mohammad-H-Zahrawi/Challenges-Kaggle/main/COVID-19%20mRNA%20Vaccine%20Degradation/train.csv')\n",
        "test = pd.read_csv('https://raw.githubusercontent.com/Mohammad-H-Zahrawi/Challenges-Kaggle/main/COVID-19%20mRNA%20Vaccine%20Degradation/test.csv')\n",
        "\n",
        "train = pd.merge(train[['id_seqpos']], df1 , on = 'id_seqpos')\n",
        "test = pd.merge(test[['id_seqpos']], df1 , on = 'id_seqpos')"
      ],
      "metadata": {
        "id": "OYosNTRpoNIN"
      },
      "execution_count": 48,
      "outputs": []
    },
    {
      "cell_type": "markdown",
      "source": [
        "### encoding"
      ],
      "metadata": {
        "id": "u93xfGNwoZt-"
      }
    },
    {
      "cell_type": "code",
      "source": [
        "train.drop(['id', 'id_seqpos', 'id_number'], axis=1, inplace=True)\n",
        "test.drop(['id', 'id_seqpos', 'id_number'], axis=1, inplace=True)"
      ],
      "metadata": {
        "id": "XFDDFTvxMjTH"
      },
      "execution_count": 49,
      "outputs": []
    },
    {
      "cell_type": "code",
      "source": [
        "train['error_50cc'] = train['deg_error_Mg_50C'] - train['deg_error_50C']\n",
        "train['error_pH10c'] = train['deg_error_Mg_pH10'] - train['deg_error_pH10']\n",
        "\n",
        "test['error_50cc'] = test['deg_error_Mg_50C'] - test['deg_error_50C']\n",
        "test['error_pH10c'] = test['deg_error_Mg_pH10'] - test['deg_error_pH10']"
      ],
      "metadata": {
        "id": "KKAX9au1MjTI"
      },
      "execution_count": 50,
      "outputs": []
    },
    {
      "cell_type": "code",
      "source": [
        "train['error'] = train['deg_error_Mg_50C']+train['deg_error_Mg_pH10']+train['deg_error_50C']+train['deg_error_pH10']\n",
        "train['a1'] = train['deg_50C']+train['deg_error_50C']\n",
        "train['a2'] = train['deg_pH10']+train['deg_error_pH10']\n",
        "\n",
        "test['error'] = test['deg_error_Mg_50C']+test['deg_error_Mg_pH10']+test['deg_error_50C']+test['deg_error_pH10']\n",
        "test['a1'] = test['deg_50C']+test['deg_error_50C']\n",
        "test['a2'] = test['deg_pH10']+test['deg_error_pH10']"
      ],
      "metadata": {
        "id": "VJhojTedMjTI"
      },
      "execution_count": 51,
      "outputs": []
    },
    {
      "cell_type": "code",
      "source": [
        "train['struct_unpaired'] = train['full_structure'].apply(lambda x:x.count('.'))\n",
        "\n",
        "train['pair_rate'] = train['full_structure'].apply(lambda x:x.count('(')/68)\n",
        "\n",
        "test['struct_unpaired'] = test['full_structure'].apply(lambda x:x.count('.'))\n",
        "\n",
        "test['pair_rate'] = test['full_structure'].apply(lambda x:x.count('(')/68)"
      ],
      "metadata": {
        "id": "9njSnst7iuyu"
      },
      "execution_count": 52,
      "outputs": []
    },
    {
      "cell_type": "code",
      "source": [
        "lookup_table = {\n",
        "    '(': 0,\n",
        "    ')': 1,\n",
        "    '.': 2,\n",
        "    'A': 3,\n",
        "    'C': 4,\n",
        "    'G': 5,\n",
        "    'U': 6,\n",
        "    'B': 7,\n",
        "    'E': 8,\n",
        "    'H': 9,\n",
        "    'I': 10,\n",
        "    'M': 11,\n",
        "    'S': 12,\n",
        "    'X': 13\n",
        "}\n",
        "\n",
        "def encoding(sequence, lookup):\n",
        "    return [lookup[char] for char in sequence if char in lookup]\n",
        "\n",
        "def preprocess_data_custom(df):\n",
        "    df = df.copy()\n",
        "    column_patterns = ['sequence', 'structure', 'predicted_loop']\n",
        "    for pattern in column_patterns:\n",
        "        columns_to_encode = [col for col in df.columns if pattern in col]\n",
        "        for column in columns_to_encode:\n",
        "            df[column] = df[column].apply(lambda x: ''.join(map(str, encoding(x, lookup_table))) if pd.notnull(x) else x)\n",
        "    return df\n",
        "train = preprocess_data_custom(train)\n",
        "test = preprocess_data_custom(test)"
      ],
      "metadata": {
        "id": "DYuZZsnSMjTI"
      },
      "execution_count": 53,
      "outputs": []
    },
    {
      "cell_type": "code",
      "source": [
        "train[['sequence', 'structure', 'predicted_loop_type']].head(2)"
      ],
      "metadata": {
        "colab": {
          "base_uri": "https://localhost:8080/",
          "height": 112
        },
        "outputId": "24874b9d-48b7-4638-d882-240db0e4213a",
        "id": "s0pIi7llMjTJ"
      },
      "execution_count": 54,
      "outputs": [
        {
          "output_type": "execute_result",
          "data": {
            "text/plain": [
              "  sequence structure predicted_loop_type\n",
              "0        3         2                   9\n",
              "1        5         2                  10"
            ],
            "text/html": [
              "\n",
              "  <div id=\"df-2079b4db-de54-4a3d-9500-4236018955b8\" class=\"colab-df-container\">\n",
              "    <div>\n",
              "<style scoped>\n",
              "    .dataframe tbody tr th:only-of-type {\n",
              "        vertical-align: middle;\n",
              "    }\n",
              "\n",
              "    .dataframe tbody tr th {\n",
              "        vertical-align: top;\n",
              "    }\n",
              "\n",
              "    .dataframe thead th {\n",
              "        text-align: right;\n",
              "    }\n",
              "</style>\n",
              "<table border=\"1\" class=\"dataframe\">\n",
              "  <thead>\n",
              "    <tr style=\"text-align: right;\">\n",
              "      <th></th>\n",
              "      <th>sequence</th>\n",
              "      <th>structure</th>\n",
              "      <th>predicted_loop_type</th>\n",
              "    </tr>\n",
              "  </thead>\n",
              "  <tbody>\n",
              "    <tr>\n",
              "      <th>0</th>\n",
              "      <td>3</td>\n",
              "      <td>2</td>\n",
              "      <td>9</td>\n",
              "    </tr>\n",
              "    <tr>\n",
              "      <th>1</th>\n",
              "      <td>5</td>\n",
              "      <td>2</td>\n",
              "      <td>10</td>\n",
              "    </tr>\n",
              "  </tbody>\n",
              "</table>\n",
              "</div>\n",
              "    <div class=\"colab-df-buttons\">\n",
              "\n",
              "  <div class=\"colab-df-container\">\n",
              "    <button class=\"colab-df-convert\" onclick=\"convertToInteractive('df-2079b4db-de54-4a3d-9500-4236018955b8')\"\n",
              "            title=\"Convert this dataframe to an interactive table.\"\n",
              "            style=\"display:none;\">\n",
              "\n",
              "  <svg xmlns=\"http://www.w3.org/2000/svg\" height=\"24px\" viewBox=\"0 -960 960 960\">\n",
              "    <path d=\"M120-120v-720h720v720H120Zm60-500h600v-160H180v160Zm220 220h160v-160H400v160Zm0 220h160v-160H400v160ZM180-400h160v-160H180v160Zm440 0h160v-160H620v160ZM180-180h160v-160H180v160Zm440 0h160v-160H620v160Z\"/>\n",
              "  </svg>\n",
              "    </button>\n",
              "\n",
              "  <style>\n",
              "    .colab-df-container {\n",
              "      display:flex;\n",
              "      gap: 12px;\n",
              "    }\n",
              "\n",
              "    .colab-df-convert {\n",
              "      background-color: #E8F0FE;\n",
              "      border: none;\n",
              "      border-radius: 50%;\n",
              "      cursor: pointer;\n",
              "      display: none;\n",
              "      fill: #1967D2;\n",
              "      height: 32px;\n",
              "      padding: 0 0 0 0;\n",
              "      width: 32px;\n",
              "    }\n",
              "\n",
              "    .colab-df-convert:hover {\n",
              "      background-color: #E2EBFA;\n",
              "      box-shadow: 0px 1px 2px rgba(60, 64, 67, 0.3), 0px 1px 3px 1px rgba(60, 64, 67, 0.15);\n",
              "      fill: #174EA6;\n",
              "    }\n",
              "\n",
              "    .colab-df-buttons div {\n",
              "      margin-bottom: 4px;\n",
              "    }\n",
              "\n",
              "    [theme=dark] .colab-df-convert {\n",
              "      background-color: #3B4455;\n",
              "      fill: #D2E3FC;\n",
              "    }\n",
              "\n",
              "    [theme=dark] .colab-df-convert:hover {\n",
              "      background-color: #434B5C;\n",
              "      box-shadow: 0px 1px 3px 1px rgba(0, 0, 0, 0.15);\n",
              "      filter: drop-shadow(0px 1px 2px rgba(0, 0, 0, 0.3));\n",
              "      fill: #FFFFFF;\n",
              "    }\n",
              "  </style>\n",
              "\n",
              "    <script>\n",
              "      const buttonEl =\n",
              "        document.querySelector('#df-2079b4db-de54-4a3d-9500-4236018955b8 button.colab-df-convert');\n",
              "      buttonEl.style.display =\n",
              "        google.colab.kernel.accessAllowed ? 'block' : 'none';\n",
              "\n",
              "      async function convertToInteractive(key) {\n",
              "        const element = document.querySelector('#df-2079b4db-de54-4a3d-9500-4236018955b8');\n",
              "        const dataTable =\n",
              "          await google.colab.kernel.invokeFunction('convertToInteractive',\n",
              "                                                    [key], {});\n",
              "        if (!dataTable) return;\n",
              "\n",
              "        const docLinkHtml = 'Like what you see? Visit the ' +\n",
              "          '<a target=\"_blank\" href=https://colab.research.google.com/notebooks/data_table.ipynb>data table notebook</a>'\n",
              "          + ' to learn more about interactive tables.';\n",
              "        element.innerHTML = '';\n",
              "        dataTable['output_type'] = 'display_data';\n",
              "        await google.colab.output.renderOutput(dataTable, element);\n",
              "        const docLink = document.createElement('div');\n",
              "        docLink.innerHTML = docLinkHtml;\n",
              "        element.appendChild(docLink);\n",
              "      }\n",
              "    </script>\n",
              "  </div>\n",
              "\n",
              "\n",
              "<div id=\"df-0ac94a98-7777-4020-9b02-3d94defc69ca\">\n",
              "  <button class=\"colab-df-quickchart\" onclick=\"quickchart('df-0ac94a98-7777-4020-9b02-3d94defc69ca')\"\n",
              "            title=\"Suggest charts\"\n",
              "            style=\"display:none;\">\n",
              "\n",
              "<svg xmlns=\"http://www.w3.org/2000/svg\" height=\"24px\"viewBox=\"0 0 24 24\"\n",
              "     width=\"24px\">\n",
              "    <g>\n",
              "        <path d=\"M19 3H5c-1.1 0-2 .9-2 2v14c0 1.1.9 2 2 2h14c1.1 0 2-.9 2-2V5c0-1.1-.9-2-2-2zM9 17H7v-7h2v7zm4 0h-2V7h2v10zm4 0h-2v-4h2v4z\"/>\n",
              "    </g>\n",
              "</svg>\n",
              "  </button>\n",
              "\n",
              "<style>\n",
              "  .colab-df-quickchart {\n",
              "      --bg-color: #E8F0FE;\n",
              "      --fill-color: #1967D2;\n",
              "      --hover-bg-color: #E2EBFA;\n",
              "      --hover-fill-color: #174EA6;\n",
              "      --disabled-fill-color: #AAA;\n",
              "      --disabled-bg-color: #DDD;\n",
              "  }\n",
              "\n",
              "  [theme=dark] .colab-df-quickchart {\n",
              "      --bg-color: #3B4455;\n",
              "      --fill-color: #D2E3FC;\n",
              "      --hover-bg-color: #434B5C;\n",
              "      --hover-fill-color: #FFFFFF;\n",
              "      --disabled-bg-color: #3B4455;\n",
              "      --disabled-fill-color: #666;\n",
              "  }\n",
              "\n",
              "  .colab-df-quickchart {\n",
              "    background-color: var(--bg-color);\n",
              "    border: none;\n",
              "    border-radius: 50%;\n",
              "    cursor: pointer;\n",
              "    display: none;\n",
              "    fill: var(--fill-color);\n",
              "    height: 32px;\n",
              "    padding: 0;\n",
              "    width: 32px;\n",
              "  }\n",
              "\n",
              "  .colab-df-quickchart:hover {\n",
              "    background-color: var(--hover-bg-color);\n",
              "    box-shadow: 0 1px 2px rgba(60, 64, 67, 0.3), 0 1px 3px 1px rgba(60, 64, 67, 0.15);\n",
              "    fill: var(--button-hover-fill-color);\n",
              "  }\n",
              "\n",
              "  .colab-df-quickchart-complete:disabled,\n",
              "  .colab-df-quickchart-complete:disabled:hover {\n",
              "    background-color: var(--disabled-bg-color);\n",
              "    fill: var(--disabled-fill-color);\n",
              "    box-shadow: none;\n",
              "  }\n",
              "\n",
              "  .colab-df-spinner {\n",
              "    border: 2px solid var(--fill-color);\n",
              "    border-color: transparent;\n",
              "    border-bottom-color: var(--fill-color);\n",
              "    animation:\n",
              "      spin 1s steps(1) infinite;\n",
              "  }\n",
              "\n",
              "  @keyframes spin {\n",
              "    0% {\n",
              "      border-color: transparent;\n",
              "      border-bottom-color: var(--fill-color);\n",
              "      border-left-color: var(--fill-color);\n",
              "    }\n",
              "    20% {\n",
              "      border-color: transparent;\n",
              "      border-left-color: var(--fill-color);\n",
              "      border-top-color: var(--fill-color);\n",
              "    }\n",
              "    30% {\n",
              "      border-color: transparent;\n",
              "      border-left-color: var(--fill-color);\n",
              "      border-top-color: var(--fill-color);\n",
              "      border-right-color: var(--fill-color);\n",
              "    }\n",
              "    40% {\n",
              "      border-color: transparent;\n",
              "      border-right-color: var(--fill-color);\n",
              "      border-top-color: var(--fill-color);\n",
              "    }\n",
              "    60% {\n",
              "      border-color: transparent;\n",
              "      border-right-color: var(--fill-color);\n",
              "    }\n",
              "    80% {\n",
              "      border-color: transparent;\n",
              "      border-right-color: var(--fill-color);\n",
              "      border-bottom-color: var(--fill-color);\n",
              "    }\n",
              "    90% {\n",
              "      border-color: transparent;\n",
              "      border-bottom-color: var(--fill-color);\n",
              "    }\n",
              "  }\n",
              "</style>\n",
              "\n",
              "  <script>\n",
              "    async function quickchart(key) {\n",
              "      const quickchartButtonEl =\n",
              "        document.querySelector('#' + key + ' button');\n",
              "      quickchartButtonEl.disabled = true;  // To prevent multiple clicks.\n",
              "      quickchartButtonEl.classList.add('colab-df-spinner');\n",
              "      try {\n",
              "        const charts = await google.colab.kernel.invokeFunction(\n",
              "            'suggestCharts', [key], {});\n",
              "      } catch (error) {\n",
              "        console.error('Error during call to suggestCharts:', error);\n",
              "      }\n",
              "      quickchartButtonEl.classList.remove('colab-df-spinner');\n",
              "      quickchartButtonEl.classList.add('colab-df-quickchart-complete');\n",
              "    }\n",
              "    (() => {\n",
              "      let quickchartButtonEl =\n",
              "        document.querySelector('#df-0ac94a98-7777-4020-9b02-3d94defc69ca button');\n",
              "      quickchartButtonEl.style.display =\n",
              "        google.colab.kernel.accessAllowed ? 'block' : 'none';\n",
              "    })();\n",
              "  </script>\n",
              "</div>\n",
              "\n",
              "    </div>\n",
              "  </div>\n"
            ],
            "application/vnd.google.colaboratory.intrinsic+json": {
              "type": "dataframe",
              "summary": "{\n  \"name\": \"train[['sequence', 'structure', 'predicted_loop_type']]\",\n  \"rows\": 2,\n  \"fields\": [\n    {\n      \"column\": \"sequence\",\n      \"properties\": {\n        \"dtype\": \"string\",\n        \"num_unique_values\": 2,\n        \"samples\": [\n          \"5\",\n          \"3\"\n        ],\n        \"semantic_type\": \"\",\n        \"description\": \"\"\n      }\n    },\n    {\n      \"column\": \"structure\",\n      \"properties\": {\n        \"dtype\": \"string\",\n        \"num_unique_values\": 1,\n        \"samples\": [\n          \"2\"\n        ],\n        \"semantic_type\": \"\",\n        \"description\": \"\"\n      }\n    },\n    {\n      \"column\": \"predicted_loop_type\",\n      \"properties\": {\n        \"dtype\": \"string\",\n        \"num_unique_values\": 2,\n        \"samples\": [\n          \"10\"\n        ],\n        \"semantic_type\": \"\",\n        \"description\": \"\"\n      }\n    }\n  ]\n}"
            }
          },
          "metadata": {},
          "execution_count": 54
        }
      ]
    },
    {
      "cell_type": "code",
      "source": [
        "train1 = train.drop(['full_structure', 'predicted_loop', 'full_sequence'], axis=1)\n",
        "test1 = test.drop(['full_structure', 'predicted_loop', 'full_sequence'], axis=1)\n",
        "\n",
        "categories_columns = train1.select_dtypes(include='object').columns\n",
        "\n",
        "# Generate dummy variables for categorical columns\n",
        "dummies = pd.get_dummies(train1[categories_columns], drop_first=True)\n",
        "# Concatenate dummy variables with the main DataFrame\n",
        "train1 = pd.concat([train1, dummies], axis=1)\n",
        "# Optionally drop the original categorical columns\n",
        "train1.drop(categories_columns, axis=1, inplace=True)\n",
        "\n",
        "categories_columns_test = test1.select_dtypes(include='object').columns\n",
        "\n",
        "dummies = pd.get_dummies(test1[categories_columns], drop_first=True)\n",
        "test1 = pd.concat([test1, dummies], axis=1)\n",
        "test1.drop(categories_columns_test, axis=1, inplace=True)"
      ],
      "metadata": {
        "id": "msVMYUniMjTJ"
      },
      "execution_count": 55,
      "outputs": []
    },
    {
      "cell_type": "markdown",
      "source": [
        "### train and test the deg_Mg_pH10 model"
      ],
      "metadata": {
        "id": "qDGyIUX9ovi-"
      }
    },
    {
      "cell_type": "code",
      "source": [
        "test1.drop(['reactivity', 'deg_Mg_pH10', 'deg_Mg_50C'], axis=1, inplace=True)"
      ],
      "metadata": {
        "id": "FXsC_-SDfImM"
      },
      "execution_count": 56,
      "outputs": []
    },
    {
      "cell_type": "code",
      "source": [
        "X = train1.drop(['reactivity', 'deg_Mg_pH10', 'deg_Mg_50C'], axis=1)\n",
        "y=train1['deg_Mg_pH10']\n",
        "X.drop([i for i in set(X.columns) - set(test1.columns)], axis=1, inplace=True)\n",
        "\n",
        "from sklearn.model_selection import train_test_split\n",
        "X_train, X_test, y_train, y_test = train_test_split(X, y, test_size=0.2, random_state=42)"
      ],
      "metadata": {
        "id": "iBFcSLRJM-8g"
      },
      "execution_count": 57,
      "outputs": []
    },
    {
      "cell_type": "code",
      "source": [
        "X.shape, test1.shape"
      ],
      "metadata": {
        "colab": {
          "base_uri": "https://localhost:8080/"
        },
        "id": "TXC_4krHeIoe",
        "outputId": "e4f0740e-ccb4-4b0a-9c59-23180845bd28"
      },
      "execution_count": 58,
      "outputs": [
        {
          "output_type": "execute_result",
          "data": {
            "text/plain": [
              "((130560, 202), (32640, 202))"
            ]
          },
          "metadata": {},
          "execution_count": 58
        }
      ]
    },
    {
      "cell_type": "code",
      "source": [
        "# !pip install catboost\n",
        "\n",
        "from catboost import CatBoostRegressor, Pool\n",
        "train_pool1 = Pool(X_train, y_train)\n",
        "train_pool2 = Pool(X_train, y_train)\n",
        "train_pool3 = Pool(X_train, y_train)\n",
        "\n",
        "test_pool = Pool(X_test)\n",
        "\n",
        "\n",
        "model1 = CatBoostRegressor(iterations=1000,\n",
        "                          learning_rate=0.1,\n",
        "                          depth=6,\n",
        "                          verbose=100,\n",
        "                           )\n",
        "model1.fit(train_pool1)\n",
        "predR = model1.predict(test_pool)"
      ],
      "metadata": {
        "colab": {
          "base_uri": "https://localhost:8080/"
        },
        "outputId": "b50d00c9-bb6c-454d-db22-6da5fedf4a32",
        "id": "24TwXwH9M-8g"
      },
      "execution_count": 59,
      "outputs": [
        {
          "output_type": "stream",
          "name": "stdout",
          "text": [
            "0:\tlearn: 0.6832354\ttotal: 50.8ms\tremaining: 50.8s\n",
            "100:\tlearn: 0.4290301\ttotal: 2.09s\tremaining: 18.6s\n",
            "200:\tlearn: 0.3956826\ttotal: 4.05s\tremaining: 16.1s\n",
            "300:\tlearn: 0.3753557\ttotal: 6.05s\tremaining: 14.1s\n",
            "400:\tlearn: 0.3611986\ttotal: 8.31s\tremaining: 12.4s\n",
            "500:\tlearn: 0.3493274\ttotal: 14.3s\tremaining: 14.2s\n",
            "600:\tlearn: 0.3394710\ttotal: 18.6s\tremaining: 12.4s\n",
            "700:\tlearn: 0.3314766\ttotal: 22s\tremaining: 9.37s\n",
            "800:\tlearn: 0.3238633\ttotal: 26.2s\tremaining: 6.51s\n",
            "900:\tlearn: 0.3172797\ttotal: 30.8s\tremaining: 3.39s\n",
            "999:\tlearn: 0.3113697\ttotal: 33.2s\tremaining: 0us\n"
          ]
        }
      ]
    },
    {
      "cell_type": "code",
      "source": [
        "print('RMSE catboost')\n",
        "print(MCRMSE(y_test,predR))\n"
      ],
      "metadata": {
        "colab": {
          "base_uri": "https://localhost:8080/"
        },
        "outputId": "a2ec084c-eebd-4033-c43e-35a1df2e648b",
        "id": "MnNb1-jmM-8g"
      },
      "execution_count": 60,
      "outputs": [
        {
          "output_type": "stream",
          "name": "stdout",
          "text": [
            "RMSE\n",
            "tf.Tensor(0.4496410500219142, shape=(), dtype=float64)\n"
          ]
        }
      ]
    },
    {
      "cell_type": "code",
      "source": [
        "#HGBC\n",
        "from sklearn.ensemble import HistGradientBoostingRegressor\n",
        "model = HistGradientBoostingRegressor(max_iter=1000, learning_rate=0.1, random_state=42)\n",
        "model.fit(X_train, y_train)\n",
        "predR = model.predict(X_test)\n",
        "print('RMSE HGBC')\n",
        "print(MCRMSE(y_test,predR))"
      ],
      "metadata": {
        "colab": {
          "base_uri": "https://localhost:8080/"
        },
        "outputId": "d9782a50-6817-4264-f46f-4868f7798d1c",
        "id": "-SPYE7huM-8g"
      },
      "execution_count": 61,
      "outputs": [
        {
          "output_type": "stream",
          "name": "stdout",
          "text": [
            "RMSE HGBC\n",
            "tf.Tensor(0.4650952792910453, shape=(), dtype=float64)\n"
          ]
        }
      ]
    },
    {
      "cell_type": "code",
      "source": [
        "#RF\n",
        "from sklearn.ensemble import RandomForestRegressor\n",
        "\n",
        "model = RandomForestRegressor(n_estimators=100, random_state=42)\n",
        "model.fit(X_train, y_train)\n",
        "predR = model.predict(X_test)\n",
        "print('RMSE Random Forest')\n",
        "print(MCRMSE(y_test,predR))"
      ],
      "metadata": {
        "colab": {
          "base_uri": "https://localhost:8080/"
        },
        "outputId": "ecda4d77-4a94-41b4-902a-ca41fccaa626",
        "id": "RqMOmhqhM-8g"
      },
      "execution_count": 62,
      "outputs": [
        {
          "output_type": "stream",
          "name": "stdout",
          "text": [
            "RMSE Random Forest\n",
            "tf.Tensor(0.4172951395407257, shape=(), dtype=float64)\n"
          ]
        }
      ]
    },
    {
      "cell_type": "code",
      "source": [
        "#lgbm\n",
        "import lightgbm as lgb\n",
        "model_mg_ph10 = lgb.LGBMRegressor(n_estimators=1500, learning_rate=0.08, num_leaves=40, random_state=42)\n",
        "model_mg_ph10.fit(X_train, y_train)\n",
        "predR = model_mg_ph10.predict(X_test)\n",
        "print('RMSE LightGBM')\n",
        "print(MCRMSE(y_test,predR))"
      ],
      "metadata": {
        "colab": {
          "base_uri": "https://localhost:8080/"
        },
        "outputId": "adebe7db-2b88-4f8a-a6cb-06318cfbc6ff",
        "id": "OKSpaO9BM-8g"
      },
      "execution_count": 63,
      "outputs": [
        {
          "output_type": "stream",
          "name": "stdout",
          "text": [
            "[LightGBM] [Warning] Found whitespace in feature_names, replace with underlines\n",
            "[LightGBM] [Info] Auto-choosing col-wise multi-threading, the overhead of testing was 0.025476 seconds.\n",
            "You can set `force_col_wise=true` to remove the overhead.\n",
            "[LightGBM] [Info] Total Bins 3486\n",
            "[LightGBM] [Info] Number of data points in the train set: 104448, number of used features: 194\n",
            "[LightGBM] [Info] Start training from score 0.447222\n",
            "RMSE LightGBM\n",
            "tf.Tensor(0.4079303293893931, shape=(), dtype=float64)\n"
          ]
        }
      ]
    },
    {
      "cell_type": "code",
      "source": [
        "from sklearn.ensemble import GradientBoostingRegressor\n",
        "base_regressor = GradientBoostingRegressor(\n",
        "    n_estimators=1500,            # Number of boosting stages to be run\n",
        "    learning_rate=0.1,          # Learning rate to shrink the contribution of each tree\n",
        "    max_depth=4,                 # Maximum depth of the individual regression estimators\n",
        "    min_samples_split=3,         # Minimum number of samples required to split an internal node\n",
        "    min_samples_leaf=2,          # Minimum number of samples required to be at a leaf node\n",
        "    subsample=0.8,               # Fraction of samples to be used for fitting the individual base learners\n",
        "    max_features='sqrt',         # Number of features to consider when looking for the best split\n",
        "    random_state=42              # Seed for random number generation\n",
        ")\n",
        "\n",
        "gpr = base_regressor\n",
        "gpr.fit(X_train, y_train)\n",
        "predR = gpr.predict(X_test)\n",
        "print('RMSE GBM')\n",
        "print(MCRMSE(y_test,predR))"
      ],
      "metadata": {
        "colab": {
          "base_uri": "https://localhost:8080/"
        },
        "id": "nn55UG0UueK2",
        "outputId": "80ba0faa-0d46-437d-f151-51f2bdf50c1e"
      },
      "execution_count": 64,
      "outputs": [
        {
          "output_type": "stream",
          "name": "stdout",
          "text": [
            "RMSE GBM\n",
            "tf.Tensor(0.3857073256206897, shape=(), dtype=float64)\n"
          ]
        }
      ]
    },
    {
      "cell_type": "code",
      "source": [
        "import xgboost as xgb\n",
        "model = xgb.XGBRegressor(objective='reg:squarederror',  # Use reg:squarederror for regression\n",
        "                         n_estimators=100,\n",
        "                         learning_rate=0.1,\n",
        "                         max_depth=5,\n",
        "                         random_state=42)\n",
        "\n",
        "model.fit(X_train, y_train)\n",
        "predR = model1.predict(X_test)\n",
        "print('RMSE XGBOOST')\n",
        "print(MCRMSE(y_test,predR))"
      ],
      "metadata": {
        "colab": {
          "base_uri": "https://localhost:8080/"
        },
        "outputId": "905a8e3a-8dad-4ded-f076-3a638384aae2",
        "id": "AKeEEb10M-8h"
      },
      "execution_count": 65,
      "outputs": [
        {
          "output_type": "stream",
          "name": "stdout",
          "text": [
            "RMSE XGBOOST\n",
            "tf.Tensor(0.4496410500219142, shape=(), dtype=float64)\n"
          ]
        }
      ]
    },
    {
      "cell_type": "code",
      "source": [
        "pp2 = gpr.predict(test1)"
      ],
      "metadata": {
        "id": "n8DPqZs2M-8h"
      },
      "execution_count": 66,
      "outputs": []
    },
    {
      "cell_type": "code",
      "source": [
        "import seaborn as sns\n",
        "import matplotlib.pyplot as plt\n",
        "\n",
        "feature_importances = gpr.feature_importances_\n",
        "feature_importances\n",
        "\n",
        "# Create a DataFrame with feature importances\n",
        "importance_df = pd.DataFrame({\n",
        "    'Feature': X_train.columns,\n",
        "    'Importance': feature_importances\n",
        "})\n",
        "\n",
        "importance_df.sort_values(by='Importance', ascending=False, inplace=True)\n",
        "\n",
        "# Plot the feature importances\n",
        "plt.figure(figsize=(10, 6))\n",
        "sns.barplot(x='Importance', y='Feature', data=importance_df[:20])\n",
        "plt.title('Feature Importances')"
      ],
      "metadata": {
        "id": "mpYDoBagMisk",
        "colab": {
          "base_uri": "https://localhost:8080/",
          "height": 582
        },
        "outputId": "d3f1be76-ca3d-4f9a-a344-92691b27107d"
      },
      "execution_count": 67,
      "outputs": [
        {
          "output_type": "execute_result",
          "data": {
            "text/plain": [
              "Text(0.5, 1.0, 'Feature Importances')"
            ]
          },
          "metadata": {},
          "execution_count": 67
        },
        {
          "output_type": "display_data",
          "data": {
            "text/plain": [
              "<Figure size 1000x600 with 1 Axes>"
            ],
            "image/png": "[encoded data removed]"
          },
          "metadata": {}
        }
      ]
    },
    {
      "cell_type": "markdown",
      "source": [
        "## Model3: deg_Mg_50C"
      ],
      "metadata": {
        "id": "L_1bAw-Gph-A"
      }
    },
    {
      "cell_type": "code",
      "source": [
        "train = pd.read_csv('https://raw.githubusercontent.com/Mohammad-H-Zahrawi/Challenges-Kaggle/main/COVID-19%20mRNA%20Vaccine%20Degradation/train.csv')\n",
        "test = pd.read_csv('https://raw.githubusercontent.com/Mohammad-H-Zahrawi/Challenges-Kaggle/main/COVID-19%20mRNA%20Vaccine%20Degradation/test.csv')\n",
        "\n",
        "train = pd.merge(train[['id_seqpos']], df1 , on = 'id_seqpos')\n",
        "test = pd.merge(test[['id_seqpos']], df1 , on = 'id_seqpos')"
      ],
      "metadata": {
        "id": "nMc_sqloppMo"
      },
      "execution_count": 68,
      "outputs": []
    },
    {
      "cell_type": "code",
      "source": [
        "train.drop(['id', 'id_seqpos', 'id_number'], axis=1, inplace=True)\n",
        "test.drop(['id', 'id_seqpos', 'id_number'], axis=1, inplace=True)"
      ],
      "metadata": {
        "id": "4YR0jT8qpsyp"
      },
      "execution_count": 69,
      "outputs": []
    },
    {
      "cell_type": "markdown",
      "source": [
        "### encoding"
      ],
      "metadata": {
        "id": "iWdMR6OdpuJb"
      }
    },
    {
      "cell_type": "code",
      "source": [
        "train['error_50cc'] = train['deg_error_Mg_50C'] - train['deg_error_50C']\n",
        "train['error_pH10c'] = train['deg_error_Mg_pH10'] - train['deg_error_pH10']\n",
        "\n",
        "test['error_50cc'] = test['deg_error_Mg_50C'] - test['deg_error_50C']\n",
        "test['error_pH10c'] = test['deg_error_Mg_pH10'] - test['deg_error_pH10']\n",
        "\n"
      ],
      "metadata": {
        "id": "8uZdmDDfnZDh"
      },
      "execution_count": 70,
      "outputs": []
    },
    {
      "cell_type": "code",
      "source": [
        "train['error'] = train['deg_error_Mg_50C']+train['deg_error_Mg_pH10']+train['deg_error_50C']+train['deg_error_pH10']\n",
        "train['error&50c'] = train['deg_50C']+train['deg_error_50C']\n",
        "train['error&ph10'] = train['deg_pH10']+train['deg_error_pH10']\n",
        "\n",
        "test['error'] = test['deg_error_Mg_50C']+test['deg_error_Mg_pH10']+test['deg_error_50C']+test['deg_error_pH10']\n",
        "test['error&50c'] = test['deg_50C']+test['deg_error_50C']\n",
        "test['error&ph10'] = test['deg_pH10']+test['deg_error_pH10']"
      ],
      "metadata": {
        "id": "M1FUmOFrnZDh"
      },
      "execution_count": 71,
      "outputs": []
    },
    {
      "cell_type": "code",
      "source": [
        "train['struct_unpaired'] = train['full_structure'].apply(lambda x:x.count('.'))\n",
        "\n",
        "train['pair_rate'] = train['full_structure'].apply(lambda x:x.count('(')/68)\n",
        "\n",
        "test['struct_unpaired'] = test['full_structure'].apply(lambda x:x.count('.'))\n",
        "\n",
        "test['pair_rate'] = test['full_structure'].apply(lambda x:x.count('(')/68)"
      ],
      "metadata": {
        "id": "QZrW2zG8nZDh"
      },
      "execution_count": 72,
      "outputs": []
    },
    {
      "cell_type": "code",
      "source": [
        "lookup_table = {\n",
        "    '(': 0,\n",
        "    ')': 1,\n",
        "    '.': 2,\n",
        "    'A': 3,\n",
        "    'C': 4,\n",
        "    'G': 5,\n",
        "    'U': 6,\n",
        "    'B': 7,\n",
        "    'E': 8,\n",
        "    'H': 9,\n",
        "    'I': 10,\n",
        "    'M': 11,\n",
        "    'S': 12,\n",
        "    'X': 13\n",
        "}\n",
        "\n",
        "def encoding(sequence, lookup):\n",
        "    return [lookup[char] for char in sequence if char in lookup]\n",
        "\n",
        "def preprocess_data_custom(df):\n",
        "    df = df.copy()\n",
        "    column_patterns = ['sequence', 'structure', 'predicted_loop','z1','codon_str']\n",
        "    for pattern in column_patterns:\n",
        "        columns_to_encode = [col for col in df.columns if pattern in col]\n",
        "        for column in columns_to_encode:\n",
        "            df[column] = df[column].apply(lambda x: int(''.join(map(str, encoding(x, lookup_table)))) if pd.notnull(x) else x)\n",
        "    df['codon'] = df['codon'].apply(lambda x: int(''.join(map(str, encoding(x, lookup_table)))) if pd.notnull(x) else x)\n",
        "\n",
        "\n",
        "    return df\n",
        "train = preprocess_data_custom(train)\n",
        "test = preprocess_data_custom(test)\n"
      ],
      "metadata": {
        "id": "AFfHzDMhLWNC"
      },
      "execution_count": 73,
      "outputs": []
    },
    {
      "cell_type": "code",
      "source": [
        "# selection some features based on features importance"
      ],
      "metadata": {
        "id": "goDI2XVuqNAx"
      },
      "execution_count": 74,
      "outputs": []
    },
    {
      "cell_type": "code",
      "source": [
        "selected_cols= ['reactivity','deg_Mg_pH10','deg_Mg_50C', 'error&50c', 'error&ph10', 'error' , 'error_50cc', 'deg_50C', 'deg_error_50C', 'deg_error_Mg_50C',\n",
        "                'deg_error_pH10', 'deg_error_Mg_pH10', 'struct_unpaired', 'pair_rate']\n",
        "train1 = train[selected_cols]\n",
        "test1 = test[selected_cols]\n"
      ],
      "metadata": {
        "id": "44Iv8HnUp6K-"
      },
      "execution_count": 77,
      "outputs": []
    },
    {
      "cell_type": "code",
      "source": [
        "test1.drop(['reactivity', 'deg_Mg_pH10', 'deg_Mg_50C'], axis=1, inplace=True)\n",
        "X = train1.drop(['reactivity', 'deg_Mg_pH10', 'deg_Mg_50C'], axis=1)\n",
        "y=train1['deg_Mg_50C']\n",
        "\n",
        "from sklearn.model_selection import train_test_split\n",
        "X_train, X_test, y_train, y_test = train_test_split(X, y, test_size=0.2, random_state=42)\n",
        "X.drop([i for i in set(X.columns) - set(test1.columns)], axis=1, inplace=True)"
      ],
      "metadata": {
        "colab": {
          "base_uri": "https://localhost:8080/"
        },
        "id": "JprbYUL9sVGa",
        "outputId": "0686bacb-eb11-4552-83b4-d3b9901c02f4"
      },
      "execution_count": 78,
      "outputs": [
        {
          "output_type": "stream",
          "name": "stderr",
          "text": [
            "<ipython-input-78-c8797881ea6f>:1: SettingWithCopyWarning: \n",
            "A value is trying to be set on a copy of a slice from a DataFrame\n",
            "\n",
            "See the caveats in the documentation: https://pandas.pydata.org/pandas-docs/stable/user_guide/indexing.html#returning-a-view-versus-a-copy\n",
            "  test1.drop(['reactivity', 'deg_Mg_pH10', 'deg_Mg_50C'], axis=1, inplace=True)\n"
          ]
        }
      ]
    },
    {
      "cell_type": "code",
      "source": [
        "#RF\n",
        "from sklearn.ensemble import RandomForestRegressor\n",
        "\n",
        "model = RandomForestRegressor(n_estimators=100, random_state=42)\n",
        "model.fit(X_train, y_train)\n",
        "predR = model.predict(X_test)\n",
        "print(MCRMSE(y_test,predR))"
      ],
      "metadata": {
        "id": "tq_OyXqxqU8U"
      },
      "execution_count": null,
      "outputs": []
    },
    {
      "cell_type": "code",
      "source": [
        "#lgbm\n",
        "import lightgbm as lgb\n",
        "model_mg50c = lgb.LGBMRegressor(n_estimators=1500, learning_rate=0.1, num_leaves=31, random_state=42)\n",
        "model_mg50c.fit(X_train, y_train)\n",
        "predR = model_mg50c.predict(X_test)\n",
        "print(MCRMSE(y_test,predR))"
      ],
      "metadata": {
        "colab": {
          "base_uri": "https://localhost:8080/"
        },
        "id": "FS20FnoqsZen",
        "outputId": "21a2d148-d0d8-4fd4-e5f3-de3eab2e45f5"
      },
      "execution_count": 79,
      "outputs": [
        {
          "output_type": "stream",
          "name": "stdout",
          "text": [
            "[LightGBM] [Info] Auto-choosing col-wise multi-threading, the overhead of testing was 0.011307 seconds.\n",
            "You can set `force_col_wise=true` to remove the overhead.\n",
            "[LightGBM] [Info] Total Bins 2361\n",
            "[LightGBM] [Info] Number of data points in the train set: 104448, number of used features: 11\n",
            "[LightGBM] [Info] Start training from score 0.405992\n",
            "tf.Tensor(0.42089685137645977, shape=(), dtype=float64)\n"
          ]
        }
      ]
    },
    {
      "cell_type": "code",
      "source": [
        "from sklearn.ensemble import GradientBoostingRegressor\n",
        "base_regressor = GradientBoostingRegressor(\n",
        "    n_estimators=1500,            # Number of boosting stages to be run\n",
        "    learning_rate=0.1,          # Learning rate to shrink the contribution of each tree\n",
        "    max_depth=4,                 # Maximum depth of the individual regression estimators\n",
        "    min_samples_split=3,         # Minimum number of samples required to split an internal node\n",
        "    min_samples_leaf=2,          # Minimum number of samples required to be at a leaf node\n",
        "    subsample=0.8,               # Fraction of samples to be used for fitting the individual base learners\n",
        "    max_features='sqrt',         # Number of features to consider when looking for the best split\n",
        "    random_state=42              # Seed for random number generation\n",
        ")\n",
        "gpr2 = base_regressor\n",
        "gpr2.fit(X_train, y_train)\n",
        "predR = gpr2.predict(X_test)\n",
        "print(MCRMSE(y_test,predR))"
      ],
      "metadata": {
        "colab": {
          "base_uri": "https://localhost:8080/"
        },
        "id": "HEa_mMM2qU4p",
        "outputId": "fd966ec1-dce0-4d45-e74c-5a6973b4de30"
      },
      "execution_count": 80,
      "outputs": [
        {
          "output_type": "stream",
          "name": "stdout",
          "text": [
            "tf.Tensor(0.37285827382737846, shape=(), dtype=float64)\n"
          ]
        }
      ]
    },
    {
      "cell_type": "code",
      "source": [
        "pp4 = gpr2.predict(test1)"
      ],
      "metadata": {
        "id": "g5LMJC9aqU05"
      },
      "execution_count": 81,
      "outputs": []
    },
    {
      "cell_type": "code",
      "source": [
        "import seaborn as sns\n",
        "import matplotlib.pyplot as plt\n",
        "\n",
        "feature_importances = gpr2.feature_importances_\n",
        "feature_importances\n",
        "\n",
        "# Create a DataFrame with feature importances\n",
        "importance_df = pd.DataFrame({\n",
        "    'Feature': X_train.columns,\n",
        "    'Importance': feature_importances\n",
        "})\n",
        "\n",
        "importance_df.sort_values(by='Importance', ascending=False, inplace=True)\n",
        "\n",
        "# Plot the feature importances\n",
        "plt.figure(figsize=(10, 6))\n",
        "sns.barplot(x='Importance', y='Feature', data=importance_df[:20])\n",
        "plt.title('Feature Importances')"
      ],
      "metadata": {
        "colab": {
          "base_uri": "https://localhost:8080/",
          "height": 582
        },
        "id": "5kAZXXF8qUxL",
        "outputId": "f7880c2d-d0ff-4558-cded-90c9865a8eef"
      },
      "execution_count": 82,
      "outputs": [
        {
          "output_type": "execute_result",
          "data": {
            "text/plain": [
              "Text(0.5, 1.0, 'Feature Importances')"
            ]
          },
          "metadata": {},
          "execution_count": 82
        },
        {
          "output_type": "display_data",
          "data": {
            "text/plain": [
              "<Figure size 1000x600 with 1 Axes>"
            ],
            "image/png": "[encoded data removed]"
          },
          "metadata": {}
        }
      ]
    },
    {
      "cell_type": "markdown",
      "source": [
        "# Submission"
      ],
      "metadata": {
        "id": "nLM_fOZxqlvW"
      }
    },
    {
      "cell_type": "code",
      "source": [
        "# please note that if you want to get the ultimate result, rettain the models using all data 100% instead of 80% by replacing X_train, y_train by X,y."
      ],
      "metadata": {
        "id": "eIcaDaMvtJso"
      },
      "execution_count": 83,
      "outputs": []
    },
    {
      "cell_type": "code",
      "source": [
        "test = pd.read_csv('https://raw.githubusercontent.com/Mohammad-H-Zahrawi/Challenges-Kaggle/main/COVID-19%20mRNA%20Vaccine%20Degradation/test.csv')\n",
        "test_ids = test['id_seqpos']\n",
        "\n",
        "predictions_df = pd.DataFrame({'id_seqpos': test_ids, 'reactivity': pp1,'deg_Mg_pH10':pp2,'deg_Mg_50C':pp4})\n",
        "predictions_df.to_csv('sub2.csv',index=False)"
      ],
      "metadata": {
        "id": "b0eteTHvqnGm"
      },
      "execution_count": 84,
      "outputs": []
    },
    {
      "cell_type": "code",
      "source": [
        "# for any inquries, contact me eng.moh.zahrawi@gmail.com"
      ],
      "metadata": {
        "id": "5YlMYMMmquB6"
      },
      "execution_count": 85,
      "outputs": []
    },
    {
      "cell_type": "code",
      "source": [],
      "metadata": {
        "id": "XOWAWZ-rqwFO"
      },
      "execution_count": null,
      "outputs": []
    }
  ]
}