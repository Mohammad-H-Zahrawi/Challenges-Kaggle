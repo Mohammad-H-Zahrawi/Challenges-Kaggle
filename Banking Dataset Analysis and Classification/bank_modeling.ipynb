{
  "nbformat": 4,
  "nbformat_minor": 0,
  "metadata": {
    "colab": {
      "provenance": [],
      "toc_visible": true,
      "authorship_tag": "ABX9TyMclgMB9IiK6CIX8UTosz9l",
      "include_colab_link": true
    },
    "kernelspec": {
      "name": "python3",
      "display_name": "Python 3"
    },
    "language_info": {
      "name": "python"
    }
  },
  "cells": [
    {
      "cell_type": "markdown",
      "metadata": {
        "id": "view-in-github",
        "colab_type": "text"
      },
      "source": [
        "<a href=\"https://colab.research.google.com/github/Mohammad-H-Zahrawi/Challenges-Kaggle/blob/main/Banking%20Dataset%20Analysis%20and%20Classification/bank_modeling.ipynb\" target=\"_parent\"><img src=\"https://colab.research.google.com/assets/colab-badge.svg\" alt=\"Open In Colab\"/></a>"
      ]
    },
    {
      "cell_type": "markdown",
      "source": [
        "#Import libiaries and data"
      ],
      "metadata": {
        "id": "xAyICQVrv6l0"
      }
    },
    {
      "cell_type": "code",
      "source": [
        "import matplotlib.pyplot as plt\n",
        "import matplotlib.ticker as ticker\n",
        "import numpy as np\n",
        "import pandas as pd\n",
        "import scipy as sp\n",
        "import seaborn as sns\n",
        "from sklearn.ensemble import RandomForestClassifier\n",
        "from sklearn.metrics import classification_report, confusion_matrix, fbeta_score, make_scorer, recall_score\n",
        "from imblearn.under_sampling import RandomUnderSampler\n",
        "from sklearn.metrics import accuracy_score, f1_score\n",
        "from sklearn.model_selection import cross_val_score, train_test_split\n",
        "from sklearn.preprocessing import LabelEncoder, OneHotEncoder\n",
        "from sklearn.tree import DecisionTreeClassifier\n",
        "pd.options.mode.chained_assignment = None\n",
        "from sklearn.linear_model import LogisticRegression\n",
        "from sklearn.metrics import classification_report, confusion_matrix\n",
        "from sklearn.metrics import f1_score, precision_score, recall_score, accuracy_score\n",
        "from imblearn.under_sampling import RandomUnderSampler\n",
        "from sklearn.model_selection import train_test_split, GridSearchCV,  RandomizedSearchCV\n",
        "from sklearn import svm\n",
        "from sklearn.ensemble import HistGradientBoostingClassifier\n",
        "from sklearn.ensemble import BaggingClassifier\n",
        "from sklearn.tree import DecisionTreeClassifier\n",
        "from xgboost import XGBClassifier\n",
        "from sklearn.ensemble import ExtraTreesClassifier\n",
        "train = pd.read_csv(\"/content/Train-Set.csv\")\n",
        "test = pd.read_csv(\"/content/Test-Set.csv\")\n",
        "test_ids = test['id']"
      ],
      "metadata": {
        "id": "NfcCsMeqwlyV"
      },
      "execution_count": null,
      "outputs": []
    },
    {
      "cell_type": "markdown",
      "source": [
        "## preprocessing"
      ],
      "metadata": {
        "id": "ZKGN2nzCzUqD"
      }
    },
    {
      "cell_type": "code",
      "source": [
        "cols_to_category = [ \"job\", \"marital\", \"education\", \"default\", \"housing\", \"loan\", \"contact\", \"month\", \"poutcome\"]\n",
        "train[cols_to_category] = train[cols_to_category].astype(\"category\")\n",
        "months = [\"jan\", \"feb\", \"mar\", \"apr\", \"may\", \"jun\", \"jul\", \"aug\", \"sep\", \"oct\", \"nov\", \"dec\"]\n",
        "days = [\"mon\", \"tue\", \"wed\", \"thu\", \"fri\", \"sat\", \"sun\"]\n",
        "\n",
        "#handling month_and day columns\n",
        "def fix_swapped_values(row):\n",
        "    day = row['day']\n",
        "    month = row['month']\n",
        "    if day in months and month in days:\n",
        "        row['day'], row['month'] = row['month'], row['day']\n",
        "    return row\n",
        "\n",
        "def update_days(data, day_name, new_days):\n",
        "    day_rows = data[data['day'] == day_name]\n",
        "    day_sets = np.array_split(day_rows, len(new_days))\n",
        "    for i, subset in enumerate(day_sets):\n",
        "        subset['day'] = new_days[i]\n",
        "        data.update(subset)\n",
        "    return data\n",
        "\n",
        "days_mapping = {\n",
        "    'mon': ['5', '12', '19', '26'],\n",
        "    'thu': ['8', '15', '22', '29'],\n",
        "    'wed': ['7', '14', '21', '28'],\n",
        "    'fri': ['8', '15', '22', '29'],\n",
        "    'tue': ['6', '13', '20', '27']}\n",
        "\n",
        "def process_data(data):\n",
        "    for day, new_days in days_mapping.items():\n",
        "        data = update_days(data, day, new_days)\n",
        "    return data\n",
        "\n",
        "train = process_data(train)\n",
        "test = process_data(test)\n",
        "\n",
        "# Apply the function to each row\n",
        "train= train.apply(fix_swapped_values, axis=1)\n",
        "test= test.apply(fix_swapped_values, axis=1)"
      ],
      "metadata": {
        "id": "SEAb0EDHwmPs"
      },
      "execution_count": null,
      "outputs": []
    },
    {
      "cell_type": "code",
      "source": [
        "Q1 = train['age'].quantile(q=0.25)\n",
        "Q2 = train['age'].quantile(q=0.50)\n",
        "Q3 = train['age'].quantile(q=0.75)\n",
        "Q4 = train['age'].quantile(q=1.00)\n",
        "print('1st Quartile (Q1): ', Q1)\n",
        "print('2nd Quartile (Median, Q2): ', Q2)\n",
        "print('3rd Quartile (Q3): ', Q3)\n",
        "print('4th Quartile (Max, Q4): ', Q4)\n",
        "\n",
        "# Calculate the interquartile range (IQR)\n",
        "IQR = Q3 - Q1\n",
        "# Calculate the lower and upper bounds for detecting outliers\n",
        "lower_bound = Q1 - 1.5 * IQR\n",
        "upper_bound = Q3 + 1.5 * IQR\n",
        "print('Lower bound for outliers: ', lower_bound)\n",
        "print('Upper bound for outliers: ', upper_bound)\n",
        "train['age'] = train['age'].apply(lambda x: lower_bound if x < lower_bound else upper_bound if x > upper_bound else x)\n",
        "\n",
        "#handling age\n",
        "Q1 = test['age'].quantile(q=0.25)\n",
        "Q2 = test['age'].quantile(q=0.50)\n",
        "Q3 = test['age'].quantile(q=0.75)\n",
        "Q4 = test['age'].quantile(q=1.00)\n",
        "print('1st Quartile (Q1): ', Q1)\n",
        "print('2nd Quartile (Median, Q2): ', Q2)\n",
        "print('3rd Quartile (Q3): ', Q3)\n",
        "print('4th Quartile (Max, Q4): ', Q4)\n",
        "# Calculate the interquartile range (IQR)\n",
        "IQR = Q3 - Q1\n",
        "# Calculate the lower and upper bounds for detecting outliers\n",
        "lower_bound = Q1 - 1.5 * IQR\n",
        "upper_bound = Q3 + 1.5 * IQR\n",
        "print('Lower bound for outliers: ', lower_bound)\n",
        "print('Upper bound for outliers: ', upper_bound)\n",
        "# Replace outliers with the bounds or another value (e.g., median)\n",
        "test['age'] = test['age'].apply(lambda x: lower_bound if x < lower_bound else upper_bound if x > upper_bound else x)\n"
      ],
      "metadata": {
        "colab": {
          "base_uri": "https://localhost:8080/"
        },
        "id": "ryB1GoqyxXB_",
        "outputId": "7a5c51d0-e9a5-4c29-d249-e3b4b6174e77"
      },
      "execution_count": null,
      "outputs": [
        {
          "output_type": "stream",
          "name": "stdout",
          "text": [
            "1st Quartile (Q1):  32.0\n",
            "2nd Quartile (Median, Q2):  39.0\n",
            "3rd Quartile (Q3):  48.0\n",
            "4th Quartile (Max, Q4):  98.0\n",
            "Lower bound for outliers:  8.0\n",
            "Upper bound for outliers:  72.0\n",
            "1st Quartile (Q1):  32.0\n",
            "2nd Quartile (Median, Q2):  39.0\n",
            "3rd Quartile (Q3):  48.0\n",
            "4th Quartile (Max, Q4):  94.0\n",
            "Lower bound for outliers:  8.0\n",
            "Upper bound for outliers:  72.0\n"
          ]
        }
      ]
    },
    {
      "cell_type": "code",
      "source": [
        "cols_to_category = [ \"job\", \"marital\", \"education\", \"default\", \"housing\", \"loan\", \"contact\", \"month\", \"poutcome\"]\n",
        "train[cols_to_category] = train[cols_to_category].astype(\"category\")\n",
        "train[\"Target\"] = train['Target'].map({'no':0, 'yes':1})\n",
        "columns_extra = ['id' , 'Unnamed: 0']\n",
        "\n",
        "#labeling education column\n",
        "train[\"education\"] = train[\"education\"].replace({'unknown':0,'illiterate':0,'primary':1,'basic.4y':1,'basic.6y':1,'basic.9y':1,'secondary':2,'high.school':2,'professional.course':2,'tertiary':3,'university.degree':3})\n",
        "test[\"education\"] = test[\"education\"].replace({'unknown':0,'illiterate':0,'primary':1,'basic.4y':1,'basic.6y':1,'basic.9y':1,'secondary':2,'high.school':2,'professional.course':2,'tertiary':3,'university.degree':3})\n",
        "train[\"education\"] = train[\"education\"].astype(int)\n",
        "test[\"education\"] = test[\"education\"].astype(int)\n",
        "\n",
        "#fixing unknown in education\n",
        "train.loc[(train.education == \"unknown\") & (train.job == \"admin.\"),\"education\"] = train.loc[(train.education == \"unknown\") & (train.job == \"admin.\"),\"education\"].apply(lambda x: 'university.degree')\n",
        "train.loc[(train.education == \"unknown\") & (train.job == \"management\"),\"education\"] = train.loc[(train.education == \"unknown\") & (train.job == \"management\"),\"education\"].apply(lambda x: 'tertiary')\n",
        "train.loc[(train.education == \"unknown\") & (train.job == \"services\"),\"education\"] = train.loc[(train.education == \"unknown\") & (train.job == \"services\"),\"education\"].apply(lambda x: 'secondary')\n",
        "train.loc[(train.education == \"unknown\") & (train.job == \"technician.\"),\"education\"] = train.loc[(train.education == \"unknown\") & (train.job == \"technician.\"),\"education\"].apply(lambda x: 'secondary')\n",
        "train.loc[(train.education == \"unknown\") & (train.job == \"retired\"),\"education\"] = train.loc[(train.education == \"unknown\") & (train.job == \"retired\"),\"education\"].apply(lambda x: 'secondary')\n",
        "train.loc[(train.education == \"unknown\") & (train.job == \"blue-collar\"),\"education\"] = train.loc[(train.education == \"unknown\") & (train.job == \"blue-collar\"),\"education\"].apply(lambda x: 'secondary')\n",
        "train.loc[(train.education == \"unknown\") & (train.job == \"housemaid.\"),\"education\"] = train.loc[(train.education == \"unknown\") & (train.job == \"housemaid.\"),\"education\"].apply(lambda x: 'primary')\n",
        "train.loc[(train.education == \"unknown\") & (train.job == \"self-employed\"),\"education\"] = train.loc[(train.education == \"unknown\") & (train.job == \"self-employed\"),\"education\"].apply(lambda x: 'tertiary')\n",
        "train.loc[(train.education == \"unknown\") & (train.job == \"student\"),\"education\"] = train.loc[(train.education == \"unknown\") & (train.job == \"student\"),\"education\"].apply(lambda x: 'secondary')\n",
        "train.loc[(train.education == \"unknown\") & (train.job == \"entrepreneur\"),\"education\"] = train.loc[(train.education == \"unknown\") & (train.job == \"entrepreneur\"),\"education\"].apply(lambda x: 'tertiary')\n",
        "train.loc[(train.education == \"unknown\") & (train.job == \"unemployed\"),\"education\"] = train.loc[(train.education == \"unknown\") & (train.job == \"unemployed\"),\"education\"].apply(lambda x: 'secondary')\n",
        "train.loc[(train.education == \"unknown\"),\"education\"] = train.loc[(train.education == \"unknown\"),\"education\"].apply(lambda x: 'secondary')\n",
        "\n",
        "test.loc[(test.education == \"unknown\") & (test.job == \"admin.\"),\"education\"] = test.loc[(test.education == \"unknown\") & (test.job == \"admin.\"),\"education\"].apply(lambda x: 'university.degree')\n",
        "test.loc[(test.education == \"unknown\") & (test.job == \"management\"),\"education\"] = test.loc[(test.education == \"unknown\") & (test.job == \"management\"),\"education\"].apply(lambda x: 'tertiary')\n",
        "test.loc[(test.education == \"unknown\") & (test.job == \"services\"),\"education\"] = test.loc[(test.education == \"unknown\") & (test.job == \"services\"),\"education\"].apply(lambda x: 'secondary')\n",
        "test.loc[(test.education == \"unknown\") & (test.job == \"technician.\"),\"education\"] = test.loc[(test.education == \"unknown\") & (test.job == \"technician.\"),\"education\"].apply(lambda x: 'secondary')\n",
        "test.loc[(test.education == \"unknown\") & (test.job == \"retired\"),\"education\"] = test.loc[(test.education == \"unknown\") & (test.job == \"retired\"),\"education\"].apply(lambda x: 'secondary')\n",
        "test.loc[(test.education == \"unknown\") & (test.job == \"blue-collar\"),\"education\"] = test.loc[(test.education == \"unknown\") & (test.job == \"blue-collar\"),\"education\"].apply(lambda x: 'secondary')\n",
        "test.loc[(test.education == \"unknown\") & (test.job == \"housemaid.\"),\"education\"] = test.loc[(test.education == \"unknown\") & (test.job == \"housemaid.\"),\"education\"].apply(lambda x: 'primary')\n",
        "test.loc[(test.education == \"unknown\") & (test.job == \"self-employed\"),\"education\"] = test.loc[(test.education == \"unknown\") & (test.job == \"self-employed\"),\"education\"].apply(lambda x: 'tertiary')\n",
        "test.loc[(test.education == \"unknown\") & (test.job == \"student\"),\"education\"] = test.loc[(test.education == \"unknown\") & (test.job == \"student\"),\"education\"].apply(lambda x: 'secondary')\n",
        "test.loc[(test.education == \"unknown\") & (test.job == \"entrepreneur\"),\"education\"] = test.loc[(test.education == \"unknown\") & (test.job == \"entrepreneur\"),\"education\"].apply(lambda x: 'tertiary')\n",
        "test.loc[(test.education == \"unknown\") & (test.job == \"unemployed\"),\"education\"] = test.loc[(test.education == \"unknown\") & (test.job == \"unemployed\"),\"education\"].apply(lambda x: 'secondary')\n",
        "test.loc[(test.education == \"unknown\"),\"education\"] = test.loc[(test.education == \"unknown\"),\"education\"].apply(lambda x: 'secondary')\n",
        "\n",
        "#fixing unknown in job\n",
        "train.loc[(train.job == \"unknown\") & (train.education == \"basic.4y\"),\"job\"] = train.loc[(train.job == \"unknown\") & (train.education == \"basic.4y\"),\"job\"].apply(lambda x: 'blue-collar')\n",
        "train.loc[(train.job == \"unknown\") & (train.education == \"basic.9y\"),\"job\"] = train.loc[(train.job == \"unknown\") & (train.education == \"basic.9y\"),\"job\"].apply(lambda x: 'blue-collar')\n",
        "train.loc[(train.job == \"unknown\") & (train.education == \"basic.6y\"),\"job\"] = train.loc[(train.job == \"unknown\") & (train.education == \"basic.6y\"),\"job\"].apply(lambda x: 'blue-collar')\n",
        "train.loc[(train.job == \"unknown\") & (train.education == \"tertiary\"),\"job\"] = train.loc[(train.job == \"unknown\") & (train.education == \"tertiary\"),\"job\"].apply(lambda x: 'admin.')\n",
        "train.loc[(train.job == \"unknown\") & (train.education == \"primary\"),\"job\"] = train.loc[(train.job == \"unknown\") & (train.education == \"primary\"),\"job\"].apply(lambda x: 'management')\n",
        "train.loc[(train.job == \"unknown\") & (train.education == \"high.school\"),\"job\"] = train.loc[(train.job == \"unknown\") & (train.education == \"high.school\"),\"job\"].apply(lambda x: 'admin.')\n",
        "train.loc[(train.job == \"unknown\") & (train.education == \"university.degree\"),\"job\"] = train.loc[(train.job == \"unknown\") & (train.education == \"university.degree\"),\"job\"].apply(lambda x: 'admin.')\n",
        "train.loc[(train.job == \"unknown\") & (train.education == \"professional.course\"),\"job\"] = train.loc[(train.job == \"unknown\") & (train.education == \"professional.course\"),\"job\"].apply(lambda x: 'technician')\n",
        "train.loc[(train.job == \"unknown\") & (train.education == \"illiterate\"),\"job\"] = train.loc[(train.job == \"unknown\") & (train.education == \"illiterate\"),\"job\"].apply(lambda x: 'blue-collar')\n",
        "train.loc[(train.job == \"unknown\") & (train.education == \"secondary\"),\"job\"] = train.loc[(train.job == \"unknown\") & (train.education == \"secondary\"),\"job\"].apply(lambda x: 'blue-collar')\n",
        "train.loc[(train.job == \"unknown\"),\"job\"] = train.loc[(train.job == \"unknown\"),\"job\"].apply(lambda x: 'blue-collar')\n",
        "\n",
        "test.loc[(test.job == \"unknown\") & (test.education == \"basic.4y\"),\"job\"] = test.loc[(test.job == \"unknown\") & (test.education == \"basic.4y\"),\"job\"].apply(lambda x: 'blue-collar')\n",
        "test.loc[(test.job == \"unknown\") & (test.education == \"basic.9y\"),\"job\"] = test.loc[(test.job == \"unknown\") & (test.education == \"basic.9y\"),\"job\"].apply(lambda x: 'blue-collar')\n",
        "test.loc[(test.job == \"unknown\") & (test.education == \"basic.6y\"),\"job\"] = test.loc[(test.job == \"unknown\") & (test.education == \"basic.6y\"),\"job\"].apply(lambda x: 'blue-collar')\n",
        "test.loc[(test.job == \"unknown\") & (test.education == \"tertiary\"),\"job\"] = test.loc[(test.job == \"unknown\") & (test.education == \"tertiary\"),\"job\"].apply(lambda x: 'management')\n",
        "test.loc[(test.job == \"unknown\") & (test.education == \"primary\"),\"job\"] = test.loc[(test.job == \"unknown\") & (test.education == \"primary\"),\"job\"].apply(lambda x: 'blue-collar')\n",
        "test.loc[(test.job == \"unknown\") & (test.education == \"high.school\"),\"job\"] = test.loc[(test.job == \"unknown\") & (test.education == \"high.school\"),\"job\"].apply(lambda x: 'admin.')\n",
        "test.loc[(test.job == \"unknown\") & (test.education == \"university.degree\"),\"job\"] = test.loc[(test.job == \"unknown\") & (test.education == \"university.degree\"),\"job\"].apply(lambda x: 'admin.')\n",
        "test.loc[(test.job == \"unknown\") & (test.education == \"professional.course\"),\"job\"] = test.loc[(test.job == \"unknown\") & (test.education == \"professional.course\"),\"job\"].apply(lambda x: 'technician')\n",
        "test.loc[(test.job == \"unknown\") & (test.education == \"illiterate\"),\"job\"] = test.loc[(test.job == \"unknown\") & (test.education == \"illiterate\"),\"job\"].apply(lambda x: 'blue-collar')\n",
        "test.loc[(test.job == \"unknown\") & (test.education == \"secondary\"),\"job\"] = test.loc[(test.job == \"unknown\") & (test.education == \"secondary\"),\"job\"].apply(lambda x: 'blue-collar')\n",
        "test.loc[(test.job == \"unknown\"),\"job\"] = test.loc[(test.job == \"unknown\"),\"job\"].apply(lambda x: 'blue-collar')\n",
        "\n",
        "train['housing'] = train['housing'].replace({'unknown':'no'})\n",
        "test['housing'] = test['housing'].replace({'unknown':'no'})\n",
        "train['poutcome'] = train['poutcome'].replace({'nonexistent':'unknown'})\n",
        "test['poutcome'] = test['poutcome'].replace({'nonexistent':'unknown'})\n",
        "\n",
        "missing_balance=train.groupby(['job', 'education'])['balance'].median()\n",
        "missing_balance = missing_balance.fillna(449.0)"
      ],
      "metadata": {
        "id": "3tpEEDdlzaau"
      },
      "execution_count": null,
      "outputs": []
    },
    {
      "cell_type": "code",
      "source": [
        "#filling balance column\n",
        "for i, j in enumerate(train['balance'].values):\n",
        "    if np.isnan(j):\n",
        "        train.loc[i, 'balance'] = missing_balance[train['job'][i]][train['education'][i]]\n",
        "\n",
        "for i, j in enumerate(test['balance'].values):\n",
        "    if np.isnan(j):\n",
        "        test.loc[i, 'balance'] = missing_balance[train['job'][i]][train['education'][i]]\n",
        "\n",
        "train['day'] = train['day'].astype('category')\n",
        "test['day'] = test['day'].astype('category')\n",
        "\n",
        "columns_categories = list(train.select_dtypes(include=\"category\").columns.values)\n",
        "train = pd.get_dummies( train, prefix=columns_categories, columns=columns_categories, drop_first=True)\n",
        "test = pd.get_dummies( test, prefix=columns_categories, columns=columns_categories, drop_first=True)\n",
        "\n",
        "X = train.drop('Target', axis=1)\n",
        "y = train[\"Target\"]"
      ],
      "metadata": {
        "id": "0lpc9-0ez1gC"
      },
      "execution_count": null,
      "outputs": []
    },
    {
      "cell_type": "markdown",
      "source": [
        "## using oversampling by BorderLineSMOTE"
      ],
      "metadata": {
        "id": "8m758nwR0TVP"
      }
    },
    {
      "cell_type": "code",
      "source": [
        "# four ways to solve imbalanced data\n",
        "\n",
        "# rus = RandomUnderSampler(random_state=42)\n",
        "# X, y = rus.fit_resample(X, y)\n",
        "\n",
        "# from imblearn.over_sampling import RandomOverSampler\n",
        "# oversample = RandomOverSampler(sampling_strategy='auto')\n",
        "# X, y = oversample.fit_resample(X, y)\n",
        "\n",
        "# from imblearn.over_sampling import SMOTE\n",
        "# from collections import Counter\n",
        "# # Assume X, y are the features and labels\n",
        "# smote = SMOTE(sampling_strategy='auto', random_state=42)\n",
        "# X, y  = smote.fit_resample(X, y)\n",
        "\n",
        "from imblearn.over_sampling import BorderlineSMOTE\n",
        "from collections import Counter\n",
        "borderline_smote = BorderlineSMOTE(sampling_strategy='auto')\n",
        "X, y  = borderline_smote.fit_resample(X, y)\n",
        "X_train, X_test, y_train, y_test = train_test_split(X, y, test_size=0.3 , random_state=66)\n",
        "rs = make_scorer(recall_score)"
      ],
      "metadata": {
        "id": "FLUIkdun0ODA"
      },
      "execution_count": null,
      "outputs": []
    },
    {
      "cell_type": "code",
      "source": [
        "X['campaign'] = np.log1p(X['campaign'])\n",
        "test['campaign'] = np.log1p(test['campaign'])\n",
        "\n",
        "X['previous'] = np.log1p(X['previous'])\n",
        "test['previous'] = np.log1p(test['previous'])"
      ],
      "metadata": {
        "id": "zHmGEvRi0YaC"
      },
      "execution_count": null,
      "outputs": []
    },
    {
      "cell_type": "markdown",
      "source": [
        "# Modeling"
      ],
      "metadata": {
        "id": "zo84jRCf90qv"
      }
    },
    {
      "cell_type": "markdown",
      "source": [
        "### Logistic"
      ],
      "metadata": {
        "id": "C_G3fD-7B0wL"
      }
    },
    {
      "cell_type": "code",
      "source": [
        "#logistic Regression\n",
        "\n",
        "from sklearn.linear_model import LogisticRegression\n",
        "lg = LogisticRegression()\n",
        "\n",
        "cv = cross_val_score(lg, X_train, y_train, cv=10, n_jobs=-1, scoring=rs)\n",
        "print(\"Cross validation scores: {}\".format(cv))\n",
        "print(\"%0.2f recall with a standard deviation of %0.2f\" % (cv.mean(), cv.std()))\n",
        "lg.fit(X_train, y_train)\n",
        "\n",
        "#change the name of model\n",
        "print('model', lg)\n",
        "pred_train = lg.predict(X_train)\n",
        "print(\"The train recall score is {}\".format(np.round(recall_score(y_train, pred_train),   4)))\n",
        "train_accuracy = accuracy_score(y_train, pred_train)\n",
        "train_f1_score = f1_score(y_train, pred_train)\n",
        "print(\"The train accuracy is {}\".format(np.round(train_accuracy, 4)))\n",
        "print(\"The train f1 is {}\".format(np.round(train_f1_score, 4)))\n",
        "pred_test = lg.predict(X_test)\n",
        "print(\"The test recall is {}\".format(np.round(recall_score(y_test, pred_test), 4)))\n",
        "test_accuracy = accuracy_score(y_test, pred_test)\n",
        "test_f1_score = f1_score(y_test, pred_test)\n",
        "print(\"The test accuracy is {}\".format(np.round(test_accuracy, 4)))\n",
        "print(\"The test f1 is {}\".format(np.round(test_f1_score, 4)))\n",
        "print(' ')\n"
      ],
      "metadata": {
        "colab": {
          "base_uri": "https://localhost:8080/"
        },
        "id": "q0P4z23j90of",
        "outputId": "7e8c0385-faa4-4757-9b8b-10d24df8d775"
      },
      "execution_count": null,
      "outputs": [
        {
          "output_type": "stream",
          "name": "stdout",
          "text": [
            "Cross validation scores: [0.81196328 0.78679301 0.80900207 0.80722535 0.80989044 0.79863784\n",
            " 0.80663311 0.81403613 0.80544862 0.79330767]\n",
            "0.80 recall with a standard deviation of 0.01\n"
          ]
        },
        {
          "output_type": "stream",
          "name": "stderr",
          "text": [
            "/usr/local/lib/python3.10/dist-packages/sklearn/linear_model/_logistic.py:458: ConvergenceWarning: lbfgs failed to converge (status=1):\n",
            "STOP: TOTAL NO. of ITERATIONS REACHED LIMIT.\n",
            "\n",
            "Increase the number of iterations (max_iter) or scale the data as shown in:\n",
            "    https://scikit-learn.org/stable/modules/preprocessing.html\n",
            "Please also refer to the documentation for alternative solver options:\n",
            "    https://scikit-learn.org/stable/modules/linear_model.html#logistic-regression\n",
            "  n_iter_i = _check_optimize_result(\n"
          ]
        },
        {
          "output_type": "stream",
          "name": "stdout",
          "text": [
            "model LogisticRegression()\n",
            "The train recall score is 0.7998\n",
            "The train accuracy is 0.7917\n",
            "The train f1 is 0.7927\n",
            "The test recall is 0.7967\n",
            "The test accuracy is 0.7892\n",
            "The test f1 is 0.7923\n",
            " \n"
          ]
        }
      ]
    },
    {
      "cell_type": "markdown",
      "source": [
        "### HGBC"
      ],
      "metadata": {
        "id": "gfUvE0wjBx5U"
      }
    },
    {
      "cell_type": "code",
      "source": [
        "#hgbc\n",
        "hgbc = HistGradientBoostingClassifier(max_iter=100)\n",
        "\n",
        "cv = cross_val_score(hgbc, X_train, y_train, cv=10, n_jobs=-1, scoring=rs)\n",
        "print(\"Cross validation scores: {}\".format(cv))\n",
        "print(\"%0.2f recall with a standard deviation of %0.2f\" % (cv.mean(), cv.std()))\n",
        "hgbc.fit(X_train, y_train)\n",
        "\n",
        "#change the name of model\n",
        "print('model', hgbc)\n",
        "pred_train = hgbc.predict(X_train)\n",
        "print(\"The train recall score is {}\".format(np.round(recall_score(y_train, pred_train),   4)))\n",
        "train_accuracy = accuracy_score(y_train, pred_train)\n",
        "train_f1_score = f1_score(y_train, pred_train)\n",
        "print(\"The train accuracy is {}\".format(np.round(train_accuracy, 4)))\n",
        "print(\"The train f1 is {}\".format(np.round(train_f1_score, 4)))\n",
        "pred_test = hgbc.predict(X_test)\n",
        "print(\"The test recall is {}\".format(np.round(recall_score(y_test, pred_test), 4)))\n",
        "test_accuracy = accuracy_score(y_test, pred_test)\n",
        "test_f1_score = f1_score(y_test, pred_test)\n",
        "print(\"The test accuracy is {}\".format(np.round(test_accuracy, 4)))\n",
        "print(\"The test f1 is {}\".format(np.round(test_f1_score, 4)))\n",
        "print(' ')"
      ],
      "metadata": {
        "colab": {
          "base_uri": "https://localhost:8080/"
        },
        "id": "2-sBlSOXAh6w",
        "outputId": "3476e8fe-1431-4395-dc5d-d7e5029ca2af"
      },
      "execution_count": null,
      "outputs": [
        {
          "output_type": "stream",
          "name": "stdout",
          "text": [
            "Cross validation scores: [0.94580989 0.94018359 0.93751851 0.94462541 0.94906722 0.93722239\n",
            " 0.94995558 0.94610601 0.94492153 0.94047972]\n",
            "0.94 recall with a standard deviation of 0.00\n",
            "model HistGradientBoostingClassifier()\n",
            "The train recall score is 0.9486\n",
            "The train accuracy is 0.9463\n",
            "The train f1 is 0.9462\n",
            "The test recall is 0.9457\n",
            "The test accuracy is 0.9404\n",
            "The test f1 is 0.9412\n",
            " \n"
          ]
        }
      ]
    },
    {
      "cell_type": "markdown",
      "source": [
        "### xgboost"
      ],
      "metadata": {
        "id": "PNHmWFTPCqBz"
      }
    },
    {
      "cell_type": "code",
      "source": [
        "import xgboost as xgb"
      ],
      "metadata": {
        "id": "e_PGEUW4DOSM"
      },
      "execution_count": null,
      "outputs": []
    },
    {
      "cell_type": "code",
      "source": [
        "X_train['day']=X_train['day'].astype('float')\n",
        "X_test['day']=X_test['day'].astype('float')"
      ],
      "metadata": {
        "id": "vF9_Aj_TEMvJ"
      },
      "execution_count": null,
      "outputs": []
    },
    {
      "cell_type": "code",
      "source": [
        "#without__Unnamed\n",
        "xgb_clf = XGBClassifier( eval_metric='logloss', random_state=42 , colsample_bytree=0.7415221452340588,\n",
        "                gamma =0.16057649218989223, learning_rate=0.16, max_depth=18, min_child_weight=6,\n",
        "            n_estimators=300, reg_alpha=45 , reg_lambda=0.2518190183275437, subsample=0.99762069338396)\n",
        "\n",
        "cv = cross_val_score(xgb_clf, X_train, y_train, cv=10, n_jobs=-1, scoring=rs)\n",
        "print(\"Cross validation scores: {}\".format(cv))\n",
        "print(\"%0.2f recall with a standard deviation of %0.2f\" % (cv.mean(), cv.std()))\n",
        "xgb_clf.fit(X_train, y_train)\n",
        "\n",
        "#change the name of model\n",
        "print('model', xgb_clf)\n",
        "pred_train = xgb_clf.predict(X_train)\n",
        "print(\"The train recall score is {}\".format(np.round(recall_score(y_train, pred_train),   4)))\n",
        "train_accuracy = accuracy_score(y_train, pred_train)\n",
        "train_f1_score = f1_score(y_train, pred_train)\n",
        "print(\"The train accuracy is {}\".format(np.round(train_accuracy, 4)))\n",
        "print(\"The train f1 is {}\".format(np.round(train_f1_score, 4)))\n",
        "pred_test = xgb_clf.predict(X_test)\n",
        "print(\"The test recall is {}\".format(np.round(recall_score(y_test, pred_test), 4)))\n",
        "test_accuracy = accuracy_score(y_test, pred_test)\n",
        "test_f1_score = f1_score(y_test, pred_test)\n",
        "print(\"The test accuracy is {}\".format(np.round(test_accuracy, 4)))\n",
        "print(\"The test f1 is {}\".format(np.round(test_f1_score, 4)))\n",
        "print(' ')"
      ],
      "metadata": {
        "colab": {
          "base_uri": "https://localhost:8080/"
        },
        "id": "rqsyxWIvCf4B",
        "outputId": "143c93da-8e26-465e-f171-7d033b8b7485"
      },
      "execution_count": null,
      "outputs": [
        {
          "output_type": "stream",
          "name": "stdout",
          "text": [
            "Cross validation scores: [0.94344092 0.9416642  0.93751851 0.94344092 0.94788274 0.93959135\n",
            " 0.94669825 0.94758662 0.94432929 0.94107196]\n",
            "0.94 recall with a standard deviation of 0.00\n",
            "model XGBClassifier(base_score=None, booster=None, callbacks=None,\n",
            "              colsample_bylevel=None, colsample_bynode=None,\n",
            "              colsample_bytree=0.7415221452340588, device=None,\n",
            "              early_stopping_rounds=None, enable_categorical=False,\n",
            "              eval_metric='logloss', feature_types=None,\n",
            "              gamma=0.16057649218989223, grow_policy=None, importance_type=None,\n",
            "              interaction_constraints=None, learning_rate=0.16, max_bin=None,\n",
            "              max_cat_threshold=None, max_cat_to_onehot=None,\n",
            "              max_delta_step=None, max_depth=18, max_leaves=None,\n",
            "              min_child_weight=6, missing=nan, monotone_constraints=None,\n",
            "              multi_strategy=None, n_estimators=300, n_jobs=None,\n",
            "              num_parallel_tree=None, random_state=42, ...)\n",
            "The train recall score is 0.9506\n",
            "The train accuracy is 0.946\n",
            "The train f1 is 0.9461\n",
            "The test recall is 0.9463\n",
            "The test accuracy is 0.9387\n",
            "The test f1 is 0.9397\n",
            " \n"
          ]
        }
      ]
    },
    {
      "cell_type": "markdown",
      "source": [
        "### Random Forest"
      ],
      "metadata": {
        "id": "ysw8agzJGiDv"
      }
    },
    {
      "cell_type": "code",
      "source": [
        "rfc_model = RandomForestClassifier(n_jobs=-1, random_state=42, class_weight=\"balanced_subsample\")\n",
        "\n",
        "cv = cross_val_score(rfc_model, X_train, y_train, cv=10, n_jobs=-1, scoring=rs)\n",
        "print(\"Cross validation scores: {}\".format(cv))\n",
        "print(\"%0.2f recall with a standard deviation of %0.2f\" % (cv.mean(), cv.std()))\n",
        "rfc_model.fit(X_train, y_train)\n",
        "\n",
        "#change the name of model\n",
        "print('model', rfc_model)\n",
        "pred_train = rfc_model.predict(X_train)\n",
        "print(\"The train recall score is {}\".format(np.round(recall_score(y_train, pred_train),   4)))\n",
        "train_accuracy = accuracy_score(y_train, pred_train)\n",
        "train_f1_score = f1_score(y_train, pred_train)\n",
        "print(\"The train accuracy is {}\".format(np.round(train_accuracy, 4)))\n",
        "print(\"The train f1 is {}\".format(np.round(train_f1_score, 4)))\n",
        "pred_test = rfc_model.predict(X_test)\n",
        "print(\"The test recall is {}\".format(np.round(recall_score(y_test, pred_test), 4)))\n",
        "test_accuracy = accuracy_score(y_test, pred_test)\n",
        "test_f1_score = f1_score(y_test, pred_test)\n",
        "print(\"The test accuracy is {}\".format(np.round(test_accuracy, 4)))\n",
        "print(\"The test f1 is {}\".format(np.round(test_f1_score, 4)))\n",
        "print(' ')"
      ],
      "metadata": {
        "colab": {
          "base_uri": "https://localhost:8080/"
        },
        "id": "Yyp59WuXEJHa",
        "outputId": "f35254a9-bbb1-492b-bce0-4c548b29501b"
      },
      "execution_count": null,
      "outputs": [
        {
          "output_type": "stream",
          "name": "stdout",
          "text": [
            "Cross validation scores: [0.95676636 0.95380515 0.94729049 0.95647024 0.95824696 0.95202843\n",
            " 0.95528576 0.95321291 0.95291679 0.94758662]\n",
            "0.95 recall with a standard deviation of 0.00\n",
            "model RandomForestClassifier(class_weight='balanced_subsample', n_jobs=-1,\n",
            "                       random_state=42)\n",
            "The train recall score is 1.0\n",
            "The train accuracy is 1.0\n",
            "The train f1 is 1.0\n",
            "The test recall is 0.9572\n",
            "The test accuracy is 0.9465\n",
            "The test f1 is 0.9475\n",
            " \n"
          ]
        }
      ]
    },
    {
      "cell_type": "markdown",
      "source": [
        "### CatBoost"
      ],
      "metadata": {
        "id": "SfUmIVCwGJBL"
      }
    },
    {
      "cell_type": "code",
      "source": [
        "rs = make_scorer(recall_score)"
      ],
      "metadata": {
        "id": "CbC9dNbRfpTx"
      },
      "execution_count": null,
      "outputs": []
    },
    {
      "cell_type": "code",
      "source": [
        "!pip install catboost"
      ],
      "metadata": {
        "colab": {
          "base_uri": "https://localhost:8080/"
        },
        "id": "7BOfjP6-HWCC",
        "outputId": "ade234ce-fafb-410e-e45a-831235b465d8"
      },
      "execution_count": null,
      "outputs": [
        {
          "output_type": "stream",
          "name": "stdout",
          "text": [
            "Collecting catboost\n",
            "  Downloading catboost-1.2.5-cp310-cp310-manylinux2014_x86_64.whl (98.2 MB)\n",
            "\u001b[2K     \u001b[90m━━━━━━━━━━━━━━━━━━━━━━━━━━━━━━━━━━━━━━━━\u001b[0m \u001b[32m98.2/98.2 MB\u001b[0m \u001b[31m5.9 MB/s\u001b[0m eta \u001b[36m0:00:00\u001b[0m\n",
            "\u001b[?25hRequirement already satisfied: graphviz in /usr/local/lib/python3.10/dist-packages (from catboost) (0.20.3)\n",
            "Requirement already satisfied: matplotlib in /usr/local/lib/python3.10/dist-packages (from catboost) (3.7.1)\n",
            "Requirement already satisfied: numpy>=1.16.0 in /usr/local/lib/python3.10/dist-packages (from catboost) (1.25.2)\n",
            "Requirement already satisfied: pandas>=0.24 in /usr/local/lib/python3.10/dist-packages (from catboost) (2.0.3)\n",
            "Requirement already satisfied: scipy in /usr/local/lib/python3.10/dist-packages (from catboost) (1.11.4)\n",
            "Requirement already satisfied: plotly in /usr/local/lib/python3.10/dist-packages (from catboost) (5.15.0)\n",
            "Requirement already satisfied: six in /usr/local/lib/python3.10/dist-packages (from catboost) (1.16.0)\n",
            "Requirement already satisfied: python-dateutil>=2.8.2 in /usr/local/lib/python3.10/dist-packages (from pandas>=0.24->catboost) (2.8.2)\n",
            "Requirement already satisfied: pytz>=2020.1 in /usr/local/lib/python3.10/dist-packages (from pandas>=0.24->catboost) (2023.4)\n",
            "Requirement already satisfied: tzdata>=2022.1 in /usr/local/lib/python3.10/dist-packages (from pandas>=0.24->catboost) (2024.1)\n",
            "Requirement already satisfied: contourpy>=1.0.1 in /usr/local/lib/python3.10/dist-packages (from matplotlib->catboost) (1.2.1)\n",
            "Requirement already satisfied: cycler>=0.10 in /usr/local/lib/python3.10/dist-packages (from matplotlib->catboost) (0.12.1)\n",
            "Requirement already satisfied: fonttools>=4.22.0 in /usr/local/lib/python3.10/dist-packages (from matplotlib->catboost) (4.53.0)\n",
            "Requirement already satisfied: kiwisolver>=1.0.1 in /usr/local/lib/python3.10/dist-packages (from matplotlib->catboost) (1.4.5)\n",
            "Requirement already satisfied: packaging>=20.0 in /usr/local/lib/python3.10/dist-packages (from matplotlib->catboost) (24.1)\n",
            "Requirement already satisfied: pillow>=6.2.0 in /usr/local/lib/python3.10/dist-packages (from matplotlib->catboost) (9.4.0)\n",
            "Requirement already satisfied: pyparsing>=2.3.1 in /usr/local/lib/python3.10/dist-packages (from matplotlib->catboost) (3.1.2)\n",
            "Requirement already satisfied: tenacity>=6.2.0 in /usr/local/lib/python3.10/dist-packages (from plotly->catboost) (8.4.1)\n",
            "Installing collected packages: catboost\n",
            "Successfully installed catboost-1.2.5\n"
          ]
        }
      ]
    },
    {
      "cell_type": "code",
      "source": [
        "from catboost import CatBoostClassifier\n",
        "from catboost import CatBoostClassifier\n",
        "from sklearn.model_selection import cross_val_score, KFold\n",
        "from catboost import CatBoostClassifier, Pool\n",
        "catBoost = CatBoostClassifier(iterations=150, depth=8, learning_rate=0.1,\n",
        "                           loss_function='Logloss', custom_metric=['F1'], random_seed=42)\n"
      ],
      "metadata": {
        "id": "pBOgml5oeiSg"
      },
      "execution_count": null,
      "outputs": []
    },
    {
      "cell_type": "code",
      "source": [
        "kf = KFold(n_splits=10, shuffle=True, random_state=42)\n",
        "cv_scores = []\n",
        "for train_index, val_index in kf.split(X_train):\n",
        "    X_train_fold, X_val_fold = X_train.iloc[train_index], X_train.iloc[val_index]\n",
        "    y_train_fold, y_val_fold = y_train.iloc[train_index], y_train.iloc[val_index]\n",
        "\n",
        "    model_clone = catBoost.copy()  # Create a copy of the model for each fold\n",
        "    model_clone.fit(X_train_fold, y_train_fold, eval_set=(X_val_fold, y_val_fold))  # Use eval_set for custom metrics during training\n",
        "\n",
        "    y_pred_fold = model_clone.predict(X_val_fold)\n",
        "    cv_scores.append(recall_score(y_val_fold, y_pred_fold))\n"
      ],
      "metadata": {
        "id": "zGLjFLj2fGg4"
      },
      "execution_count": null,
      "outputs": []
    },
    {
      "cell_type": "code",
      "source": [
        "catBoost.fit(X_train, y_train)\n",
        "# train_pool = Pool(X_train, y_train)\n",
        "# eval_pool = Pool(X_test, y_test)\n",
        "# catBoost.fit(train_pool, eval_set=eval_pool)\n",
        "# catBoost.fit(X,y, plot=True)"
      ],
      "metadata": {
        "colab": {
          "base_uri": "https://localhost:8080/"
        },
        "id": "9MOlcU8NlsMs",
        "outputId": "a1c8bc39-8491-4abf-f109-3fe948055ac3"
      },
      "execution_count": null,
      "outputs": [
        {
          "output_type": "stream",
          "name": "stdout",
          "text": [
            "0:\tlearn: 0.3679363\ttotal: 106ms\tremaining: 15.7s\n",
            "1:\tlearn: 0.2018801\ttotal: 200ms\tremaining: 14.8s\n",
            "2:\tlearn: 0.1022402\ttotal: 286ms\tremaining: 14s\n",
            "3:\tlearn: 0.0575975\ttotal: 367ms\tremaining: 13.4s\n",
            "4:\tlearn: 0.0343157\ttotal: 459ms\tremaining: 13.3s\n",
            "5:\tlearn: 0.0196299\ttotal: 538ms\tremaining: 12.9s\n",
            "6:\tlearn: 0.0114257\ttotal: 587ms\tremaining: 12s\n",
            "7:\tlearn: 0.0073136\ttotal: 659ms\tremaining: 11.7s\n",
            "8:\tlearn: 0.0049253\ttotal: 741ms\tremaining: 11.6s\n",
            "9:\tlearn: 0.0031337\ttotal: 785ms\tremaining: 11s\n",
            "10:\tlearn: 0.0023215\ttotal: 836ms\tremaining: 10.6s\n",
            "11:\tlearn: 0.0015931\ttotal: 881ms\tremaining: 10.1s\n",
            "12:\tlearn: 0.0011978\ttotal: 954ms\tremaining: 10.1s\n",
            "13:\tlearn: 0.0009433\ttotal: 1.03s\tremaining: 10s\n",
            "14:\tlearn: 0.0007592\ttotal: 1.11s\tremaining: 9.96s\n",
            "15:\tlearn: 0.0006317\ttotal: 1.14s\tremaining: 9.54s\n",
            "16:\tlearn: 0.0005405\ttotal: 1.19s\tremaining: 9.29s\n",
            "17:\tlearn: 0.0004709\ttotal: 1.25s\tremaining: 9.14s\n",
            "18:\tlearn: 0.0003926\ttotal: 1.27s\tremaining: 8.77s\n",
            "19:\tlearn: 0.0003401\ttotal: 1.34s\tremaining: 8.71s\n",
            "20:\tlearn: 0.0002936\ttotal: 1.4s\tremaining: 8.6s\n",
            "21:\tlearn: 0.0002563\ttotal: 1.47s\tremaining: 8.55s\n",
            "22:\tlearn: 0.0002336\ttotal: 1.53s\tremaining: 8.43s\n",
            "23:\tlearn: 0.0002087\ttotal: 1.58s\tremaining: 8.3s\n",
            "24:\tlearn: 0.0001876\ttotal: 1.63s\tremaining: 8.15s\n",
            "25:\tlearn: 0.0001702\ttotal: 1.69s\tremaining: 8.05s\n",
            "26:\tlearn: 0.0001702\ttotal: 1.76s\tremaining: 8s\n",
            "27:\tlearn: 0.0001702\ttotal: 1.84s\tremaining: 8s\n",
            "28:\tlearn: 0.0001702\ttotal: 1.88s\tremaining: 7.84s\n",
            "29:\tlearn: 0.0001702\ttotal: 1.95s\tremaining: 7.78s\n",
            "30:\tlearn: 0.0001545\ttotal: 2.03s\tremaining: 7.81s\n",
            "31:\tlearn: 0.0001545\ttotal: 2.11s\tremaining: 7.79s\n",
            "32:\tlearn: 0.0001545\ttotal: 2.18s\tremaining: 7.74s\n",
            "33:\tlearn: 0.0001545\ttotal: 2.27s\tremaining: 7.76s\n",
            "34:\tlearn: 0.0001545\ttotal: 2.35s\tremaining: 7.71s\n",
            "35:\tlearn: 0.0001545\ttotal: 2.41s\tremaining: 7.63s\n",
            "36:\tlearn: 0.0001545\ttotal: 2.49s\tremaining: 7.6s\n",
            "37:\tlearn: 0.0001545\ttotal: 2.57s\tremaining: 7.57s\n",
            "38:\tlearn: 0.0001545\ttotal: 2.63s\tremaining: 7.47s\n",
            "39:\tlearn: 0.0001545\ttotal: 2.72s\tremaining: 7.49s\n",
            "40:\tlearn: 0.0001545\ttotal: 2.79s\tremaining: 7.43s\n",
            "41:\tlearn: 0.0001545\ttotal: 2.85s\tremaining: 7.33s\n",
            "42:\tlearn: 0.0001545\ttotal: 2.92s\tremaining: 7.27s\n",
            "43:\tlearn: 0.0001545\ttotal: 3s\tremaining: 7.24s\n",
            "44:\tlearn: 0.0001545\ttotal: 3.08s\tremaining: 7.18s\n",
            "45:\tlearn: 0.0001545\ttotal: 3.15s\tremaining: 7.12s\n",
            "46:\tlearn: 0.0001545\ttotal: 3.23s\tremaining: 7.08s\n",
            "47:\tlearn: 0.0001545\ttotal: 3.3s\tremaining: 7.02s\n",
            "48:\tlearn: 0.0001545\ttotal: 3.4s\tremaining: 7s\n",
            "49:\tlearn: 0.0001545\ttotal: 3.47s\tremaining: 6.95s\n",
            "50:\tlearn: 0.0001545\ttotal: 3.55s\tremaining: 6.89s\n",
            "51:\tlearn: 0.0001545\ttotal: 3.59s\tremaining: 6.77s\n",
            "52:\tlearn: 0.0001545\ttotal: 3.64s\tremaining: 6.67s\n",
            "53:\tlearn: 0.0001545\ttotal: 3.69s\tremaining: 6.55s\n",
            "54:\tlearn: 0.0001545\ttotal: 3.74s\tremaining: 6.46s\n",
            "55:\tlearn: 0.0001545\ttotal: 3.78s\tremaining: 6.35s\n",
            "56:\tlearn: 0.0001545\ttotal: 3.81s\tremaining: 6.22s\n",
            "57:\tlearn: 0.0001544\ttotal: 3.85s\tremaining: 6.11s\n",
            "58:\tlearn: 0.0001544\ttotal: 3.88s\tremaining: 5.99s\n",
            "59:\tlearn: 0.0001544\ttotal: 3.92s\tremaining: 5.88s\n",
            "60:\tlearn: 0.0001544\ttotal: 3.96s\tremaining: 5.77s\n",
            "61:\tlearn: 0.0001544\ttotal: 3.99s\tremaining: 5.67s\n",
            "62:\tlearn: 0.0001544\ttotal: 4.04s\tremaining: 5.58s\n",
            "63:\tlearn: 0.0001544\ttotal: 4.12s\tremaining: 5.53s\n",
            "64:\tlearn: 0.0001544\ttotal: 4.19s\tremaining: 5.48s\n",
            "65:\tlearn: 0.0001544\ttotal: 4.25s\tremaining: 5.41s\n",
            "66:\tlearn: 0.0001544\ttotal: 4.31s\tremaining: 5.34s\n",
            "67:\tlearn: 0.0001544\ttotal: 4.34s\tremaining: 5.24s\n",
            "68:\tlearn: 0.0001544\ttotal: 4.38s\tremaining: 5.14s\n",
            "69:\tlearn: 0.0001544\ttotal: 4.43s\tremaining: 5.06s\n",
            "70:\tlearn: 0.0001544\ttotal: 4.46s\tremaining: 4.96s\n",
            "71:\tlearn: 0.0001544\ttotal: 4.49s\tremaining: 4.87s\n",
            "72:\tlearn: 0.0001544\ttotal: 4.53s\tremaining: 4.78s\n",
            "73:\tlearn: 0.0001544\ttotal: 4.55s\tremaining: 4.67s\n",
            "74:\tlearn: 0.0001544\ttotal: 4.59s\tremaining: 4.59s\n",
            "75:\tlearn: 0.0001544\ttotal: 4.66s\tremaining: 4.54s\n",
            "76:\tlearn: 0.0001544\ttotal: 4.74s\tremaining: 4.49s\n",
            "77:\tlearn: 0.0001544\ttotal: 4.81s\tremaining: 4.44s\n",
            "78:\tlearn: 0.0001544\ttotal: 4.88s\tremaining: 4.39s\n",
            "79:\tlearn: 0.0001544\ttotal: 4.93s\tremaining: 4.31s\n",
            "80:\tlearn: 0.0001544\ttotal: 5.01s\tremaining: 4.26s\n",
            "81:\tlearn: 0.0001544\ttotal: 5.08s\tremaining: 4.21s\n",
            "82:\tlearn: 0.0001544\ttotal: 5.15s\tremaining: 4.16s\n",
            "83:\tlearn: 0.0001544\ttotal: 5.2s\tremaining: 4.08s\n",
            "84:\tlearn: 0.0001544\ttotal: 5.25s\tremaining: 4.01s\n",
            "85:\tlearn: 0.0001544\ttotal: 5.3s\tremaining: 3.94s\n",
            "86:\tlearn: 0.0001544\ttotal: 5.34s\tremaining: 3.87s\n",
            "87:\tlearn: 0.0001544\ttotal: 5.38s\tremaining: 3.79s\n",
            "88:\tlearn: 0.0001544\ttotal: 5.46s\tremaining: 3.74s\n",
            "89:\tlearn: 0.0001544\ttotal: 5.53s\tremaining: 3.69s\n",
            "90:\tlearn: 0.0001544\ttotal: 5.61s\tremaining: 3.63s\n",
            "91:\tlearn: 0.0001544\ttotal: 5.68s\tremaining: 3.58s\n",
            "92:\tlearn: 0.0001544\ttotal: 5.73s\tremaining: 3.51s\n",
            "93:\tlearn: 0.0001544\ttotal: 5.78s\tremaining: 3.44s\n",
            "94:\tlearn: 0.0001544\ttotal: 5.85s\tremaining: 3.39s\n",
            "95:\tlearn: 0.0001544\ttotal: 5.91s\tremaining: 3.32s\n",
            "96:\tlearn: 0.0001544\ttotal: 5.99s\tremaining: 3.27s\n",
            "97:\tlearn: 0.0001543\ttotal: 6.06s\tremaining: 3.21s\n",
            "98:\tlearn: 0.0001543\ttotal: 6.13s\tremaining: 3.16s\n",
            "99:\tlearn: 0.0001543\ttotal: 6.2s\tremaining: 3.1s\n",
            "100:\tlearn: 0.0001543\ttotal: 6.24s\tremaining: 3.03s\n",
            "101:\tlearn: 0.0001543\ttotal: 6.27s\tremaining: 2.95s\n",
            "102:\tlearn: 0.0001543\ttotal: 6.32s\tremaining: 2.88s\n",
            "103:\tlearn: 0.0001543\ttotal: 6.39s\tremaining: 2.83s\n",
            "104:\tlearn: 0.0001543\ttotal: 6.47s\tremaining: 2.77s\n",
            "105:\tlearn: 0.0001543\ttotal: 6.52s\tremaining: 2.71s\n",
            "106:\tlearn: 0.0001543\ttotal: 6.59s\tremaining: 2.65s\n",
            "107:\tlearn: 0.0001543\ttotal: 6.66s\tremaining: 2.59s\n",
            "108:\tlearn: 0.0001543\ttotal: 6.72s\tremaining: 2.53s\n",
            "109:\tlearn: 0.0001543\ttotal: 6.76s\tremaining: 2.46s\n",
            "110:\tlearn: 0.0001543\ttotal: 6.8s\tremaining: 2.39s\n",
            "111:\tlearn: 0.0001543\ttotal: 6.87s\tremaining: 2.33s\n",
            "112:\tlearn: 0.0001543\ttotal: 6.95s\tremaining: 2.27s\n",
            "113:\tlearn: 0.0001543\ttotal: 7.02s\tremaining: 2.21s\n",
            "114:\tlearn: 0.0001543\ttotal: 7.09s\tremaining: 2.16s\n",
            "115:\tlearn: 0.0001543\ttotal: 7.2s\tremaining: 2.11s\n",
            "116:\tlearn: 0.0001543\ttotal: 7.32s\tremaining: 2.06s\n",
            "117:\tlearn: 0.0001543\ttotal: 7.48s\tremaining: 2.03s\n",
            "118:\tlearn: 0.0001543\ttotal: 7.57s\tremaining: 1.97s\n",
            "119:\tlearn: 0.0001543\ttotal: 7.71s\tremaining: 1.93s\n",
            "120:\tlearn: 0.0001543\ttotal: 7.91s\tremaining: 1.9s\n",
            "121:\tlearn: 0.0001543\ttotal: 8.09s\tremaining: 1.86s\n",
            "122:\tlearn: 0.0001543\ttotal: 8.21s\tremaining: 1.8s\n",
            "123:\tlearn: 0.0001543\ttotal: 8.34s\tremaining: 1.75s\n",
            "124:\tlearn: 0.0001543\ttotal: 8.46s\tremaining: 1.69s\n",
            "125:\tlearn: 0.0001543\ttotal: 8.61s\tremaining: 1.64s\n",
            "126:\tlearn: 0.0001543\ttotal: 8.72s\tremaining: 1.58s\n",
            "127:\tlearn: 0.0001543\ttotal: 8.87s\tremaining: 1.52s\n",
            "128:\tlearn: 0.0001543\ttotal: 8.99s\tremaining: 1.46s\n",
            "129:\tlearn: 0.0001543\ttotal: 9.18s\tremaining: 1.41s\n",
            "130:\tlearn: 0.0001543\ttotal: 9.34s\tremaining: 1.35s\n",
            "131:\tlearn: 0.0001543\ttotal: 9.48s\tremaining: 1.29s\n",
            "132:\tlearn: 0.0001543\ttotal: 9.64s\tremaining: 1.23s\n",
            "133:\tlearn: 0.0001543\ttotal: 9.8s\tremaining: 1.17s\n",
            "134:\tlearn: 0.0001543\ttotal: 9.99s\tremaining: 1.11s\n",
            "135:\tlearn: 0.0001543\ttotal: 10.2s\tremaining: 1.05s\n",
            "136:\tlearn: 0.0001543\ttotal: 10.4s\tremaining: 989ms\n",
            "137:\tlearn: 0.0001543\ttotal: 10.6s\tremaining: 924ms\n",
            "138:\tlearn: 0.0001543\ttotal: 10.8s\tremaining: 851ms\n",
            "139:\tlearn: 0.0001543\ttotal: 10.8s\tremaining: 774ms\n",
            "140:\tlearn: 0.0001543\ttotal: 10.9s\tremaining: 698ms\n",
            "141:\tlearn: 0.0001543\ttotal: 11s\tremaining: 620ms\n",
            "142:\tlearn: 0.0001543\ttotal: 11.1s\tremaining: 545ms\n",
            "143:\tlearn: 0.0001543\ttotal: 11.2s\tremaining: 466ms\n",
            "144:\tlearn: 0.0001543\ttotal: 11.3s\tremaining: 388ms\n",
            "145:\tlearn: 0.0001543\ttotal: 11.3s\tremaining: 311ms\n",
            "146:\tlearn: 0.0001543\ttotal: 11.4s\tremaining: 233ms\n",
            "147:\tlearn: 0.0001543\ttotal: 11.5s\tremaining: 155ms\n",
            "148:\tlearn: 0.0001543\ttotal: 11.6s\tremaining: 77.7ms\n",
            "149:\tlearn: 0.0001542\ttotal: 11.7s\tremaining: 0us\n"
          ]
        },
        {
          "output_type": "execute_result",
          "data": {
            "text/plain": [
              "<catboost.core.CatBoostClassifier at 0x7ea3bba27640>"
            ]
          },
          "metadata": {},
          "execution_count": 51
        }
      ]
    },
    {
      "cell_type": "code",
      "source": [
        "#change the name of model\n",
        "print('model', catBoost)\n",
        "pred_train = catBoost.predict(X_train)\n",
        "print(\"The train recall score is {}\".format(np.round(recall_score(y_train, pred_train),   4)))\n",
        "train_accuracy = accuracy_score(y_train, pred_train)\n",
        "train_f1_score = f1_score(y_train, pred_train)\n",
        "print(\"The train accuracy is {}\".format(np.round(train_accuracy, 4)))\n",
        "print(\"The train f1 is {}\".format(np.round(train_f1_score, 4)))\n",
        "pred_test = catBoost.predict(X_test)\n",
        "print(\"The test recall is {}\".format(np.round(recall_score(y_test, pred_test), 4)))\n",
        "test_accuracy = accuracy_score(y_test, pred_test)\n",
        "test_f1_score = f1_score(y_test, pred_test)\n",
        "print(\"The test accuracy is {}\".format(np.round(test_accuracy, 4)))\n",
        "print(\"The test f1 is {}\".format(np.round(test_f1_score, 4)))\n",
        "print(' ')"
      ],
      "metadata": {
        "colab": {
          "base_uri": "https://localhost:8080/"
        },
        "id": "El4MJejZlsKv",
        "outputId": "aa2ba8e2-6ed2-484c-8857-fa1a191fedd1"
      },
      "execution_count": null,
      "outputs": [
        {
          "output_type": "stream",
          "name": "stdout",
          "text": [
            "model <catboost.core.CatBoostClassifier object at 0x7ea3bba27640>\n",
            "The train recall score is 1.0\n",
            "The train accuracy is 1.0\n",
            "The train f1 is 1.0\n",
            "The test recall is 1.0\n",
            "The test accuracy is 1.0\n",
            "The test f1 is 1.0\n",
            " \n"
          ]
        }
      ]
    },
    {
      "cell_type": "code",
      "source": [
        "train_error = model.get_evals_result()['learn']['Logloss']\n",
        "test_error = model.get_evals_result()['validation']['Logloss']\n",
        "\n",
        "# Plot the training and test errors\n",
        "plt.figure(figsize=(10, 6))\n",
        "plt.plot(train_error, label='Train Error')\n",
        "plt.plot(test_error, label='Test Error')\n",
        "plt.xlabel('Iterations')\n",
        "plt.ylabel('Logloss')\n",
        "plt.title('Training and Test Error over Iterations')\n",
        "plt.legend()\n",
        "plt.show()"
      ],
      "metadata": {
        "id": "65q9QtXhlsID"
      },
      "execution_count": null,
      "outputs": []
    },
    {
      "cell_type": "markdown",
      "source": [
        "#### grid search catboost"
      ],
      "metadata": {
        "id": "RFt7MBOker-5"
      }
    },
    {
      "cell_type": "code",
      "source": [
        "model = CatBoostClassifier(eval_metric='F1', random_seed=42, verbose=False)\n",
        "\n",
        "# Define the grid of hyperparameters\n",
        "param_grid = {\n",
        "    'iterations': [100, 200, 300, 500],\n",
        "    'depth': [4, 6, 8],\n",
        "    'learning_rate': [0.01, 0.05, 0.1 , 0.2],\n",
        "    'l2_leaf_reg': [3, 5, 7],\n",
        "    'bagging_temperature': [0, 0.5, 1]\n",
        "}\n",
        "\n",
        "# Define the grid search\n",
        "grid_search = GridSearchCV(estimator=model, param_grid=param_grid, cv=5, scoring='f1')\n",
        "\n",
        "# Fit the grid search\n",
        "grid_search.fit(X_train, y_train)\n",
        "\n",
        "# Print the best parameters and best score\n",
        "print(\"Best Parameters:\", grid_search.best_params_)\n",
        "print(\"Best Score:\", grid_search.best_score_)\n",
        "\n",
        "# Print the accuracy of each model evaluated during grid search\n",
        "\n",
        "results = grid_search.cv_results_\n",
        "for i, params in enumerate(results['params']):\n",
        "    mean_score = results['mean_test_score'][i]\n",
        "    std_score = results['std_test_score'][i]\n",
        "    print(f\"Params: {params} --> Mean Test F1 Score: {mean_score:.4f} (Std Test F1 Score: {std_score:.4f})\")"
      ],
      "metadata": {
        "id": "rgLmqzMTeiQZ"
      },
      "execution_count": null,
      "outputs": []
    },
    {
      "cell_type": "code",
      "source": [],
      "metadata": {
        "id": "1SkSBJRoeiOB"
      },
      "execution_count": null,
      "outputs": []
    },
    {
      "cell_type": "code",
      "source": [],
      "metadata": {
        "id": "HHqGEBPceiLh"
      },
      "execution_count": null,
      "outputs": []
    },
    {
      "cell_type": "code",
      "source": [],
      "metadata": {
        "id": "I0Y9Y79qeiJK"
      },
      "execution_count": null,
      "outputs": []
    },
    {
      "cell_type": "markdown",
      "source": [
        "### Stacking"
      ],
      "metadata": {
        "id": "DashpzUOHplX"
      }
    },
    {
      "cell_type": "code",
      "source": [
        "from sklearn.model_selection import StratifiedKFold\n",
        "from sklearn.ensemble import StackingClassifier"
      ],
      "metadata": {
        "id": "m5DLCWtvIcud"
      },
      "execution_count": null,
      "outputs": []
    },
    {
      "cell_type": "code",
      "source": [
        "level_0_classifiers = dict()\n",
        "level_0_classifiers[\"HGBC\"] = HistGradientBoostingClassifier(random_state=42)\n",
        "level_0_classifiers[\"forest\"] = RandomForestClassifier(random_state=42)\n",
        "level_0_classifiers[\"xgboost\"] = XGBClassifier(use_label_encoder=False, eval_metric='logloss', random_state=42)\n",
        "level_0_classifiers[\"xtrees\"] = ExtraTreesClassifier(random_state=42)\n",
        "level_1_classifier = ExtraTreesClassifier(random_state=42)\n",
        "\n",
        "kfold = StratifiedKFold(n_splits=5, shuffle=True, random_state=42)\n",
        "stacking_model = StackingClassifier(estimators=list(level_0_classifiers.items()), final_estimator=level_1_classifier, passthrough=True, cv=kfold, stack_method=\"predict_proba\")\n",
        "level_0_columns = [f\"{name}_prediction\" for name in level_0_classifiers.keys()]\n",
        "\n",
        "stacking_model.fit(X_train, y_train)\n",
        "\n",
        "# pd.DataFrame(stacking_model.fit_transform(X_train, y_train), columns=level_0_columns + list(X_train.columns))\n",
        "import copy as cp # Import the copy module and alias it as 'cp'\n",
        "\n",
        "\n",
        "df_explain_sklearn = pd.DataFrame()\n",
        "\n",
        "for name, classifier in level_0_classifiers.items():\n",
        "    classifier_ = cp.deepcopy(classifier)\n",
        "    classifier_.fit(X_train, y_train)\n",
        "    y_predict_proba = classifier_.predict_proba(X_train)[:, 1]\n",
        "    df_explain_sklearn = pd.concat([df_explain_sklearn, pd.DataFrame(y_predict_proba, columns=[f\"{name}_prediction\"])], axis=1)"
      ],
      "metadata": {
        "id": "tRAEqBwZHrFw"
      },
      "execution_count": null,
      "outputs": []
    },
    {
      "cell_type": "code",
      "source": [
        "stacking_model"
      ],
      "metadata": {
        "colab": {
          "base_uri": "https://localhost:8080/",
          "height": 161
        },
        "id": "rWuvUByVJ2Nc",
        "outputId": "304fbbfb-47e0-4321-b1f0-94d938c31068"
      },
      "execution_count": null,
      "outputs": [
        {
          "output_type": "execute_result",
          "data": {
            "text/plain": [
              "StackingClassifier(cv=StratifiedKFold(n_splits=5, random_state=42, shuffle=True),\n",
              "                   estimators=[('HGBC',\n",
              "                                HistGradientBoostingClassifier(random_state=42)),\n",
              "                               ('forest',\n",
              "                                RandomForestClassifier(random_state=42)),\n",
              "                               ('xgboost',\n",
              "                                XGBClassifier(base_score=None, booster=None,\n",
              "                                              callbacks=None,\n",
              "                                              colsample_bylevel=None,\n",
              "                                              colsample_bynode=None,\n",
              "                                              colsample_bytree=None,\n",
              "                                              device=None,\n",
              "                                              ear...\n",
              "                                              max_delta_step=None,\n",
              "                                              max_depth=None, max_leaves=None,\n",
              "                                              min_child_weight=None,\n",
              "                                              missing=nan,\n",
              "                                              monotone_constraints=None,\n",
              "                                              multi_strategy=None,\n",
              "                                              n_estimators=None, n_jobs=None,\n",
              "                                              num_parallel_tree=None,\n",
              "                                              random_state=42, ...)),\n",
              "                               ('xtrees',\n",
              "                                ExtraTreesClassifier(random_state=42))],\n",
              "                   final_estimator=ExtraTreesClassifier(random_state=42),\n",
              "                   passthrough=True, stack_method='predict_proba')"
            ],
            "text/html": [
              "<style>#sk-container-id-1 {color: black;background-color: white;}#sk-container-id-1 pre{padding: 0;}#sk-container-id-1 div.sk-toggleable {background-color: white;}#sk-container-id-1 label.sk-toggleable__label {cursor: pointer;display: block;width: 100%;margin-bottom: 0;padding: 0.3em;box-sizing: border-box;text-align: center;}#sk-container-id-1 label.sk-toggleable__label-arrow:before {content: \"▸\";float: left;margin-right: 0.25em;color: #696969;}#sk-container-id-1 label.sk-toggleable__label-arrow:hover:before {color: black;}#sk-container-id-1 div.sk-estimator:hover label.sk-toggleable__label-arrow:before {color: black;}#sk-container-id-1 div.sk-toggleable__content {max-height: 0;max-width: 0;overflow: hidden;text-align: left;background-color: #f0f8ff;}#sk-container-id-1 div.sk-toggleable__content pre {margin: 0.2em;color: black;border-radius: 0.25em;background-color: #f0f8ff;}#sk-container-id-1 input.sk-toggleable__control:checked~div.sk-toggleable__content {max-height: 200px;max-width: 100%;overflow: auto;}#sk-container-id-1 input.sk-toggleable__control:checked~label.sk-toggleable__label-arrow:before {content: \"▾\";}#sk-container-id-1 div.sk-estimator input.sk-toggleable__control:checked~label.sk-toggleable__label {background-color: #d4ebff;}#sk-container-id-1 div.sk-label input.sk-toggleable__control:checked~label.sk-toggleable__label {background-color: #d4ebff;}#sk-container-id-1 input.sk-hidden--visually {border: 0;clip: rect(1px 1px 1px 1px);clip: rect(1px, 1px, 1px, 1px);height: 1px;margin: -1px;overflow: hidden;padding: 0;position: absolute;width: 1px;}#sk-container-id-1 div.sk-estimator {font-family: monospace;background-color: #f0f8ff;border: 1px dotted black;border-radius: 0.25em;box-sizing: border-box;margin-bottom: 0.5em;}#sk-container-id-1 div.sk-estimator:hover {background-color: #d4ebff;}#sk-container-id-1 div.sk-parallel-item::after {content: \"\";width: 100%;border-bottom: 1px solid gray;flex-grow: 1;}#sk-container-id-1 div.sk-label:hover label.sk-toggleable__label {background-color: #d4ebff;}#sk-container-id-1 div.sk-serial::before {content: \"\";position: absolute;border-left: 1px solid gray;box-sizing: border-box;top: 0;bottom: 0;left: 50%;z-index: 0;}#sk-container-id-1 div.sk-serial {display: flex;flex-direction: column;align-items: center;background-color: white;padding-right: 0.2em;padding-left: 0.2em;position: relative;}#sk-container-id-1 div.sk-item {position: relative;z-index: 1;}#sk-container-id-1 div.sk-parallel {display: flex;align-items: stretch;justify-content: center;background-color: white;position: relative;}#sk-container-id-1 div.sk-item::before, #sk-container-id-1 div.sk-parallel-item::before {content: \"\";position: absolute;border-left: 1px solid gray;box-sizing: border-box;top: 0;bottom: 0;left: 50%;z-index: -1;}#sk-container-id-1 div.sk-parallel-item {display: flex;flex-direction: column;z-index: 1;position: relative;background-color: white;}#sk-container-id-1 div.sk-parallel-item:first-child::after {align-self: flex-end;width: 50%;}#sk-container-id-1 div.sk-parallel-item:last-child::after {align-self: flex-start;width: 50%;}#sk-container-id-1 div.sk-parallel-item:only-child::after {width: 0;}#sk-container-id-1 div.sk-dashed-wrapped {border: 1px dashed gray;margin: 0 0.4em 0.5em 0.4em;box-sizing: border-box;padding-bottom: 0.4em;background-color: white;}#sk-container-id-1 div.sk-label label {font-family: monospace;font-weight: bold;display: inline-block;line-height: 1.2em;}#sk-container-id-1 div.sk-label-container {text-align: center;}#sk-container-id-1 div.sk-container {/* jupyter's `normalize.less` sets `[hidden] { display: none; }` but bootstrap.min.css set `[hidden] { display: none !important; }` so we also need the `!important` here to be able to override the default hidden behavior on the sphinx rendered scikit-learn.org. See: https://github.com/scikit-learn/scikit-learn/issues/21755 */display: inline-block !important;position: relative;}#sk-container-id-1 div.sk-text-repr-fallback {display: none;}</style><div id=\"sk-container-id-1\" class=\"sk-top-container\"><div class=\"sk-text-repr-fallback\"><pre>StackingClassifier(cv=StratifiedKFold(n_splits=5, random_state=42, shuffle=True),\n",
              "                   estimators=[(&#x27;HGBC&#x27;,\n",
              "                                HistGradientBoostingClassifier(random_state=42)),\n",
              "                               (&#x27;forest&#x27;,\n",
              "                                RandomForestClassifier(random_state=42)),\n",
              "                               (&#x27;xgboost&#x27;,\n",
              "                                XGBClassifier(base_score=None, booster=None,\n",
              "                                              callbacks=None,\n",
              "                                              colsample_bylevel=None,\n",
              "                                              colsample_bynode=None,\n",
              "                                              colsample_bytree=None,\n",
              "                                              device=None,\n",
              "                                              ear...\n",
              "                                              max_delta_step=None,\n",
              "                                              max_depth=None, max_leaves=None,\n",
              "                                              min_child_weight=None,\n",
              "                                              missing=nan,\n",
              "                                              monotone_constraints=None,\n",
              "                                              multi_strategy=None,\n",
              "                                              n_estimators=None, n_jobs=None,\n",
              "                                              num_parallel_tree=None,\n",
              "                                              random_state=42, ...)),\n",
              "                               (&#x27;xtrees&#x27;,\n",
              "                                ExtraTreesClassifier(random_state=42))],\n",
              "                   final_estimator=ExtraTreesClassifier(random_state=42),\n",
              "                   passthrough=True, stack_method=&#x27;predict_proba&#x27;)</pre><b>In a Jupyter environment, please rerun this cell to show the HTML representation or trust the notebook. <br />On GitHub, the HTML representation is unable to render, please try loading this page with nbviewer.org.</b></div><div class=\"sk-container\" hidden><div class=\"sk-item sk-dashed-wrapped\"><div class=\"sk-label-container\"><div class=\"sk-label sk-toggleable\"><input class=\"sk-toggleable__control sk-hidden--visually\" id=\"sk-estimator-id-1\" type=\"checkbox\" ><label for=\"sk-estimator-id-1\" class=\"sk-toggleable__label sk-toggleable__label-arrow\">StackingClassifier</label><div class=\"sk-toggleable__content\"><pre>StackingClassifier(cv=StratifiedKFold(n_splits=5, random_state=42, shuffle=True),\n",
              "                   estimators=[(&#x27;HGBC&#x27;,\n",
              "                                HistGradientBoostingClassifier(random_state=42)),\n",
              "                               (&#x27;forest&#x27;,\n",
              "                                RandomForestClassifier(random_state=42)),\n",
              "                               (&#x27;xgboost&#x27;,\n",
              "                                XGBClassifier(base_score=None, booster=None,\n",
              "                                              callbacks=None,\n",
              "                                              colsample_bylevel=None,\n",
              "                                              colsample_bynode=None,\n",
              "                                              colsample_bytree=None,\n",
              "                                              device=None,\n",
              "                                              ear...\n",
              "                                              max_delta_step=None,\n",
              "                                              max_depth=None, max_leaves=None,\n",
              "                                              min_child_weight=None,\n",
              "                                              missing=nan,\n",
              "                                              monotone_constraints=None,\n",
              "                                              multi_strategy=None,\n",
              "                                              n_estimators=None, n_jobs=None,\n",
              "                                              num_parallel_tree=None,\n",
              "                                              random_state=42, ...)),\n",
              "                               (&#x27;xtrees&#x27;,\n",
              "                                ExtraTreesClassifier(random_state=42))],\n",
              "                   final_estimator=ExtraTreesClassifier(random_state=42),\n",
              "                   passthrough=True, stack_method=&#x27;predict_proba&#x27;)</pre></div></div></div><div class=\"sk-serial\"><div class=\"sk-item\"><div class=\"sk-parallel\"><div class=\"sk-parallel-item\"><div class=\"sk-item\"><div class=\"sk-label-container\"><div class=\"sk-label sk-toggleable\"><label>HGBC</label></div></div><div class=\"sk-serial\"><div class=\"sk-item\"><div class=\"sk-estimator sk-toggleable\"><input class=\"sk-toggleable__control sk-hidden--visually\" id=\"sk-estimator-id-2\" type=\"checkbox\" ><label for=\"sk-estimator-id-2\" class=\"sk-toggleable__label sk-toggleable__label-arrow\">HistGradientBoostingClassifier</label><div class=\"sk-toggleable__content\"><pre>HistGradientBoostingClassifier(random_state=42)</pre></div></div></div></div></div></div><div class=\"sk-parallel-item\"><div class=\"sk-item\"><div class=\"sk-label-container\"><div class=\"sk-label sk-toggleable\"><label>forest</label></div></div><div class=\"sk-serial\"><div class=\"sk-item\"><div class=\"sk-estimator sk-toggleable\"><input class=\"sk-toggleable__control sk-hidden--visually\" id=\"sk-estimator-id-3\" type=\"checkbox\" ><label for=\"sk-estimator-id-3\" class=\"sk-toggleable__label sk-toggleable__label-arrow\">RandomForestClassifier</label><div class=\"sk-toggleable__content\"><pre>RandomForestClassifier(random_state=42)</pre></div></div></div></div></div></div><div class=\"sk-parallel-item\"><div class=\"sk-item\"><div class=\"sk-label-container\"><div class=\"sk-label sk-toggleable\"><label>xgboost</label></div></div><div class=\"sk-serial\"><div class=\"sk-item\"><div class=\"sk-estimator sk-toggleable\"><input class=\"sk-toggleable__control sk-hidden--visually\" id=\"sk-estimator-id-4\" type=\"checkbox\" ><label for=\"sk-estimator-id-4\" class=\"sk-toggleable__label sk-toggleable__label-arrow\">XGBClassifier</label><div class=\"sk-toggleable__content\"><pre>XGBClassifier(base_score=None, booster=None, callbacks=None,\n",
              "              colsample_bylevel=None, colsample_bynode=None,\n",
              "              colsample_bytree=None, device=None, early_stopping_rounds=None,\n",
              "              enable_categorical=False, eval_metric=&#x27;logloss&#x27;,\n",
              "              feature_types=None, gamma=None, grow_policy=None,\n",
              "              importance_type=None, interaction_constraints=None,\n",
              "              learning_rate=None, max_bin=None, max_cat_threshold=None,\n",
              "              max_cat_to_onehot=None, max_delta_step=None, max_depth=None,\n",
              "              max_leaves=None, min_child_weight=None, missing=nan,\n",
              "              monotone_constraints=None, multi_strategy=None, n_estimators=None,\n",
              "              n_jobs=None, num_parallel_tree=None, random_state=42, ...)</pre></div></div></div></div></div></div><div class=\"sk-parallel-item\"><div class=\"sk-item\"><div class=\"sk-label-container\"><div class=\"sk-label sk-toggleable\"><label>xtrees</label></div></div><div class=\"sk-serial\"><div class=\"sk-item\"><div class=\"sk-estimator sk-toggleable\"><input class=\"sk-toggleable__control sk-hidden--visually\" id=\"sk-estimator-id-5\" type=\"checkbox\" ><label for=\"sk-estimator-id-5\" class=\"sk-toggleable__label sk-toggleable__label-arrow\">ExtraTreesClassifier</label><div class=\"sk-toggleable__content\"><pre>ExtraTreesClassifier(random_state=42)</pre></div></div></div></div></div></div></div></div><div class=\"sk-item\"><div class=\"sk-parallel\"><div class=\"sk-parallel-item\"><div class=\"sk-item\"><div class=\"sk-label-container\"><div class=\"sk-label sk-toggleable\"><label>final_estimator</label></div></div><div class=\"sk-serial\"><div class=\"sk-item\"><div class=\"sk-estimator sk-toggleable\"><input class=\"sk-toggleable__control sk-hidden--visually\" id=\"sk-estimator-id-6\" type=\"checkbox\" ><label for=\"sk-estimator-id-6\" class=\"sk-toggleable__label sk-toggleable__label-arrow\">ExtraTreesClassifier</label><div class=\"sk-toggleable__content\"><pre>ExtraTreesClassifier(random_state=42)</pre></div></div></div></div></div></div></div></div></div></div></div></div>"
            ]
          },
          "metadata": {},
          "execution_count": 47
        }
      ]
    },
    {
      "cell_type": "code",
      "source": [
        "y_val_pred = stacking_model.predict(X_test)\n",
        "y_val_pred\n",
        "\n",
        "print(f\"Accuracy of scikit-learn stacking classifier: {accuracy_score(y_test, y_val_pred)}\")\n",
        "\n",
        "print(f\"F1 score of scikit-learn stacking classifier: {f1_score(y_test, y_val_pred)}\")\n",
        "\n",
        "for name, classifier in level_0_classifiers.items():\n",
        "    classifier_ = cp.deepcopy(classifier)\n",
        "    classifier_.fit(X_train, y_train)\n",
        "\n",
        "    print(f\"f1 score of standalone {name} classifier: {f1_score(y_test, classifier_.predict(X_test))}\")"
      ],
      "metadata": {
        "colab": {
          "base_uri": "https://localhost:8080/"
        },
        "id": "A5YLP1RkIMSl",
        "outputId": "29ac1b31-889d-4a70-a4aa-296f9665dc96"
      },
      "execution_count": null,
      "outputs": [
        {
          "output_type": "stream",
          "name": "stdout",
          "text": [
            "Accuracy of scikit-learn stacking classifier: 0.9517205781142464\n",
            "F1 score of scikit-learn stacking classifier: 0.9518811949103132\n",
            "f1 score of standalone HGBC classifier: 0.9418746608790015\n",
            "f1 score of standalone forest classifier: 0.9493735013002804\n",
            "f1 score of standalone xgboost classifier: 0.9476237657589941\n",
            "f1 score of standalone xtrees classifier: 0.9482134858560453\n"
          ]
        }
      ]
    },
    {
      "cell_type": "code",
      "source": [
        "model = stacking_model\n",
        "print('model', model)\n",
        "pred_train = model.predict(X_train)\n",
        "print(\"The train recall score is {}\".format(np.round(recall_score(y_train, pred_train),   4)))\n",
        "train_accuracy = accuracy_score(y_train, pred_train)\n",
        "train_f1_score = f1_score(y_train, pred_train)\n",
        "print(\"The train accuracy is {}\".format(np.round(train_accuracy, 4)))\n",
        "print(\"The train f1 is {}\".format(np.round(train_f1_score, 4)))\n",
        "pred_test = model.predict(X_test)\n",
        "print(\"The test recall is {}\".format(np.round(recall_score(y_test, pred_test), 4)))\n",
        "test_accuracy = accuracy_score(y_test, pred_test)\n",
        "test_f1_score = f1_score(y_test, pred_test)\n",
        "print(\"The test accuracy is {}\".format(np.round(test_accuracy, 4)))\n",
        "print(\"The test f1 is {}\".format(np.round(test_f1_score, 4)))\n",
        "print(' ')"
      ],
      "metadata": {
        "colab": {
          "base_uri": "https://localhost:8080/"
        },
        "id": "BRbsZsMwI0j9",
        "outputId": "22531375-aec3-4675-c421-8b2ecdbde1fe"
      },
      "execution_count": null,
      "outputs": [
        {
          "output_type": "stream",
          "name": "stdout",
          "text": [
            "model StackingClassifier(cv=StratifiedKFold(n_splits=5, random_state=42, shuffle=True),\n",
            "                   estimators=[('HGBC',\n",
            "                                HistGradientBoostingClassifier(random_state=42)),\n",
            "                               ('forest',\n",
            "                                RandomForestClassifier(random_state=42)),\n",
            "                               ('xgboost',\n",
            "                                XGBClassifier(base_score=None, booster=None,\n",
            "                                              callbacks=None,\n",
            "                                              colsample_bylevel=None,\n",
            "                                              colsample_bynode=None,\n",
            "                                              colsample_bytree=None,\n",
            "                                              device=None,\n",
            "                                              ear...\n",
            "                                              max_delta_step=None,\n",
            "                                              max_depth=None, max_leaves=None,\n",
            "                                              min_child_weight=None,\n",
            "                                              missing=nan,\n",
            "                                              monotone_constraints=None,\n",
            "                                              multi_strategy=None,\n",
            "                                              n_estimators=None, n_jobs=None,\n",
            "                                              num_parallel_tree=None,\n",
            "                                              random_state=42, ...)),\n",
            "                               ('xtrees',\n",
            "                                ExtraTreesClassifier(random_state=42))],\n",
            "                   final_estimator=ExtraTreesClassifier(random_state=42),\n",
            "                   passthrough=True, stack_method='predict_proba')\n",
            "The train recall score is 1.0\n",
            "The train accuracy is 0.9992\n",
            "The train f1 is 0.9992\n",
            "The test recall is 0.9464\n",
            "The test accuracy is 0.9517\n",
            "The test f1 is 0.9519\n",
            " \n"
          ]
        }
      ]
    },
    {
      "cell_type": "markdown",
      "source": [
        "# Feature Importance"
      ],
      "metadata": {
        "id": "AoScGO4wjTqU"
      }
    },
    {
      "cell_type": "code",
      "source": [
        "train.drop('balance', axis=1,inplace=True)\n",
        "test.drop('balance', axis=1,inplace=True)"
      ],
      "metadata": {
        "id": "Ux_GeVYmjGxk"
      },
      "execution_count": null,
      "outputs": []
    },
    {
      "cell_type": "code",
      "source": [
        "from sklearn.ensemble import RandomForestClassifier\n",
        "X = train.copy()\n",
        "\n",
        "y = train.Target\n",
        "x = X.drop('Target', axis=1)\n",
        "\n",
        "\n",
        "x = x.fillna(-999)\n",
        "\n",
        "\n",
        "for c in train.columns[train.dtypes == 'object']:\n",
        "    X[c] = X[c].factorize()[0]\n",
        "\n",
        "rf = RandomForestClassifier()\n",
        "rf.fit(X,y)\n",
        "\n",
        "plt.plot(rf.feature_importances_)\n",
        "plt.ylabel('Importance of Feature')\n",
        "plt.xticks(np.arange(X.shape[1]), X.columns.tolist(), rotation=90);"
      ],
      "metadata": {
        "colab": {
          "base_uri": "https://localhost:8080/",
          "height": 501
        },
        "id": "5weDOFWwjEdc",
        "outputId": "d0576ffa-a444-41ea-90b6-592728da1867"
      },
      "execution_count": null,
      "outputs": [
        {
          "output_type": "display_data",
          "data": {
            "text/plain": [
              "<Figure size 640x480 with 1 Axes>"
            ],
            "image/png": "[encoded data removed]"
          },
          "metadata": {}
        }
      ]
    },
    {
      "cell_type": "code",
      "source": [
        "train['Target'] = train['Target'].map({'no':0, 'yes':1})"
      ],
      "metadata": {
        "id": "Cb4cQdEsjt0c"
      },
      "execution_count": null,
      "outputs": []
    },
    {
      "cell_type": "code",
      "source": [
        "train_numerical = train[train.columns[train.dtypes != 'object']]\n",
        "train_categorical = train[train.columns[train.dtypes == 'object']]\n",
        "corr=abs(train_numerical.corr())\n",
        "core = corr.Target.sort_values(ascending=False)\n",
        "core"
      ],
      "metadata": {
        "colab": {
          "base_uri": "https://localhost:8080/"
        },
        "id": "EoHT5V5jjgT8",
        "outputId": "61f396e3-8da7-4e17-8d04-8f43430e66ef"
      },
      "execution_count": null,
      "outputs": [
        {
          "output_type": "execute_result",
          "data": {
            "text/plain": [
              "Target        1.000000\n",
              "duration      0.405814\n",
              "previous      0.114603\n",
              "Unnamed: 0    0.096272\n",
              "campaign      0.069128\n",
              "balance       0.060058\n",
              "pdays         0.047454\n",
              "age           0.027563\n",
              "id            0.002035\n",
              "Name: Target, dtype: float64"
            ]
          },
          "metadata": {},
          "execution_count": 44
        }
      ]
    },
    {
      "cell_type": "markdown",
      "source": [
        "# Save Model"
      ],
      "metadata": {
        "id": "A2tkTCQ3jYaU"
      }
    },
    {
      "cell_type": "code",
      "source": [
        "#Save Model\n",
        "predictions = x.predict_proba(test)\n",
        "y_preds=[1 if x>=0.5 else 0 for x in predictions[:,1]]\n",
        "\n",
        "results=pd.DataFrame({'id': test_ids, 'Target':y_preds})\n",
        "# results['Target'] = results['Target']\n",
        "results.to_csv('sub10Startified50percentThreshold_XGboost_30xtest.csv',index=False)"
      ],
      "metadata": {
        "id": "EmO8hYPmiGoO"
      },
      "execution_count": null,
      "outputs": []
    },
    {
      "cell_type": "markdown",
      "source": [
        "# hyperopt"
      ],
      "metadata": {
        "id": "xhvEjQ9GzhI2"
      }
    },
    {
      "cell_type": "code",
      "source": [
        "!pip install hyperopt\n",
        "import hyperopt.hp as hp"
      ],
      "metadata": {
        "colab": {
          "base_uri": "https://localhost:8080/"
        },
        "id": "HIvQKCiFziNs",
        "outputId": "09a08102-9760-4fb8-aaab-538db6fc9347"
      },
      "execution_count": null,
      "outputs": [
        {
          "output_type": "stream",
          "name": "stdout",
          "text": [
            "Requirement already satisfied: hyperopt in /usr/local/lib/python3.10/dist-packages (0.2.7)\n",
            "Requirement already satisfied: numpy in /usr/local/lib/python3.10/dist-packages (from hyperopt) (1.25.2)\n",
            "Requirement already satisfied: scipy in /usr/local/lib/python3.10/dist-packages (from hyperopt) (1.11.4)\n",
            "Requirement already satisfied: six in /usr/local/lib/python3.10/dist-packages (from hyperopt) (1.16.0)\n",
            "Requirement already satisfied: networkx>=2.2 in /usr/local/lib/python3.10/dist-packages (from hyperopt) (3.3)\n",
            "Requirement already satisfied: future in /usr/local/lib/python3.10/dist-packages (from hyperopt) (0.18.3)\n",
            "Requirement already satisfied: tqdm in /usr/local/lib/python3.10/dist-packages (from hyperopt) (4.66.4)\n",
            "Requirement already satisfied: cloudpickle in /usr/local/lib/python3.10/dist-packages (from hyperopt) (2.2.1)\n",
            "Requirement already satisfied: py4j in /usr/local/lib/python3.10/dist-packages (from hyperopt) (0.10.9.7)\n"
          ]
        }
      ]
    },
    {
      "cell_type": "code",
      "source": [
        "space={'max_depth': hp.quniform(\"max_depth\", 3, 18, 1), 'gamma': hp.uniform ('gamma', 0,0.5),\n",
        "       'reg_alpha' : hp.quniform('reg_alpha', 40,180,1),'reg_lambda' : hp.uniform('reg_lambda', 0,1),\n",
        "       'colsample_bytree' : hp.uniform('colsample_bytree', 0.5,1),\n",
        "       'min_child_weight' : hp.quniform('min_child_weight', 0, 10, 1),\n",
        "       'n_estimators': hp.quniform('n_estimators', 100, 1000, 50) ,\n",
        "       'learning_rate': hp.quniform('learning_rate', 0.01, 0.3, 0.02),'subsample': hp.uniform('subsample', 0.6, 1.0) }"
      ],
      "metadata": {
        "id": "LW-GHJWlzlvh"
      },
      "execution_count": null,
      "outputs": []
    },
    {
      "cell_type": "code",
      "source": [
        "def objective(space):\n",
        "    clf=xgb.XGBClassifier(\n",
        "                    n_estimators =int(space['n_estimators']), max_depth = int(space['max_depth']), gamma = space['gamma'],\n",
        "                    reg_alpha = int(space['reg_alpha']),min_child_weight=int(space['min_child_weight']),\n",
        "                    colsample_bytree=space['colsample_bytree'] , learning_rate = space['learning_rate'], subsample = space['subsample'])\n",
        "\n",
        "    evaluation = [( X_train, y_train), ( X_test, y_test)]\n",
        "\n",
        "    clf.fit(X_train, y_train,\n",
        "            eval_set=evaluation, eval_metric=\"auc\",\n",
        "            early_stopping_rounds=10,verbose=False)\n",
        "\n",
        "\n",
        "    pred = clf.predict(X_test)\n",
        "    accuracy = accuracy_score(y_test, pred>0.5)\n",
        "    print (\"SCORE:\", accuracy)\n",
        "    return {'loss': -accuracy, 'status': STATUS_OK }"
      ],
      "metadata": {
        "id": "AA50pXfuzpVU"
      },
      "execution_count": null,
      "outputs": []
    },
    {
      "cell_type": "code",
      "source": [
        "from hyperopt import fmin, tpe, hp, STATUS_OK, Trials # Import necessary objects\n",
        "import xgboost as xgb"
      ],
      "metadata": {
        "id": "_B5bV7XTztwE"
      },
      "execution_count": null,
      "outputs": []
    },
    {
      "cell_type": "code",
      "source": [
        "trials = Trials()\n",
        "\n",
        "best_hyperparams = fmin(fn = objective,\n",
        "                        space = space,\n",
        "                        algo = tpe.suggest,\n",
        "                        max_evals = 100,\n",
        "                        trials = trials)"
      ],
      "metadata": {
        "colab": {
          "base_uri": "https://localhost:8080/"
        },
        "id": "QgNLY-C7zvOe",
        "outputId": "e16f3d75-a094-446d-eacd-8eef31d557e2"
      },
      "execution_count": null,
      "outputs": [
        {
          "output_type": "stream",
          "name": "stdout",
          "text": [
            "\r  0%|          | 0/100 [00:00<?, ?trial/s, best loss=?]"
          ]
        },
        {
          "output_type": "stream",
          "name": "stderr",
          "text": [
            "/usr/local/lib/python3.10/dist-packages/xgboost/sklearn.py:889: UserWarning: `eval_metric` in `fit` method is deprecated for better compatibility with scikit-learn, use `eval_metric` in constructor or`set_params` instead.\n",
            "  warnings.warn(\n",
            "\n",
            "/usr/local/lib/python3.10/dist-packages/xgboost/sklearn.py:889: UserWarning: `early_stopping_rounds` in `fit` method is deprecated for better compatibility with scikit-learn, use `early_stopping_rounds` in constructor or`set_params` instead.\n",
            "  warnings.warn(\n",
            "\n"
          ]
        },
        {
          "output_type": "stream",
          "name": "stdout",
          "text": [
            "SCORE:\n",
            "1.0\n",
            "  1%|          | 1/100 [00:05<09:41,  5.88s/trial, best loss: -1.0]"
          ]
        },
        {
          "output_type": "stream",
          "name": "stderr",
          "text": [
            "/usr/local/lib/python3.10/dist-packages/xgboost/sklearn.py:889: UserWarning: `eval_metric` in `fit` method is deprecated for better compatibility with scikit-learn, use `eval_metric` in constructor or`set_params` instead.\n",
            "  warnings.warn(\n",
            "\n",
            "/usr/local/lib/python3.10/dist-packages/xgboost/sklearn.py:889: UserWarning: `early_stopping_rounds` in `fit` method is deprecated for better compatibility with scikit-learn, use `early_stopping_rounds` in constructor or`set_params` instead.\n",
            "  warnings.warn(\n",
            "\n"
          ]
        },
        {
          "output_type": "stream",
          "name": "stdout",
          "text": [
            "SCORE:\n",
            "1.0\n",
            "  2%|▏         | 2/100 [00:08<06:05,  3.72s/trial, best loss: -1.0]"
          ]
        },
        {
          "output_type": "stream",
          "name": "stderr",
          "text": [
            "/usr/local/lib/python3.10/dist-packages/xgboost/sklearn.py:889: UserWarning: `eval_metric` in `fit` method is deprecated for better compatibility with scikit-learn, use `eval_metric` in constructor or`set_params` instead.\n",
            "  warnings.warn(\n",
            "\n",
            "/usr/local/lib/python3.10/dist-packages/xgboost/sklearn.py:889: UserWarning: `early_stopping_rounds` in `fit` method is deprecated for better compatibility with scikit-learn, use `early_stopping_rounds` in constructor or`set_params` instead.\n",
            "  warnings.warn(\n",
            "\n"
          ]
        },
        {
          "output_type": "stream",
          "name": "stdout",
          "text": [
            "SCORE:\n",
            "1.0\n",
            "  3%|▎         | 3/100 [00:09<04:29,  2.78s/trial, best loss: -1.0]"
          ]
        },
        {
          "output_type": "stream",
          "name": "stderr",
          "text": [
            "/usr/local/lib/python3.10/dist-packages/xgboost/sklearn.py:889: UserWarning: `eval_metric` in `fit` method is deprecated for better compatibility with scikit-learn, use `eval_metric` in constructor or`set_params` instead.\n",
            "  warnings.warn(\n",
            "\n",
            "/usr/local/lib/python3.10/dist-packages/xgboost/sklearn.py:889: UserWarning: `early_stopping_rounds` in `fit` method is deprecated for better compatibility with scikit-learn, use `early_stopping_rounds` in constructor or`set_params` instead.\n",
            "  warnings.warn(\n",
            "\n"
          ]
        },
        {
          "output_type": "stream",
          "name": "stdout",
          "text": [
            "SCORE:\n",
            "1.0\n",
            "  4%|▍         | 4/100 [00:14<05:23,  3.37s/trial, best loss: -1.0]"
          ]
        },
        {
          "output_type": "stream",
          "name": "stderr",
          "text": [
            "/usr/local/lib/python3.10/dist-packages/xgboost/sklearn.py:889: UserWarning: `eval_metric` in `fit` method is deprecated for better compatibility with scikit-learn, use `eval_metric` in constructor or`set_params` instead.\n",
            "  warnings.warn(\n",
            "\n",
            "/usr/local/lib/python3.10/dist-packages/xgboost/sklearn.py:889: UserWarning: `early_stopping_rounds` in `fit` method is deprecated for better compatibility with scikit-learn, use `early_stopping_rounds` in constructor or`set_params` instead.\n",
            "  warnings.warn(\n",
            "\n"
          ]
        },
        {
          "output_type": "stream",
          "name": "stdout",
          "text": [
            "SCORE:\n",
            "1.0\n",
            "  5%|▌         | 5/100 [00:19<06:47,  4.29s/trial, best loss: -1.0]"
          ]
        },
        {
          "output_type": "stream",
          "name": "stderr",
          "text": [
            "/usr/local/lib/python3.10/dist-packages/xgboost/sklearn.py:889: UserWarning: `eval_metric` in `fit` method is deprecated for better compatibility with scikit-learn, use `eval_metric` in constructor or`set_params` instead.\n",
            "  warnings.warn(\n",
            "\n",
            "/usr/local/lib/python3.10/dist-packages/xgboost/sklearn.py:889: UserWarning: `early_stopping_rounds` in `fit` method is deprecated for better compatibility with scikit-learn, use `early_stopping_rounds` in constructor or`set_params` instead.\n",
            "  warnings.warn(\n",
            "\n"
          ]
        },
        {
          "output_type": "stream",
          "name": "stdout",
          "text": [
            "SCORE:\n",
            "1.0\n",
            "  6%|▌         | 6/100 [00:24<07:05,  4.52s/trial, best loss: -1.0]"
          ]
        },
        {
          "output_type": "stream",
          "name": "stderr",
          "text": [
            "/usr/local/lib/python3.10/dist-packages/xgboost/sklearn.py:889: UserWarning: `eval_metric` in `fit` method is deprecated for better compatibility with scikit-learn, use `eval_metric` in constructor or`set_params` instead.\n",
            "  warnings.warn(\n",
            "\n",
            "/usr/local/lib/python3.10/dist-packages/xgboost/sklearn.py:889: UserWarning: `early_stopping_rounds` in `fit` method is deprecated for better compatibility with scikit-learn, use `early_stopping_rounds` in constructor or`set_params` instead.\n",
            "  warnings.warn(\n",
            "\n"
          ]
        },
        {
          "output_type": "stream",
          "name": "stdout",
          "text": [
            "SCORE:\n",
            "1.0\n",
            "  7%|▋         | 7/100 [00:27<05:47,  3.73s/trial, best loss: -1.0]"
          ]
        },
        {
          "output_type": "stream",
          "name": "stderr",
          "text": [
            "/usr/local/lib/python3.10/dist-packages/xgboost/sklearn.py:889: UserWarning: `eval_metric` in `fit` method is deprecated for better compatibility with scikit-learn, use `eval_metric` in constructor or`set_params` instead.\n",
            "  warnings.warn(\n",
            "\n",
            "/usr/local/lib/python3.10/dist-packages/xgboost/sklearn.py:889: UserWarning: `early_stopping_rounds` in `fit` method is deprecated for better compatibility with scikit-learn, use `early_stopping_rounds` in constructor or`set_params` instead.\n",
            "  warnings.warn(\n",
            "\n"
          ]
        },
        {
          "output_type": "stream",
          "name": "stdout",
          "text": [
            "SCORE:\n",
            "1.0\n",
            "  8%|▊         | 8/100 [00:30<05:24,  3.53s/trial, best loss: -1.0]"
          ]
        },
        {
          "output_type": "stream",
          "name": "stderr",
          "text": [
            "/usr/local/lib/python3.10/dist-packages/xgboost/sklearn.py:889: UserWarning: `eval_metric` in `fit` method is deprecated for better compatibility with scikit-learn, use `eval_metric` in constructor or`set_params` instead.\n",
            "  warnings.warn(\n",
            "\n",
            "/usr/local/lib/python3.10/dist-packages/xgboost/sklearn.py:889: UserWarning: `early_stopping_rounds` in `fit` method is deprecated for better compatibility with scikit-learn, use `early_stopping_rounds` in constructor or`set_params` instead.\n",
            "  warnings.warn(\n",
            "\n"
          ]
        },
        {
          "output_type": "stream",
          "name": "stdout",
          "text": [
            "SCORE:\n",
            "1.0\n",
            "  9%|▉         | 9/100 [00:35<06:27,  4.26s/trial, best loss: -1.0]"
          ]
        },
        {
          "output_type": "stream",
          "name": "stderr",
          "text": [
            "/usr/local/lib/python3.10/dist-packages/xgboost/sklearn.py:889: UserWarning: `eval_metric` in `fit` method is deprecated for better compatibility with scikit-learn, use `eval_metric` in constructor or`set_params` instead.\n",
            "  warnings.warn(\n",
            "\n",
            "/usr/local/lib/python3.10/dist-packages/xgboost/sklearn.py:889: UserWarning: `early_stopping_rounds` in `fit` method is deprecated for better compatibility with scikit-learn, use `early_stopping_rounds` in constructor or`set_params` instead.\n",
            "  warnings.warn(\n",
            "\n"
          ]
        },
        {
          "output_type": "stream",
          "name": "stdout",
          "text": [
            "SCORE:\n",
            "1.0\n",
            " 10%|█         | 10/100 [00:41<06:51,  4.57s/trial, best loss: -1.0]"
          ]
        },
        {
          "output_type": "stream",
          "name": "stderr",
          "text": [
            "/usr/local/lib/python3.10/dist-packages/xgboost/sklearn.py:889: UserWarning: `eval_metric` in `fit` method is deprecated for better compatibility with scikit-learn, use `eval_metric` in constructor or`set_params` instead.\n",
            "  warnings.warn(\n",
            "\n",
            "/usr/local/lib/python3.10/dist-packages/xgboost/sklearn.py:889: UserWarning: `early_stopping_rounds` in `fit` method is deprecated for better compatibility with scikit-learn, use `early_stopping_rounds` in constructor or`set_params` instead.\n",
            "  warnings.warn(\n",
            "\n"
          ]
        },
        {
          "output_type": "stream",
          "name": "stdout",
          "text": [
            "SCORE:\n",
            "1.0\n",
            " 11%|█         | 11/100 [00:42<05:26,  3.67s/trial, best loss: -1.0]"
          ]
        },
        {
          "output_type": "stream",
          "name": "stderr",
          "text": [
            "/usr/local/lib/python3.10/dist-packages/xgboost/sklearn.py:889: UserWarning: `eval_metric` in `fit` method is deprecated for better compatibility with scikit-learn, use `eval_metric` in constructor or`set_params` instead.\n",
            "  warnings.warn(\n",
            "\n",
            "/usr/local/lib/python3.10/dist-packages/xgboost/sklearn.py:889: UserWarning: `early_stopping_rounds` in `fit` method is deprecated for better compatibility with scikit-learn, use `early_stopping_rounds` in constructor or`set_params` instead.\n",
            "  warnings.warn(\n",
            "\n"
          ]
        },
        {
          "output_type": "stream",
          "name": "stdout",
          "text": [
            "SCORE:\n",
            "1.0\n",
            " 12%|█▏        | 12/100 [00:44<04:30,  3.07s/trial, best loss: -1.0]"
          ]
        },
        {
          "output_type": "stream",
          "name": "stderr",
          "text": [
            "/usr/local/lib/python3.10/dist-packages/xgboost/sklearn.py:889: UserWarning: `eval_metric` in `fit` method is deprecated for better compatibility with scikit-learn, use `eval_metric` in constructor or`set_params` instead.\n",
            "  warnings.warn(\n",
            "\n",
            "/usr/local/lib/python3.10/dist-packages/xgboost/sklearn.py:889: UserWarning: `early_stopping_rounds` in `fit` method is deprecated for better compatibility with scikit-learn, use `early_stopping_rounds` in constructor or`set_params` instead.\n",
            "  warnings.warn(\n",
            "\n"
          ]
        },
        {
          "output_type": "stream",
          "name": "stdout",
          "text": [
            "SCORE:\n",
            "1.0\n",
            " 13%|█▎        | 13/100 [00:46<03:51,  2.66s/trial, best loss: -1.0]"
          ]
        },
        {
          "output_type": "stream",
          "name": "stderr",
          "text": [
            "/usr/local/lib/python3.10/dist-packages/xgboost/sklearn.py:889: UserWarning: `eval_metric` in `fit` method is deprecated for better compatibility with scikit-learn, use `eval_metric` in constructor or`set_params` instead.\n",
            "  warnings.warn(\n",
            "\n",
            "/usr/local/lib/python3.10/dist-packages/xgboost/sklearn.py:889: UserWarning: `early_stopping_rounds` in `fit` method is deprecated for better compatibility with scikit-learn, use `early_stopping_rounds` in constructor or`set_params` instead.\n",
            "  warnings.warn(\n",
            "\n"
          ]
        },
        {
          "output_type": "stream",
          "name": "stdout",
          "text": [
            "SCORE:\n",
            "1.0\n",
            " 14%|█▍        | 14/100 [00:50<04:22,  3.05s/trial, best loss: -1.0]"
          ]
        },
        {
          "output_type": "stream",
          "name": "stderr",
          "text": [
            "/usr/local/lib/python3.10/dist-packages/xgboost/sklearn.py:889: UserWarning: `eval_metric` in `fit` method is deprecated for better compatibility with scikit-learn, use `eval_metric` in constructor or`set_params` instead.\n",
            "  warnings.warn(\n",
            "\n",
            "/usr/local/lib/python3.10/dist-packages/xgboost/sklearn.py:889: UserWarning: `early_stopping_rounds` in `fit` method is deprecated for better compatibility with scikit-learn, use `early_stopping_rounds` in constructor or`set_params` instead.\n",
            "  warnings.warn(\n",
            "\n"
          ]
        },
        {
          "output_type": "stream",
          "name": "stdout",
          "text": [
            "SCORE:\n",
            "1.0\n",
            " 15%|█▌        | 15/100 [00:53<04:15,  3.01s/trial, best loss: -1.0]"
          ]
        },
        {
          "output_type": "stream",
          "name": "stderr",
          "text": [
            "/usr/local/lib/python3.10/dist-packages/xgboost/sklearn.py:889: UserWarning: `eval_metric` in `fit` method is deprecated for better compatibility with scikit-learn, use `eval_metric` in constructor or`set_params` instead.\n",
            "  warnings.warn(\n",
            "\n",
            "/usr/local/lib/python3.10/dist-packages/xgboost/sklearn.py:889: UserWarning: `early_stopping_rounds` in `fit` method is deprecated for better compatibility with scikit-learn, use `early_stopping_rounds` in constructor or`set_params` instead.\n",
            "  warnings.warn(\n",
            "\n"
          ]
        },
        {
          "output_type": "stream",
          "name": "stdout",
          "text": [
            "SCORE:\n",
            "1.0\n",
            " 16%|█▌        | 16/100 [00:56<04:12,  3.01s/trial, best loss: -1.0]"
          ]
        },
        {
          "output_type": "stream",
          "name": "stderr",
          "text": [
            "/usr/local/lib/python3.10/dist-packages/xgboost/sklearn.py:889: UserWarning: `eval_metric` in `fit` method is deprecated for better compatibility with scikit-learn, use `eval_metric` in constructor or`set_params` instead.\n",
            "  warnings.warn(\n",
            "\n",
            "/usr/local/lib/python3.10/dist-packages/xgboost/sklearn.py:889: UserWarning: `early_stopping_rounds` in `fit` method is deprecated for better compatibility with scikit-learn, use `early_stopping_rounds` in constructor or`set_params` instead.\n",
            "  warnings.warn(\n",
            "\n"
          ]
        },
        {
          "output_type": "stream",
          "name": "stdout",
          "text": [
            "SCORE:\n",
            "1.0\n",
            " 17%|█▋        | 17/100 [00:58<03:51,  2.79s/trial, best loss: -1.0]"
          ]
        },
        {
          "output_type": "stream",
          "name": "stderr",
          "text": [
            "/usr/local/lib/python3.10/dist-packages/xgboost/sklearn.py:889: UserWarning: `eval_metric` in `fit` method is deprecated for better compatibility with scikit-learn, use `eval_metric` in constructor or`set_params` instead.\n",
            "  warnings.warn(\n",
            "\n",
            "/usr/local/lib/python3.10/dist-packages/xgboost/sklearn.py:889: UserWarning: `early_stopping_rounds` in `fit` method is deprecated for better compatibility with scikit-learn, use `early_stopping_rounds` in constructor or`set_params` instead.\n",
            "  warnings.warn(\n",
            "\n"
          ]
        },
        {
          "output_type": "stream",
          "name": "stdout",
          "text": [
            "SCORE:\n",
            "1.0\n",
            " 18%|█▊        | 18/100 [01:03<04:56,  3.61s/trial, best loss: -1.0]"
          ]
        },
        {
          "output_type": "stream",
          "name": "stderr",
          "text": [
            "/usr/local/lib/python3.10/dist-packages/xgboost/sklearn.py:889: UserWarning: `eval_metric` in `fit` method is deprecated for better compatibility with scikit-learn, use `eval_metric` in constructor or`set_params` instead.\n",
            "  warnings.warn(\n",
            "\n",
            "/usr/local/lib/python3.10/dist-packages/xgboost/sklearn.py:889: UserWarning: `early_stopping_rounds` in `fit` method is deprecated for better compatibility with scikit-learn, use `early_stopping_rounds` in constructor or`set_params` instead.\n",
            "  warnings.warn(\n",
            "\n"
          ]
        },
        {
          "output_type": "stream",
          "name": "stdout",
          "text": [
            "SCORE:\n",
            "1.0\n",
            " 19%|█▉        | 19/100 [01:08<05:14,  3.88s/trial, best loss: -1.0]"
          ]
        },
        {
          "output_type": "stream",
          "name": "stderr",
          "text": [
            "/usr/local/lib/python3.10/dist-packages/xgboost/sklearn.py:889: UserWarning: `eval_metric` in `fit` method is deprecated for better compatibility with scikit-learn, use `eval_metric` in constructor or`set_params` instead.\n",
            "  warnings.warn(\n",
            "\n",
            "/usr/local/lib/python3.10/dist-packages/xgboost/sklearn.py:889: UserWarning: `early_stopping_rounds` in `fit` method is deprecated for better compatibility with scikit-learn, use `early_stopping_rounds` in constructor or`set_params` instead.\n",
            "  warnings.warn(\n",
            "\n"
          ]
        },
        {
          "output_type": "stream",
          "name": "stdout",
          "text": [
            "SCORE:\n",
            "1.0\n",
            " 20%|██        | 20/100 [01:10<04:26,  3.33s/trial, best loss: -1.0]"
          ]
        },
        {
          "output_type": "stream",
          "name": "stderr",
          "text": [
            "/usr/local/lib/python3.10/dist-packages/xgboost/sklearn.py:889: UserWarning: `eval_metric` in `fit` method is deprecated for better compatibility with scikit-learn, use `eval_metric` in constructor or`set_params` instead.\n",
            "  warnings.warn(\n",
            "\n",
            "/usr/local/lib/python3.10/dist-packages/xgboost/sklearn.py:889: UserWarning: `early_stopping_rounds` in `fit` method is deprecated for better compatibility with scikit-learn, use `early_stopping_rounds` in constructor or`set_params` instead.\n",
            "  warnings.warn(\n",
            "\n"
          ]
        },
        {
          "output_type": "stream",
          "name": "stdout",
          "text": [
            "SCORE:\n",
            "1.0\n",
            " 21%|██        | 21/100 [01:12<03:43,  2.83s/trial, best loss: -1.0]"
          ]
        },
        {
          "output_type": "stream",
          "name": "stderr",
          "text": [
            "/usr/local/lib/python3.10/dist-packages/xgboost/sklearn.py:889: UserWarning: `eval_metric` in `fit` method is deprecated for better compatibility with scikit-learn, use `eval_metric` in constructor or`set_params` instead.\n",
            "  warnings.warn(\n",
            "\n",
            "/usr/local/lib/python3.10/dist-packages/xgboost/sklearn.py:889: UserWarning: `early_stopping_rounds` in `fit` method is deprecated for better compatibility with scikit-learn, use `early_stopping_rounds` in constructor or`set_params` instead.\n",
            "  warnings.warn(\n",
            "\n"
          ]
        },
        {
          "output_type": "stream",
          "name": "stdout",
          "text": [
            "SCORE:\n",
            "1.0\n",
            " 22%|██▏       | 22/100 [01:14<03:30,  2.69s/trial, best loss: -1.0]"
          ]
        },
        {
          "output_type": "stream",
          "name": "stderr",
          "text": [
            "/usr/local/lib/python3.10/dist-packages/xgboost/sklearn.py:889: UserWarning: `eval_metric` in `fit` method is deprecated for better compatibility with scikit-learn, use `eval_metric` in constructor or`set_params` instead.\n",
            "  warnings.warn(\n",
            "\n",
            "/usr/local/lib/python3.10/dist-packages/xgboost/sklearn.py:889: UserWarning: `early_stopping_rounds` in `fit` method is deprecated for better compatibility with scikit-learn, use `early_stopping_rounds` in constructor or`set_params` instead.\n",
            "  warnings.warn(\n",
            "\n"
          ]
        },
        {
          "output_type": "stream",
          "name": "stdout",
          "text": [
            "SCORE:\n",
            "1.0\n",
            " 23%|██▎       | 23/100 [01:17<03:23,  2.65s/trial, best loss: -1.0]"
          ]
        },
        {
          "output_type": "stream",
          "name": "stderr",
          "text": [
            "/usr/local/lib/python3.10/dist-packages/xgboost/sklearn.py:889: UserWarning: `eval_metric` in `fit` method is deprecated for better compatibility with scikit-learn, use `eval_metric` in constructor or`set_params` instead.\n",
            "  warnings.warn(\n",
            "\n",
            "/usr/local/lib/python3.10/dist-packages/xgboost/sklearn.py:889: UserWarning: `early_stopping_rounds` in `fit` method is deprecated for better compatibility with scikit-learn, use `early_stopping_rounds` in constructor or`set_params` instead.\n",
            "  warnings.warn(\n",
            "\n"
          ]
        },
        {
          "output_type": "stream",
          "name": "stdout",
          "text": [
            "SCORE:\n",
            "1.0\n",
            " 24%|██▍       | 24/100 [01:19<03:17,  2.59s/trial, best loss: -1.0]"
          ]
        },
        {
          "output_type": "stream",
          "name": "stderr",
          "text": [
            "/usr/local/lib/python3.10/dist-packages/xgboost/sklearn.py:889: UserWarning: `eval_metric` in `fit` method is deprecated for better compatibility with scikit-learn, use `eval_metric` in constructor or`set_params` instead.\n",
            "  warnings.warn(\n",
            "\n",
            "/usr/local/lib/python3.10/dist-packages/xgboost/sklearn.py:889: UserWarning: `early_stopping_rounds` in `fit` method is deprecated for better compatibility with scikit-learn, use `early_stopping_rounds` in constructor or`set_params` instead.\n",
            "  warnings.warn(\n",
            "\n"
          ]
        },
        {
          "output_type": "stream",
          "name": "stdout",
          "text": [
            "SCORE:\n",
            "1.0\n",
            " 25%|██▌       | 25/100 [01:21<02:53,  2.32s/trial, best loss: -1.0]"
          ]
        },
        {
          "output_type": "stream",
          "name": "stderr",
          "text": [
            "/usr/local/lib/python3.10/dist-packages/xgboost/sklearn.py:889: UserWarning: `eval_metric` in `fit` method is deprecated for better compatibility with scikit-learn, use `eval_metric` in constructor or`set_params` instead.\n",
            "  warnings.warn(\n",
            "\n",
            "/usr/local/lib/python3.10/dist-packages/xgboost/sklearn.py:889: UserWarning: `early_stopping_rounds` in `fit` method is deprecated for better compatibility with scikit-learn, use `early_stopping_rounds` in constructor or`set_params` instead.\n",
            "  warnings.warn(\n",
            "\n"
          ]
        },
        {
          "output_type": "stream",
          "name": "stdout",
          "text": [
            "SCORE:\n",
            "1.0\n",
            " 26%|██▌       | 26/100 [01:23<02:39,  2.15s/trial, best loss: -1.0]"
          ]
        },
        {
          "output_type": "stream",
          "name": "stderr",
          "text": [
            "/usr/local/lib/python3.10/dist-packages/xgboost/sklearn.py:889: UserWarning: `eval_metric` in `fit` method is deprecated for better compatibility with scikit-learn, use `eval_metric` in constructor or`set_params` instead.\n",
            "  warnings.warn(\n",
            "\n",
            "/usr/local/lib/python3.10/dist-packages/xgboost/sklearn.py:889: UserWarning: `early_stopping_rounds` in `fit` method is deprecated for better compatibility with scikit-learn, use `early_stopping_rounds` in constructor or`set_params` instead.\n",
            "  warnings.warn(\n",
            "\n"
          ]
        },
        {
          "output_type": "stream",
          "name": "stdout",
          "text": [
            "SCORE:\n",
            "1.0\n",
            " 27%|██▋       | 27/100 [01:24<02:29,  2.05s/trial, best loss: -1.0]"
          ]
        },
        {
          "output_type": "stream",
          "name": "stderr",
          "text": [
            "/usr/local/lib/python3.10/dist-packages/xgboost/sklearn.py:889: UserWarning: `eval_metric` in `fit` method is deprecated for better compatibility with scikit-learn, use `eval_metric` in constructor or`set_params` instead.\n",
            "  warnings.warn(\n",
            "\n",
            "/usr/local/lib/python3.10/dist-packages/xgboost/sklearn.py:889: UserWarning: `early_stopping_rounds` in `fit` method is deprecated for better compatibility with scikit-learn, use `early_stopping_rounds` in constructor or`set_params` instead.\n",
            "  warnings.warn(\n",
            "\n"
          ]
        },
        {
          "output_type": "stream",
          "name": "stdout",
          "text": [
            "SCORE:\n",
            "1.0\n",
            " 28%|██▊       | 28/100 [01:26<02:19,  1.94s/trial, best loss: -1.0]"
          ]
        },
        {
          "output_type": "stream",
          "name": "stderr",
          "text": [
            "/usr/local/lib/python3.10/dist-packages/xgboost/sklearn.py:889: UserWarning: `eval_metric` in `fit` method is deprecated for better compatibility with scikit-learn, use `eval_metric` in constructor or`set_params` instead.\n",
            "  warnings.warn(\n",
            "\n",
            "/usr/local/lib/python3.10/dist-packages/xgboost/sklearn.py:889: UserWarning: `early_stopping_rounds` in `fit` method is deprecated for better compatibility with scikit-learn, use `early_stopping_rounds` in constructor or`set_params` instead.\n",
            "  warnings.warn(\n",
            "\n"
          ]
        },
        {
          "output_type": "stream",
          "name": "stdout",
          "text": [
            "SCORE:\n",
            "1.0\n",
            " 29%|██▉       | 29/100 [01:30<02:55,  2.47s/trial, best loss: -1.0]"
          ]
        },
        {
          "output_type": "stream",
          "name": "stderr",
          "text": [
            "/usr/local/lib/python3.10/dist-packages/xgboost/sklearn.py:889: UserWarning: `eval_metric` in `fit` method is deprecated for better compatibility with scikit-learn, use `eval_metric` in constructor or`set_params` instead.\n",
            "  warnings.warn(\n",
            "\n",
            "/usr/local/lib/python3.10/dist-packages/xgboost/sklearn.py:889: UserWarning: `early_stopping_rounds` in `fit` method is deprecated for better compatibility with scikit-learn, use `early_stopping_rounds` in constructor or`set_params` instead.\n",
            "  warnings.warn(\n",
            "\n"
          ]
        },
        {
          "output_type": "stream",
          "name": "stdout",
          "text": [
            "SCORE:\n",
            "1.0\n",
            " 30%|███       | 30/100 [01:31<02:36,  2.23s/trial, best loss: -1.0]"
          ]
        },
        {
          "output_type": "stream",
          "name": "stderr",
          "text": [
            "/usr/local/lib/python3.10/dist-packages/xgboost/sklearn.py:889: UserWarning: `eval_metric` in `fit` method is deprecated for better compatibility with scikit-learn, use `eval_metric` in constructor or`set_params` instead.\n",
            "  warnings.warn(\n",
            "\n",
            "/usr/local/lib/python3.10/dist-packages/xgboost/sklearn.py:889: UserWarning: `early_stopping_rounds` in `fit` method is deprecated for better compatibility with scikit-learn, use `early_stopping_rounds` in constructor or`set_params` instead.\n",
            "  warnings.warn(\n",
            "\n"
          ]
        },
        {
          "output_type": "stream",
          "name": "stdout",
          "text": [
            "SCORE:\n",
            "1.0\n",
            " 31%|███       | 31/100 [01:33<02:22,  2.07s/trial, best loss: -1.0]"
          ]
        },
        {
          "output_type": "stream",
          "name": "stderr",
          "text": [
            "/usr/local/lib/python3.10/dist-packages/xgboost/sklearn.py:889: UserWarning: `eval_metric` in `fit` method is deprecated for better compatibility with scikit-learn, use `eval_metric` in constructor or`set_params` instead.\n",
            "  warnings.warn(\n",
            "\n",
            "/usr/local/lib/python3.10/dist-packages/xgboost/sklearn.py:889: UserWarning: `early_stopping_rounds` in `fit` method is deprecated for better compatibility with scikit-learn, use `early_stopping_rounds` in constructor or`set_params` instead.\n",
            "  warnings.warn(\n",
            "\n"
          ]
        },
        {
          "output_type": "stream",
          "name": "stdout",
          "text": [
            "SCORE:\n",
            "1.0\n",
            " 32%|███▏      | 32/100 [01:35<02:11,  1.94s/trial, best loss: -1.0]"
          ]
        },
        {
          "output_type": "stream",
          "name": "stderr",
          "text": [
            "/usr/local/lib/python3.10/dist-packages/xgboost/sklearn.py:889: UserWarning: `eval_metric` in `fit` method is deprecated for better compatibility with scikit-learn, use `eval_metric` in constructor or`set_params` instead.\n",
            "  warnings.warn(\n",
            "\n",
            "/usr/local/lib/python3.10/dist-packages/xgboost/sklearn.py:889: UserWarning: `early_stopping_rounds` in `fit` method is deprecated for better compatibility with scikit-learn, use `early_stopping_rounds` in constructor or`set_params` instead.\n",
            "  warnings.warn(\n",
            "\n"
          ]
        },
        {
          "output_type": "stream",
          "name": "stdout",
          "text": [
            "SCORE:\n",
            "1.0\n",
            " 33%|███▎      | 33/100 [01:36<02:04,  1.87s/trial, best loss: -1.0]"
          ]
        },
        {
          "output_type": "stream",
          "name": "stderr",
          "text": [
            "/usr/local/lib/python3.10/dist-packages/xgboost/sklearn.py:889: UserWarning: `eval_metric` in `fit` method is deprecated for better compatibility with scikit-learn, use `eval_metric` in constructor or`set_params` instead.\n",
            "  warnings.warn(\n",
            "\n",
            "/usr/local/lib/python3.10/dist-packages/xgboost/sklearn.py:889: UserWarning: `early_stopping_rounds` in `fit` method is deprecated for better compatibility with scikit-learn, use `early_stopping_rounds` in constructor or`set_params` instead.\n",
            "  warnings.warn(\n",
            "\n"
          ]
        },
        {
          "output_type": "stream",
          "name": "stdout",
          "text": [
            "SCORE:\n",
            "1.0\n",
            " 34%|███▍      | 34/100 [01:38<02:01,  1.83s/trial, best loss: -1.0]"
          ]
        },
        {
          "output_type": "stream",
          "name": "stderr",
          "text": [
            "/usr/local/lib/python3.10/dist-packages/xgboost/sklearn.py:889: UserWarning: `eval_metric` in `fit` method is deprecated for better compatibility with scikit-learn, use `eval_metric` in constructor or`set_params` instead.\n",
            "  warnings.warn(\n",
            "\n",
            "/usr/local/lib/python3.10/dist-packages/xgboost/sklearn.py:889: UserWarning: `early_stopping_rounds` in `fit` method is deprecated for better compatibility with scikit-learn, use `early_stopping_rounds` in constructor or`set_params` instead.\n",
            "  warnings.warn(\n",
            "\n"
          ]
        },
        {
          "output_type": "stream",
          "name": "stdout",
          "text": [
            "SCORE:\n",
            "1.0\n",
            " 35%|███▌      | 35/100 [01:42<02:28,  2.29s/trial, best loss: -1.0]"
          ]
        },
        {
          "output_type": "stream",
          "name": "stderr",
          "text": [
            "/usr/local/lib/python3.10/dist-packages/xgboost/sklearn.py:889: UserWarning: `eval_metric` in `fit` method is deprecated for better compatibility with scikit-learn, use `eval_metric` in constructor or`set_params` instead.\n",
            "  warnings.warn(\n",
            "\n",
            "/usr/local/lib/python3.10/dist-packages/xgboost/sklearn.py:889: UserWarning: `early_stopping_rounds` in `fit` method is deprecated for better compatibility with scikit-learn, use `early_stopping_rounds` in constructor or`set_params` instead.\n",
            "  warnings.warn(\n",
            "\n"
          ]
        },
        {
          "output_type": "stream",
          "name": "stdout",
          "text": [
            "SCORE:\n",
            "1.0\n",
            " 36%|███▌      | 36/100 [01:44<02:20,  2.20s/trial, best loss: -1.0]"
          ]
        },
        {
          "output_type": "stream",
          "name": "stderr",
          "text": [
            "/usr/local/lib/python3.10/dist-packages/xgboost/sklearn.py:889: UserWarning: `eval_metric` in `fit` method is deprecated for better compatibility with scikit-learn, use `eval_metric` in constructor or`set_params` instead.\n",
            "  warnings.warn(\n",
            "\n",
            "/usr/local/lib/python3.10/dist-packages/xgboost/sklearn.py:889: UserWarning: `early_stopping_rounds` in `fit` method is deprecated for better compatibility with scikit-learn, use `early_stopping_rounds` in constructor or`set_params` instead.\n",
            "  warnings.warn(\n",
            "\n"
          ]
        },
        {
          "output_type": "stream",
          "name": "stdout",
          "text": [
            "SCORE:\n",
            "1.0\n",
            " 37%|███▋      | 37/100 [01:45<02:09,  2.06s/trial, best loss: -1.0]"
          ]
        },
        {
          "output_type": "stream",
          "name": "stderr",
          "text": [
            "/usr/local/lib/python3.10/dist-packages/xgboost/sklearn.py:889: UserWarning: `eval_metric` in `fit` method is deprecated for better compatibility with scikit-learn, use `eval_metric` in constructor or`set_params` instead.\n",
            "  warnings.warn(\n",
            "\n",
            "/usr/local/lib/python3.10/dist-packages/xgboost/sklearn.py:889: UserWarning: `early_stopping_rounds` in `fit` method is deprecated for better compatibility with scikit-learn, use `early_stopping_rounds` in constructor or`set_params` instead.\n",
            "  warnings.warn(\n",
            "\n"
          ]
        },
        {
          "output_type": "stream",
          "name": "stdout",
          "text": [
            "SCORE:\n",
            "1.0\n",
            " 38%|███▊      | 38/100 [01:47<02:01,  1.96s/trial, best loss: -1.0]"
          ]
        },
        {
          "output_type": "stream",
          "name": "stderr",
          "text": [
            "/usr/local/lib/python3.10/dist-packages/xgboost/sklearn.py:889: UserWarning: `eval_metric` in `fit` method is deprecated for better compatibility with scikit-learn, use `eval_metric` in constructor or`set_params` instead.\n",
            "  warnings.warn(\n",
            "\n",
            "/usr/local/lib/python3.10/dist-packages/xgboost/sklearn.py:889: UserWarning: `early_stopping_rounds` in `fit` method is deprecated for better compatibility with scikit-learn, use `early_stopping_rounds` in constructor or`set_params` instead.\n",
            "  warnings.warn(\n",
            "\n"
          ]
        },
        {
          "output_type": "stream",
          "name": "stdout",
          "text": [
            "SCORE:\n",
            "1.0\n",
            " 39%|███▉      | 39/100 [01:49<01:54,  1.88s/trial, best loss: -1.0]"
          ]
        },
        {
          "output_type": "stream",
          "name": "stderr",
          "text": [
            "/usr/local/lib/python3.10/dist-packages/xgboost/sklearn.py:889: UserWarning: `eval_metric` in `fit` method is deprecated for better compatibility with scikit-learn, use `eval_metric` in constructor or`set_params` instead.\n",
            "  warnings.warn(\n",
            "\n",
            "/usr/local/lib/python3.10/dist-packages/xgboost/sklearn.py:889: UserWarning: `early_stopping_rounds` in `fit` method is deprecated for better compatibility with scikit-learn, use `early_stopping_rounds` in constructor or`set_params` instead.\n",
            "  warnings.warn(\n",
            "\n"
          ]
        },
        {
          "output_type": "stream",
          "name": "stdout",
          "text": [
            "SCORE:\n",
            "1.0\n",
            " 40%|████      | 40/100 [01:50<01:48,  1.81s/trial, best loss: -1.0]"
          ]
        },
        {
          "output_type": "stream",
          "name": "stderr",
          "text": [
            "/usr/local/lib/python3.10/dist-packages/xgboost/sklearn.py:889: UserWarning: `eval_metric` in `fit` method is deprecated for better compatibility with scikit-learn, use `eval_metric` in constructor or`set_params` instead.\n",
            "  warnings.warn(\n",
            "\n",
            "/usr/local/lib/python3.10/dist-packages/xgboost/sklearn.py:889: UserWarning: `early_stopping_rounds` in `fit` method is deprecated for better compatibility with scikit-learn, use `early_stopping_rounds` in constructor or`set_params` instead.\n",
            "  warnings.warn(\n",
            "\n"
          ]
        },
        {
          "output_type": "stream",
          "name": "stdout",
          "text": [
            "SCORE:\n",
            "1.0\n",
            " 41%|████      | 41/100 [01:52<01:43,  1.76s/trial, best loss: -1.0]"
          ]
        },
        {
          "output_type": "stream",
          "name": "stderr",
          "text": [
            "/usr/local/lib/python3.10/dist-packages/xgboost/sklearn.py:889: UserWarning: `eval_metric` in `fit` method is deprecated for better compatibility with scikit-learn, use `eval_metric` in constructor or`set_params` instead.\n",
            "  warnings.warn(\n",
            "\n",
            "/usr/local/lib/python3.10/dist-packages/xgboost/sklearn.py:889: UserWarning: `early_stopping_rounds` in `fit` method is deprecated for better compatibility with scikit-learn, use `early_stopping_rounds` in constructor or`set_params` instead.\n",
            "  warnings.warn(\n",
            "\n"
          ]
        },
        {
          "output_type": "stream",
          "name": "stdout",
          "text": [
            "SCORE:\n",
            "1.0\n",
            " 42%|████▏     | 42/100 [01:56<02:14,  2.32s/trial, best loss: -1.0]"
          ]
        },
        {
          "output_type": "stream",
          "name": "stderr",
          "text": [
            "/usr/local/lib/python3.10/dist-packages/xgboost/sklearn.py:889: UserWarning: `eval_metric` in `fit` method is deprecated for better compatibility with scikit-learn, use `eval_metric` in constructor or`set_params` instead.\n",
            "  warnings.warn(\n",
            "\n",
            "/usr/local/lib/python3.10/dist-packages/xgboost/sklearn.py:889: UserWarning: `early_stopping_rounds` in `fit` method is deprecated for better compatibility with scikit-learn, use `early_stopping_rounds` in constructor or`set_params` instead.\n",
            "  warnings.warn(\n",
            "\n"
          ]
        },
        {
          "output_type": "stream",
          "name": "stdout",
          "text": [
            "SCORE:\n",
            "1.0\n",
            " 43%|████▎     | 43/100 [01:57<02:02,  2.14s/trial, best loss: -1.0]"
          ]
        },
        {
          "output_type": "stream",
          "name": "stderr",
          "text": [
            "/usr/local/lib/python3.10/dist-packages/xgboost/sklearn.py:889: UserWarning: `eval_metric` in `fit` method is deprecated for better compatibility with scikit-learn, use `eval_metric` in constructor or`set_params` instead.\n",
            "  warnings.warn(\n",
            "\n",
            "/usr/local/lib/python3.10/dist-packages/xgboost/sklearn.py:889: UserWarning: `early_stopping_rounds` in `fit` method is deprecated for better compatibility with scikit-learn, use `early_stopping_rounds` in constructor or`set_params` instead.\n",
            "  warnings.warn(\n",
            "\n"
          ]
        },
        {
          "output_type": "stream",
          "name": "stdout",
          "text": [
            "SCORE:\n",
            "1.0\n",
            " 44%|████▍     | 44/100 [01:59<01:54,  2.04s/trial, best loss: -1.0]"
          ]
        },
        {
          "output_type": "stream",
          "name": "stderr",
          "text": [
            "/usr/local/lib/python3.10/dist-packages/xgboost/sklearn.py:889: UserWarning: `eval_metric` in `fit` method is deprecated for better compatibility with scikit-learn, use `eval_metric` in constructor or`set_params` instead.\n",
            "  warnings.warn(\n",
            "\n",
            "/usr/local/lib/python3.10/dist-packages/xgboost/sklearn.py:889: UserWarning: `early_stopping_rounds` in `fit` method is deprecated for better compatibility with scikit-learn, use `early_stopping_rounds` in constructor or`set_params` instead.\n",
            "  warnings.warn(\n",
            "\n"
          ]
        },
        {
          "output_type": "stream",
          "name": "stdout",
          "text": [
            "SCORE:\n",
            "1.0\n",
            " 45%|████▌     | 45/100 [02:01<01:46,  1.94s/trial, best loss: -1.0]"
          ]
        },
        {
          "output_type": "stream",
          "name": "stderr",
          "text": [
            "/usr/local/lib/python3.10/dist-packages/xgboost/sklearn.py:889: UserWarning: `eval_metric` in `fit` method is deprecated for better compatibility with scikit-learn, use `eval_metric` in constructor or`set_params` instead.\n",
            "  warnings.warn(\n",
            "\n",
            "/usr/local/lib/python3.10/dist-packages/xgboost/sklearn.py:889: UserWarning: `early_stopping_rounds` in `fit` method is deprecated for better compatibility with scikit-learn, use `early_stopping_rounds` in constructor or`set_params` instead.\n",
            "  warnings.warn(\n",
            "\n"
          ]
        },
        {
          "output_type": "stream",
          "name": "stdout",
          "text": [
            "SCORE:\n",
            "1.0\n",
            " 46%|████▌     | 46/100 [02:02<01:39,  1.85s/trial, best loss: -1.0]"
          ]
        },
        {
          "output_type": "stream",
          "name": "stderr",
          "text": [
            "/usr/local/lib/python3.10/dist-packages/xgboost/sklearn.py:889: UserWarning: `eval_metric` in `fit` method is deprecated for better compatibility with scikit-learn, use `eval_metric` in constructor or`set_params` instead.\n",
            "  warnings.warn(\n",
            "\n",
            "/usr/local/lib/python3.10/dist-packages/xgboost/sklearn.py:889: UserWarning: `early_stopping_rounds` in `fit` method is deprecated for better compatibility with scikit-learn, use `early_stopping_rounds` in constructor or`set_params` instead.\n",
            "  warnings.warn(\n",
            "\n"
          ]
        },
        {
          "output_type": "stream",
          "name": "stdout",
          "text": [
            "SCORE:\n",
            "1.0\n",
            " 47%|████▋     | 47/100 [02:04<01:35,  1.79s/trial, best loss: -1.0]"
          ]
        },
        {
          "output_type": "stream",
          "name": "stderr",
          "text": [
            "/usr/local/lib/python3.10/dist-packages/xgboost/sklearn.py:889: UserWarning: `eval_metric` in `fit` method is deprecated for better compatibility with scikit-learn, use `eval_metric` in constructor or`set_params` instead.\n",
            "  warnings.warn(\n",
            "\n",
            "/usr/local/lib/python3.10/dist-packages/xgboost/sklearn.py:889: UserWarning: `early_stopping_rounds` in `fit` method is deprecated for better compatibility with scikit-learn, use `early_stopping_rounds` in constructor or`set_params` instead.\n",
            "  warnings.warn(\n",
            "\n"
          ]
        },
        {
          "output_type": "stream",
          "name": "stdout",
          "text": [
            "SCORE:\n",
            "1.0\n",
            " 48%|████▊     | 48/100 [02:07<01:52,  2.16s/trial, best loss: -1.0]"
          ]
        },
        {
          "output_type": "stream",
          "name": "stderr",
          "text": [
            "/usr/local/lib/python3.10/dist-packages/xgboost/sklearn.py:889: UserWarning: `eval_metric` in `fit` method is deprecated for better compatibility with scikit-learn, use `eval_metric` in constructor or`set_params` instead.\n",
            "  warnings.warn(\n",
            "\n",
            "/usr/local/lib/python3.10/dist-packages/xgboost/sklearn.py:889: UserWarning: `early_stopping_rounds` in `fit` method is deprecated for better compatibility with scikit-learn, use `early_stopping_rounds` in constructor or`set_params` instead.\n",
            "  warnings.warn(\n",
            "\n"
          ]
        },
        {
          "output_type": "stream",
          "name": "stdout",
          "text": [
            "SCORE:\n",
            "1.0\n",
            " 49%|████▉     | 49/100 [02:09<01:51,  2.18s/trial, best loss: -1.0]"
          ]
        },
        {
          "output_type": "stream",
          "name": "stderr",
          "text": [
            "/usr/local/lib/python3.10/dist-packages/xgboost/sklearn.py:889: UserWarning: `eval_metric` in `fit` method is deprecated for better compatibility with scikit-learn, use `eval_metric` in constructor or`set_params` instead.\n",
            "  warnings.warn(\n",
            "\n",
            "/usr/local/lib/python3.10/dist-packages/xgboost/sklearn.py:889: UserWarning: `early_stopping_rounds` in `fit` method is deprecated for better compatibility with scikit-learn, use `early_stopping_rounds` in constructor or`set_params` instead.\n",
            "  warnings.warn(\n",
            "\n"
          ]
        },
        {
          "output_type": "stream",
          "name": "stdout",
          "text": [
            "SCORE:\n",
            "1.0\n",
            " 50%|█████     | 50/100 [02:11<01:42,  2.05s/trial, best loss: -1.0]"
          ]
        },
        {
          "output_type": "stream",
          "name": "stderr",
          "text": [
            "/usr/local/lib/python3.10/dist-packages/xgboost/sklearn.py:889: UserWarning: `eval_metric` in `fit` method is deprecated for better compatibility with scikit-learn, use `eval_metric` in constructor or`set_params` instead.\n",
            "  warnings.warn(\n",
            "\n",
            "/usr/local/lib/python3.10/dist-packages/xgboost/sklearn.py:889: UserWarning: `early_stopping_rounds` in `fit` method is deprecated for better compatibility with scikit-learn, use `early_stopping_rounds` in constructor or`set_params` instead.\n",
            "  warnings.warn(\n",
            "\n"
          ]
        },
        {
          "output_type": "stream",
          "name": "stdout",
          "text": [
            "SCORE:\n",
            "1.0\n",
            " 51%|█████     | 51/100 [02:13<01:34,  1.93s/trial, best loss: -1.0]"
          ]
        },
        {
          "output_type": "stream",
          "name": "stderr",
          "text": [
            "/usr/local/lib/python3.10/dist-packages/xgboost/sklearn.py:889: UserWarning: `eval_metric` in `fit` method is deprecated for better compatibility with scikit-learn, use `eval_metric` in constructor or`set_params` instead.\n",
            "  warnings.warn(\n",
            "\n",
            "/usr/local/lib/python3.10/dist-packages/xgboost/sklearn.py:889: UserWarning: `early_stopping_rounds` in `fit` method is deprecated for better compatibility with scikit-learn, use `early_stopping_rounds` in constructor or`set_params` instead.\n",
            "  warnings.warn(\n",
            "\n"
          ]
        },
        {
          "output_type": "stream",
          "name": "stdout",
          "text": [
            "SCORE:\n",
            "1.0\n",
            " 52%|█████▏    | 52/100 [02:14<01:29,  1.86s/trial, best loss: -1.0]"
          ]
        },
        {
          "output_type": "stream",
          "name": "stderr",
          "text": [
            "/usr/local/lib/python3.10/dist-packages/xgboost/sklearn.py:889: UserWarning: `eval_metric` in `fit` method is deprecated for better compatibility with scikit-learn, use `eval_metric` in constructor or`set_params` instead.\n",
            "  warnings.warn(\n",
            "\n",
            "/usr/local/lib/python3.10/dist-packages/xgboost/sklearn.py:889: UserWarning: `early_stopping_rounds` in `fit` method is deprecated for better compatibility with scikit-learn, use `early_stopping_rounds` in constructor or`set_params` instead.\n",
            "  warnings.warn(\n",
            "\n"
          ]
        },
        {
          "output_type": "stream",
          "name": "stdout",
          "text": [
            "SCORE:\n",
            "1.0\n",
            " 53%|█████▎    | 53/100 [02:16<01:24,  1.80s/trial, best loss: -1.0]"
          ]
        },
        {
          "output_type": "stream",
          "name": "stderr",
          "text": [
            "/usr/local/lib/python3.10/dist-packages/xgboost/sklearn.py:889: UserWarning: `eval_metric` in `fit` method is deprecated for better compatibility with scikit-learn, use `eval_metric` in constructor or`set_params` instead.\n",
            "  warnings.warn(\n",
            "\n",
            "/usr/local/lib/python3.10/dist-packages/xgboost/sklearn.py:889: UserWarning: `early_stopping_rounds` in `fit` method is deprecated for better compatibility with scikit-learn, use `early_stopping_rounds` in constructor or`set_params` instead.\n",
            "  warnings.warn(\n",
            "\n"
          ]
        },
        {
          "output_type": "stream",
          "name": "stdout",
          "text": [
            "SCORE:\n",
            "1.0\n",
            " 54%|█████▍    | 54/100 [02:18<01:23,  1.81s/trial, best loss: -1.0]"
          ]
        },
        {
          "output_type": "stream",
          "name": "stderr",
          "text": [
            "/usr/local/lib/python3.10/dist-packages/xgboost/sklearn.py:889: UserWarning: `eval_metric` in `fit` method is deprecated for better compatibility with scikit-learn, use `eval_metric` in constructor or`set_params` instead.\n",
            "  warnings.warn(\n",
            "\n",
            "/usr/local/lib/python3.10/dist-packages/xgboost/sklearn.py:889: UserWarning: `early_stopping_rounds` in `fit` method is deprecated for better compatibility with scikit-learn, use `early_stopping_rounds` in constructor or`set_params` instead.\n",
            "  warnings.warn(\n",
            "\n"
          ]
        },
        {
          "output_type": "stream",
          "name": "stdout",
          "text": [
            "SCORE:\n",
            "1.0\n",
            " 55%|█████▌    | 55/100 [02:22<01:50,  2.45s/trial, best loss: -1.0]"
          ]
        },
        {
          "output_type": "stream",
          "name": "stderr",
          "text": [
            "/usr/local/lib/python3.10/dist-packages/xgboost/sklearn.py:889: UserWarning: `eval_metric` in `fit` method is deprecated for better compatibility with scikit-learn, use `eval_metric` in constructor or`set_params` instead.\n",
            "  warnings.warn(\n",
            "\n",
            "/usr/local/lib/python3.10/dist-packages/xgboost/sklearn.py:889: UserWarning: `early_stopping_rounds` in `fit` method is deprecated for better compatibility with scikit-learn, use `early_stopping_rounds` in constructor or`set_params` instead.\n",
            "  warnings.warn(\n",
            "\n"
          ]
        },
        {
          "output_type": "stream",
          "name": "stdout",
          "text": [
            "SCORE:\n",
            "1.0\n",
            " 56%|█████▌    | 56/100 [02:24<01:37,  2.22s/trial, best loss: -1.0]"
          ]
        },
        {
          "output_type": "stream",
          "name": "stderr",
          "text": [
            "/usr/local/lib/python3.10/dist-packages/xgboost/sklearn.py:889: UserWarning: `eval_metric` in `fit` method is deprecated for better compatibility with scikit-learn, use `eval_metric` in constructor or`set_params` instead.\n",
            "  warnings.warn(\n",
            "\n",
            "/usr/local/lib/python3.10/dist-packages/xgboost/sklearn.py:889: UserWarning: `early_stopping_rounds` in `fit` method is deprecated for better compatibility with scikit-learn, use `early_stopping_rounds` in constructor or`set_params` instead.\n",
            "  warnings.warn(\n",
            "\n"
          ]
        },
        {
          "output_type": "stream",
          "name": "stdout",
          "text": [
            "SCORE:\n",
            "1.0\n",
            " 57%|█████▋    | 57/100 [02:25<01:28,  2.06s/trial, best loss: -1.0]"
          ]
        },
        {
          "output_type": "stream",
          "name": "stderr",
          "text": [
            "/usr/local/lib/python3.10/dist-packages/xgboost/sklearn.py:889: UserWarning: `eval_metric` in `fit` method is deprecated for better compatibility with scikit-learn, use `eval_metric` in constructor or`set_params` instead.\n",
            "  warnings.warn(\n",
            "\n",
            "/usr/local/lib/python3.10/dist-packages/xgboost/sklearn.py:889: UserWarning: `early_stopping_rounds` in `fit` method is deprecated for better compatibility with scikit-learn, use `early_stopping_rounds` in constructor or`set_params` instead.\n",
            "  warnings.warn(\n",
            "\n"
          ]
        },
        {
          "output_type": "stream",
          "name": "stdout",
          "text": [
            "SCORE:\n",
            "1.0\n",
            " 58%|█████▊    | 58/100 [02:27<01:24,  2.00s/trial, best loss: -1.0]"
          ]
        },
        {
          "output_type": "stream",
          "name": "stderr",
          "text": [
            "/usr/local/lib/python3.10/dist-packages/xgboost/sklearn.py:889: UserWarning: `eval_metric` in `fit` method is deprecated for better compatibility with scikit-learn, use `eval_metric` in constructor or`set_params` instead.\n",
            "  warnings.warn(\n",
            "\n",
            "/usr/local/lib/python3.10/dist-packages/xgboost/sklearn.py:889: UserWarning: `early_stopping_rounds` in `fit` method is deprecated for better compatibility with scikit-learn, use `early_stopping_rounds` in constructor or`set_params` instead.\n",
            "  warnings.warn(\n",
            "\n"
          ]
        },
        {
          "output_type": "stream",
          "name": "stdout",
          "text": [
            "SCORE:\n",
            "1.0\n",
            " 59%|█████▉    | 59/100 [02:29<01:19,  1.94s/trial, best loss: -1.0]"
          ]
        },
        {
          "output_type": "stream",
          "name": "stderr",
          "text": [
            "/usr/local/lib/python3.10/dist-packages/xgboost/sklearn.py:889: UserWarning: `eval_metric` in `fit` method is deprecated for better compatibility with scikit-learn, use `eval_metric` in constructor or`set_params` instead.\n",
            "  warnings.warn(\n",
            "\n",
            "/usr/local/lib/python3.10/dist-packages/xgboost/sklearn.py:889: UserWarning: `early_stopping_rounds` in `fit` method is deprecated for better compatibility with scikit-learn, use `early_stopping_rounds` in constructor or`set_params` instead.\n",
            "  warnings.warn(\n",
            "\n"
          ]
        },
        {
          "output_type": "stream",
          "name": "stdout",
          "text": [
            "SCORE:\n",
            "1.0\n",
            " 60%|██████    | 60/100 [02:31<01:14,  1.86s/trial, best loss: -1.0]"
          ]
        },
        {
          "output_type": "stream",
          "name": "stderr",
          "text": [
            "/usr/local/lib/python3.10/dist-packages/xgboost/sklearn.py:889: UserWarning: `eval_metric` in `fit` method is deprecated for better compatibility with scikit-learn, use `eval_metric` in constructor or`set_params` instead.\n",
            "  warnings.warn(\n",
            "\n",
            "/usr/local/lib/python3.10/dist-packages/xgboost/sklearn.py:889: UserWarning: `early_stopping_rounds` in `fit` method is deprecated for better compatibility with scikit-learn, use `early_stopping_rounds` in constructor or`set_params` instead.\n",
            "  warnings.warn(\n",
            "\n"
          ]
        },
        {
          "output_type": "stream",
          "name": "stdout",
          "text": [
            "SCORE:\n",
            "1.0\n",
            " 61%|██████    | 61/100 [02:35<01:38,  2.52s/trial, best loss: -1.0]"
          ]
        },
        {
          "output_type": "stream",
          "name": "stderr",
          "text": [
            "/usr/local/lib/python3.10/dist-packages/xgboost/sklearn.py:889: UserWarning: `eval_metric` in `fit` method is deprecated for better compatibility with scikit-learn, use `eval_metric` in constructor or`set_params` instead.\n",
            "  warnings.warn(\n",
            "\n",
            "/usr/local/lib/python3.10/dist-packages/xgboost/sklearn.py:889: UserWarning: `early_stopping_rounds` in `fit` method is deprecated for better compatibility with scikit-learn, use `early_stopping_rounds` in constructor or`set_params` instead.\n",
            "  warnings.warn(\n",
            "\n"
          ]
        },
        {
          "output_type": "stream",
          "name": "stdout",
          "text": [
            "SCORE:\n",
            "1.0\n",
            " 62%|██████▏   | 62/100 [02:36<01:27,  2.29s/trial, best loss: -1.0]"
          ]
        },
        {
          "output_type": "stream",
          "name": "stderr",
          "text": [
            "/usr/local/lib/python3.10/dist-packages/xgboost/sklearn.py:889: UserWarning: `eval_metric` in `fit` method is deprecated for better compatibility with scikit-learn, use `eval_metric` in constructor or`set_params` instead.\n",
            "  warnings.warn(\n",
            "\n",
            "/usr/local/lib/python3.10/dist-packages/xgboost/sklearn.py:889: UserWarning: `early_stopping_rounds` in `fit` method is deprecated for better compatibility with scikit-learn, use `early_stopping_rounds` in constructor or`set_params` instead.\n",
            "  warnings.warn(\n",
            "\n"
          ]
        },
        {
          "output_type": "stream",
          "name": "stdout",
          "text": [
            "SCORE:\n",
            "1.0\n",
            " 63%|██████▎   | 63/100 [02:38<01:20,  2.17s/trial, best loss: -1.0]"
          ]
        },
        {
          "output_type": "stream",
          "name": "stderr",
          "text": [
            "/usr/local/lib/python3.10/dist-packages/xgboost/sklearn.py:889: UserWarning: `eval_metric` in `fit` method is deprecated for better compatibility with scikit-learn, use `eval_metric` in constructor or`set_params` instead.\n",
            "  warnings.warn(\n",
            "\n",
            "/usr/local/lib/python3.10/dist-packages/xgboost/sklearn.py:889: UserWarning: `early_stopping_rounds` in `fit` method is deprecated for better compatibility with scikit-learn, use `early_stopping_rounds` in constructor or`set_params` instead.\n",
            "  warnings.warn(\n",
            "\n"
          ]
        },
        {
          "output_type": "stream",
          "name": "stdout",
          "text": [
            "SCORE:\n",
            "1.0\n",
            " 64%|██████▍   | 64/100 [02:40<01:13,  2.03s/trial, best loss: -1.0]"
          ]
        },
        {
          "output_type": "stream",
          "name": "stderr",
          "text": [
            "/usr/local/lib/python3.10/dist-packages/xgboost/sklearn.py:889: UserWarning: `eval_metric` in `fit` method is deprecated for better compatibility with scikit-learn, use `eval_metric` in constructor or`set_params` instead.\n",
            "  warnings.warn(\n",
            "\n",
            "/usr/local/lib/python3.10/dist-packages/xgboost/sklearn.py:889: UserWarning: `early_stopping_rounds` in `fit` method is deprecated for better compatibility with scikit-learn, use `early_stopping_rounds` in constructor or`set_params` instead.\n",
            "  warnings.warn(\n",
            "\n"
          ]
        },
        {
          "output_type": "stream",
          "name": "stdout",
          "text": [
            "SCORE:\n",
            "1.0\n",
            " 65%|██████▌   | 65/100 [02:42<01:07,  1.93s/trial, best loss: -1.0]"
          ]
        },
        {
          "output_type": "stream",
          "name": "stderr",
          "text": [
            "/usr/local/lib/python3.10/dist-packages/xgboost/sklearn.py:889: UserWarning: `eval_metric` in `fit` method is deprecated for better compatibility with scikit-learn, use `eval_metric` in constructor or`set_params` instead.\n",
            "  warnings.warn(\n",
            "\n",
            "/usr/local/lib/python3.10/dist-packages/xgboost/sklearn.py:889: UserWarning: `early_stopping_rounds` in `fit` method is deprecated for better compatibility with scikit-learn, use `early_stopping_rounds` in constructor or`set_params` instead.\n",
            "  warnings.warn(\n",
            "\n"
          ]
        },
        {
          "output_type": "stream",
          "name": "stdout",
          "text": [
            "SCORE:\n",
            "1.0\n",
            " 66%|██████▌   | 66/100 [02:43<01:03,  1.86s/trial, best loss: -1.0]"
          ]
        },
        {
          "output_type": "stream",
          "name": "stderr",
          "text": [
            "/usr/local/lib/python3.10/dist-packages/xgboost/sklearn.py:889: UserWarning: `eval_metric` in `fit` method is deprecated for better compatibility with scikit-learn, use `eval_metric` in constructor or`set_params` instead.\n",
            "  warnings.warn(\n",
            "\n",
            "/usr/local/lib/python3.10/dist-packages/xgboost/sklearn.py:889: UserWarning: `early_stopping_rounds` in `fit` method is deprecated for better compatibility with scikit-learn, use `early_stopping_rounds` in constructor or`set_params` instead.\n",
            "  warnings.warn(\n",
            "\n"
          ]
        },
        {
          "output_type": "stream",
          "name": "stdout",
          "text": [
            "SCORE:\n",
            "1.0\n",
            " 67%|██████▋   | 67/100 [02:47<01:14,  2.25s/trial, best loss: -1.0]"
          ]
        },
        {
          "output_type": "stream",
          "name": "stderr",
          "text": [
            "/usr/local/lib/python3.10/dist-packages/xgboost/sklearn.py:889: UserWarning: `eval_metric` in `fit` method is deprecated for better compatibility with scikit-learn, use `eval_metric` in constructor or`set_params` instead.\n",
            "  warnings.warn(\n",
            "\n",
            "/usr/local/lib/python3.10/dist-packages/xgboost/sklearn.py:889: UserWarning: `early_stopping_rounds` in `fit` method is deprecated for better compatibility with scikit-learn, use `early_stopping_rounds` in constructor or`set_params` instead.\n",
            "  warnings.warn(\n",
            "\n"
          ]
        },
        {
          "output_type": "stream",
          "name": "stdout",
          "text": [
            "SCORE:\n",
            "1.0\n",
            " 68%|██████▊   | 68/100 [02:49<01:09,  2.17s/trial, best loss: -1.0]"
          ]
        },
        {
          "output_type": "stream",
          "name": "stderr",
          "text": [
            "/usr/local/lib/python3.10/dist-packages/xgboost/sklearn.py:889: UserWarning: `eval_metric` in `fit` method is deprecated for better compatibility with scikit-learn, use `eval_metric` in constructor or`set_params` instead.\n",
            "  warnings.warn(\n",
            "\n",
            "/usr/local/lib/python3.10/dist-packages/xgboost/sklearn.py:889: UserWarning: `early_stopping_rounds` in `fit` method is deprecated for better compatibility with scikit-learn, use `early_stopping_rounds` in constructor or`set_params` instead.\n",
            "  warnings.warn(\n",
            "\n"
          ]
        },
        {
          "output_type": "stream",
          "name": "stdout",
          "text": [
            "SCORE:\n",
            "1.0\n",
            " 69%|██████▉   | 69/100 [02:50<01:02,  2.03s/trial, best loss: -1.0]"
          ]
        },
        {
          "output_type": "stream",
          "name": "stderr",
          "text": [
            "/usr/local/lib/python3.10/dist-packages/xgboost/sklearn.py:889: UserWarning: `eval_metric` in `fit` method is deprecated for better compatibility with scikit-learn, use `eval_metric` in constructor or`set_params` instead.\n",
            "  warnings.warn(\n",
            "\n",
            "/usr/local/lib/python3.10/dist-packages/xgboost/sklearn.py:889: UserWarning: `early_stopping_rounds` in `fit` method is deprecated for better compatibility with scikit-learn, use `early_stopping_rounds` in constructor or`set_params` instead.\n",
            "  warnings.warn(\n",
            "\n"
          ]
        },
        {
          "output_type": "stream",
          "name": "stdout",
          "text": [
            "SCORE:\n",
            "1.0\n",
            " 70%|███████   | 70/100 [02:52<00:58,  1.95s/trial, best loss: -1.0]"
          ]
        },
        {
          "output_type": "stream",
          "name": "stderr",
          "text": [
            "/usr/local/lib/python3.10/dist-packages/xgboost/sklearn.py:889: UserWarning: `eval_metric` in `fit` method is deprecated for better compatibility with scikit-learn, use `eval_metric` in constructor or`set_params` instead.\n",
            "  warnings.warn(\n",
            "\n",
            "/usr/local/lib/python3.10/dist-packages/xgboost/sklearn.py:889: UserWarning: `early_stopping_rounds` in `fit` method is deprecated for better compatibility with scikit-learn, use `early_stopping_rounds` in constructor or`set_params` instead.\n",
            "  warnings.warn(\n",
            "\n"
          ]
        },
        {
          "output_type": "stream",
          "name": "stdout",
          "text": [
            "SCORE:\n",
            "1.0\n",
            " 71%|███████   | 71/100 [02:54<00:54,  1.87s/trial, best loss: -1.0]"
          ]
        },
        {
          "output_type": "stream",
          "name": "stderr",
          "text": [
            "/usr/local/lib/python3.10/dist-packages/xgboost/sklearn.py:889: UserWarning: `eval_metric` in `fit` method is deprecated for better compatibility with scikit-learn, use `eval_metric` in constructor or`set_params` instead.\n",
            "  warnings.warn(\n",
            "\n",
            "/usr/local/lib/python3.10/dist-packages/xgboost/sklearn.py:889: UserWarning: `early_stopping_rounds` in `fit` method is deprecated for better compatibility with scikit-learn, use `early_stopping_rounds` in constructor or`set_params` instead.\n",
            "  warnings.warn(\n",
            "\n"
          ]
        },
        {
          "output_type": "stream",
          "name": "stdout",
          "text": [
            "SCORE:\n",
            "1.0\n",
            " 72%|███████▏  | 72/100 [02:55<00:50,  1.82s/trial, best loss: -1.0]"
          ]
        },
        {
          "output_type": "stream",
          "name": "stderr",
          "text": [
            "/usr/local/lib/python3.10/dist-packages/xgboost/sklearn.py:889: UserWarning: `eval_metric` in `fit` method is deprecated for better compatibility with scikit-learn, use `eval_metric` in constructor or`set_params` instead.\n",
            "  warnings.warn(\n",
            "\n",
            "/usr/local/lib/python3.10/dist-packages/xgboost/sklearn.py:889: UserWarning: `early_stopping_rounds` in `fit` method is deprecated for better compatibility with scikit-learn, use `early_stopping_rounds` in constructor or`set_params` instead.\n",
            "  warnings.warn(\n",
            "\n"
          ]
        },
        {
          "output_type": "stream",
          "name": "stdout",
          "text": [
            "SCORE:\n",
            "1.0\n",
            " 73%|███████▎  | 73/100 [02:57<00:48,  1.78s/trial, best loss: -1.0]"
          ]
        },
        {
          "output_type": "stream",
          "name": "stderr",
          "text": [
            "/usr/local/lib/python3.10/dist-packages/xgboost/sklearn.py:889: UserWarning: `eval_metric` in `fit` method is deprecated for better compatibility with scikit-learn, use `eval_metric` in constructor or`set_params` instead.\n",
            "  warnings.warn(\n",
            "\n",
            "/usr/local/lib/python3.10/dist-packages/xgboost/sklearn.py:889: UserWarning: `early_stopping_rounds` in `fit` method is deprecated for better compatibility with scikit-learn, use `early_stopping_rounds` in constructor or`set_params` instead.\n",
            "  warnings.warn(\n",
            "\n"
          ]
        },
        {
          "output_type": "stream",
          "name": "stdout",
          "text": [
            "SCORE:\n",
            "1.0\n",
            " 74%|███████▍  | 74/100 [03:01<01:02,  2.39s/trial, best loss: -1.0]"
          ]
        },
        {
          "output_type": "stream",
          "name": "stderr",
          "text": [
            "/usr/local/lib/python3.10/dist-packages/xgboost/sklearn.py:889: UserWarning: `eval_metric` in `fit` method is deprecated for better compatibility with scikit-learn, use `eval_metric` in constructor or`set_params` instead.\n",
            "  warnings.warn(\n",
            "\n",
            "/usr/local/lib/python3.10/dist-packages/xgboost/sklearn.py:889: UserWarning: `early_stopping_rounds` in `fit` method is deprecated for better compatibility with scikit-learn, use `early_stopping_rounds` in constructor or`set_params` instead.\n",
            "  warnings.warn(\n",
            "\n"
          ]
        },
        {
          "output_type": "stream",
          "name": "stdout",
          "text": [
            "SCORE:\n",
            "1.0\n",
            " 75%|███████▌  | 75/100 [03:03<00:54,  2.17s/trial, best loss: -1.0]"
          ]
        },
        {
          "output_type": "stream",
          "name": "stderr",
          "text": [
            "/usr/local/lib/python3.10/dist-packages/xgboost/sklearn.py:889: UserWarning: `eval_metric` in `fit` method is deprecated for better compatibility with scikit-learn, use `eval_metric` in constructor or`set_params` instead.\n",
            "  warnings.warn(\n",
            "\n",
            "/usr/local/lib/python3.10/dist-packages/xgboost/sklearn.py:889: UserWarning: `early_stopping_rounds` in `fit` method is deprecated for better compatibility with scikit-learn, use `early_stopping_rounds` in constructor or`set_params` instead.\n",
            "  warnings.warn(\n",
            "\n"
          ]
        },
        {
          "output_type": "stream",
          "name": "stdout",
          "text": [
            "SCORE:\n",
            "1.0\n",
            " 76%|███████▌  | 76/100 [03:05<00:54,  2.25s/trial, best loss: -1.0]"
          ]
        },
        {
          "output_type": "stream",
          "name": "stderr",
          "text": [
            "/usr/local/lib/python3.10/dist-packages/xgboost/sklearn.py:889: UserWarning: `eval_metric` in `fit` method is deprecated for better compatibility with scikit-learn, use `eval_metric` in constructor or`set_params` instead.\n",
            "  warnings.warn(\n",
            "\n",
            "/usr/local/lib/python3.10/dist-packages/xgboost/sklearn.py:889: UserWarning: `early_stopping_rounds` in `fit` method is deprecated for better compatibility with scikit-learn, use `early_stopping_rounds` in constructor or`set_params` instead.\n",
            "  warnings.warn(\n",
            "\n"
          ]
        },
        {
          "output_type": "stream",
          "name": "stdout",
          "text": [
            "SCORE:\n",
            "1.0\n",
            " 77%|███████▋  | 77/100 [03:07<00:47,  2.08s/trial, best loss: -1.0]"
          ]
        },
        {
          "output_type": "stream",
          "name": "stderr",
          "text": [
            "/usr/local/lib/python3.10/dist-packages/xgboost/sklearn.py:889: UserWarning: `eval_metric` in `fit` method is deprecated for better compatibility with scikit-learn, use `eval_metric` in constructor or`set_params` instead.\n",
            "  warnings.warn(\n",
            "\n",
            "/usr/local/lib/python3.10/dist-packages/xgboost/sklearn.py:889: UserWarning: `early_stopping_rounds` in `fit` method is deprecated for better compatibility with scikit-learn, use `early_stopping_rounds` in constructor or`set_params` instead.\n",
            "  warnings.warn(\n",
            "\n"
          ]
        },
        {
          "output_type": "stream",
          "name": "stdout",
          "text": [
            "SCORE:\n",
            "1.0\n",
            " 78%|███████▊  | 78/100 [03:08<00:43,  1.97s/trial, best loss: -1.0]"
          ]
        },
        {
          "output_type": "stream",
          "name": "stderr",
          "text": [
            "/usr/local/lib/python3.10/dist-packages/xgboost/sklearn.py:889: UserWarning: `eval_metric` in `fit` method is deprecated for better compatibility with scikit-learn, use `eval_metric` in constructor or`set_params` instead.\n",
            "  warnings.warn(\n",
            "\n",
            "/usr/local/lib/python3.10/dist-packages/xgboost/sklearn.py:889: UserWarning: `early_stopping_rounds` in `fit` method is deprecated for better compatibility with scikit-learn, use `early_stopping_rounds` in constructor or`set_params` instead.\n",
            "  warnings.warn(\n",
            "\n"
          ]
        },
        {
          "output_type": "stream",
          "name": "stdout",
          "text": [
            "SCORE:\n",
            "1.0\n",
            " 79%|███████▉  | 79/100 [03:10<00:40,  1.91s/trial, best loss: -1.0]"
          ]
        },
        {
          "output_type": "stream",
          "name": "stderr",
          "text": [
            "/usr/local/lib/python3.10/dist-packages/xgboost/sklearn.py:889: UserWarning: `eval_metric` in `fit` method is deprecated for better compatibility with scikit-learn, use `eval_metric` in constructor or`set_params` instead.\n",
            "  warnings.warn(\n",
            "\n",
            "/usr/local/lib/python3.10/dist-packages/xgboost/sklearn.py:889: UserWarning: `early_stopping_rounds` in `fit` method is deprecated for better compatibility with scikit-learn, use `early_stopping_rounds` in constructor or`set_params` instead.\n",
            "  warnings.warn(\n",
            "\n"
          ]
        },
        {
          "output_type": "stream",
          "name": "stdout",
          "text": [
            "SCORE:\n",
            "1.0\n",
            " 80%|████████  | 80/100 [03:14<00:49,  2.48s/trial, best loss: -1.0]"
          ]
        },
        {
          "output_type": "stream",
          "name": "stderr",
          "text": [
            "/usr/local/lib/python3.10/dist-packages/xgboost/sklearn.py:889: UserWarning: `eval_metric` in `fit` method is deprecated for better compatibility with scikit-learn, use `eval_metric` in constructor or`set_params` instead.\n",
            "  warnings.warn(\n",
            "\n",
            "/usr/local/lib/python3.10/dist-packages/xgboost/sklearn.py:889: UserWarning: `early_stopping_rounds` in `fit` method is deprecated for better compatibility with scikit-learn, use `early_stopping_rounds` in constructor or`set_params` instead.\n",
            "  warnings.warn(\n",
            "\n"
          ]
        },
        {
          "output_type": "stream",
          "name": "stdout",
          "text": [
            "SCORE:\n",
            "1.0\n",
            " 81%|████████  | 81/100 [03:16<00:42,  2.24s/trial, best loss: -1.0]"
          ]
        },
        {
          "output_type": "stream",
          "name": "stderr",
          "text": [
            "/usr/local/lib/python3.10/dist-packages/xgboost/sklearn.py:889: UserWarning: `eval_metric` in `fit` method is deprecated for better compatibility with scikit-learn, use `eval_metric` in constructor or`set_params` instead.\n",
            "  warnings.warn(\n",
            "\n",
            "/usr/local/lib/python3.10/dist-packages/xgboost/sklearn.py:889: UserWarning: `early_stopping_rounds` in `fit` method is deprecated for better compatibility with scikit-learn, use `early_stopping_rounds` in constructor or`set_params` instead.\n",
            "  warnings.warn(\n",
            "\n"
          ]
        },
        {
          "output_type": "stream",
          "name": "stdout",
          "text": [
            "SCORE:\n",
            "1.0\n",
            " 82%|████████▏ | 82/100 [03:17<00:37,  2.08s/trial, best loss: -1.0]"
          ]
        },
        {
          "output_type": "stream",
          "name": "stderr",
          "text": [
            "/usr/local/lib/python3.10/dist-packages/xgboost/sklearn.py:889: UserWarning: `eval_metric` in `fit` method is deprecated for better compatibility with scikit-learn, use `eval_metric` in constructor or`set_params` instead.\n",
            "  warnings.warn(\n",
            "\n",
            "/usr/local/lib/python3.10/dist-packages/xgboost/sklearn.py:889: UserWarning: `early_stopping_rounds` in `fit` method is deprecated for better compatibility with scikit-learn, use `early_stopping_rounds` in constructor or`set_params` instead.\n",
            "  warnings.warn(\n",
            "\n"
          ]
        },
        {
          "output_type": "stream",
          "name": "stdout",
          "text": [
            "SCORE:\n",
            "1.0\n",
            " 83%|████████▎ | 83/100 [03:19<00:33,  1.97s/trial, best loss: -1.0]"
          ]
        },
        {
          "output_type": "stream",
          "name": "stderr",
          "text": [
            "/usr/local/lib/python3.10/dist-packages/xgboost/sklearn.py:889: UserWarning: `eval_metric` in `fit` method is deprecated for better compatibility with scikit-learn, use `eval_metric` in constructor or`set_params` instead.\n",
            "  warnings.warn(\n",
            "\n",
            "/usr/local/lib/python3.10/dist-packages/xgboost/sklearn.py:889: UserWarning: `early_stopping_rounds` in `fit` method is deprecated for better compatibility with scikit-learn, use `early_stopping_rounds` in constructor or`set_params` instead.\n",
            "  warnings.warn(\n",
            "\n"
          ]
        },
        {
          "output_type": "stream",
          "name": "stdout",
          "text": [
            "SCORE:\n",
            "1.0\n",
            " 84%|████████▍ | 84/100 [03:21<00:30,  1.91s/trial, best loss: -1.0]"
          ]
        },
        {
          "output_type": "stream",
          "name": "stderr",
          "text": [
            "/usr/local/lib/python3.10/dist-packages/xgboost/sklearn.py:889: UserWarning: `eval_metric` in `fit` method is deprecated for better compatibility with scikit-learn, use `eval_metric` in constructor or`set_params` instead.\n",
            "  warnings.warn(\n",
            "\n",
            "/usr/local/lib/python3.10/dist-packages/xgboost/sklearn.py:889: UserWarning: `early_stopping_rounds` in `fit` method is deprecated for better compatibility with scikit-learn, use `early_stopping_rounds` in constructor or`set_params` instead.\n",
            "  warnings.warn(\n",
            "\n"
          ]
        },
        {
          "output_type": "stream",
          "name": "stdout",
          "text": [
            "SCORE:\n",
            "1.0\n",
            " 85%|████████▌ | 85/100 [03:23<00:27,  1.84s/trial, best loss: -1.0]"
          ]
        },
        {
          "output_type": "stream",
          "name": "stderr",
          "text": [
            "/usr/local/lib/python3.10/dist-packages/xgboost/sklearn.py:889: UserWarning: `eval_metric` in `fit` method is deprecated for better compatibility with scikit-learn, use `eval_metric` in constructor or`set_params` instead.\n",
            "  warnings.warn(\n",
            "\n",
            "/usr/local/lib/python3.10/dist-packages/xgboost/sklearn.py:889: UserWarning: `early_stopping_rounds` in `fit` method is deprecated for better compatibility with scikit-learn, use `early_stopping_rounds` in constructor or`set_params` instead.\n",
            "  warnings.warn(\n",
            "\n"
          ]
        },
        {
          "output_type": "stream",
          "name": "stdout",
          "text": [
            "SCORE:\n",
            "1.0\n",
            " 86%|████████▌ | 86/100 [03:26<00:32,  2.30s/trial, best loss: -1.0]"
          ]
        },
        {
          "output_type": "stream",
          "name": "stderr",
          "text": [
            "/usr/local/lib/python3.10/dist-packages/xgboost/sklearn.py:889: UserWarning: `eval_metric` in `fit` method is deprecated for better compatibility with scikit-learn, use `eval_metric` in constructor or`set_params` instead.\n",
            "  warnings.warn(\n",
            "\n",
            "/usr/local/lib/python3.10/dist-packages/xgboost/sklearn.py:889: UserWarning: `early_stopping_rounds` in `fit` method is deprecated for better compatibility with scikit-learn, use `early_stopping_rounds` in constructor or`set_params` instead.\n",
            "  warnings.warn(\n",
            "\n"
          ]
        },
        {
          "output_type": "stream",
          "name": "stdout",
          "text": [
            "SCORE:\n",
            "1.0\n",
            " 87%|████████▋ | 87/100 [03:28<00:28,  2.22s/trial, best loss: -1.0]"
          ]
        },
        {
          "output_type": "stream",
          "name": "stderr",
          "text": [
            "/usr/local/lib/python3.10/dist-packages/xgboost/sklearn.py:889: UserWarning: `eval_metric` in `fit` method is deprecated for better compatibility with scikit-learn, use `eval_metric` in constructor or`set_params` instead.\n",
            "  warnings.warn(\n",
            "\n",
            "/usr/local/lib/python3.10/dist-packages/xgboost/sklearn.py:889: UserWarning: `early_stopping_rounds` in `fit` method is deprecated for better compatibility with scikit-learn, use `early_stopping_rounds` in constructor or`set_params` instead.\n",
            "  warnings.warn(\n",
            "\n"
          ]
        },
        {
          "output_type": "stream",
          "name": "stdout",
          "text": [
            "SCORE:\n",
            "1.0\n",
            " 88%|████████▊ | 88/100 [03:30<00:24,  2.08s/trial, best loss: -1.0]"
          ]
        },
        {
          "output_type": "stream",
          "name": "stderr",
          "text": [
            "/usr/local/lib/python3.10/dist-packages/xgboost/sklearn.py:889: UserWarning: `eval_metric` in `fit` method is deprecated for better compatibility with scikit-learn, use `eval_metric` in constructor or`set_params` instead.\n",
            "  warnings.warn(\n",
            "\n",
            "/usr/local/lib/python3.10/dist-packages/xgboost/sklearn.py:889: UserWarning: `early_stopping_rounds` in `fit` method is deprecated for better compatibility with scikit-learn, use `early_stopping_rounds` in constructor or`set_params` instead.\n",
            "  warnings.warn(\n",
            "\n"
          ]
        },
        {
          "output_type": "stream",
          "name": "stdout",
          "text": [
            "SCORE:\n",
            "1.0\n",
            " 89%|████████▉ | 89/100 [03:31<00:21,  1.97s/trial, best loss: -1.0]"
          ]
        },
        {
          "output_type": "stream",
          "name": "stderr",
          "text": [
            "/usr/local/lib/python3.10/dist-packages/xgboost/sklearn.py:889: UserWarning: `eval_metric` in `fit` method is deprecated for better compatibility with scikit-learn, use `eval_metric` in constructor or`set_params` instead.\n",
            "  warnings.warn(\n",
            "\n",
            "/usr/local/lib/python3.10/dist-packages/xgboost/sklearn.py:889: UserWarning: `early_stopping_rounds` in `fit` method is deprecated for better compatibility with scikit-learn, use `early_stopping_rounds` in constructor or`set_params` instead.\n",
            "  warnings.warn(\n",
            "\n"
          ]
        },
        {
          "output_type": "stream",
          "name": "stdout",
          "text": [
            "SCORE:\n",
            "1.0\n",
            " 90%|█████████ | 90/100 [03:33<00:19,  1.93s/trial, best loss: -1.0]"
          ]
        },
        {
          "output_type": "stream",
          "name": "stderr",
          "text": [
            "/usr/local/lib/python3.10/dist-packages/xgboost/sklearn.py:889: UserWarning: `eval_metric` in `fit` method is deprecated for better compatibility with scikit-learn, use `eval_metric` in constructor or`set_params` instead.\n",
            "  warnings.warn(\n",
            "\n",
            "/usr/local/lib/python3.10/dist-packages/xgboost/sklearn.py:889: UserWarning: `early_stopping_rounds` in `fit` method is deprecated for better compatibility with scikit-learn, use `early_stopping_rounds` in constructor or`set_params` instead.\n",
            "  warnings.warn(\n",
            "\n"
          ]
        },
        {
          "output_type": "stream",
          "name": "stdout",
          "text": [
            "SCORE:\n",
            "1.0\n",
            " 91%|█████████ | 91/100 [03:35<00:16,  1.87s/trial, best loss: -1.0]"
          ]
        },
        {
          "output_type": "stream",
          "name": "stderr",
          "text": [
            "/usr/local/lib/python3.10/dist-packages/xgboost/sklearn.py:889: UserWarning: `eval_metric` in `fit` method is deprecated for better compatibility with scikit-learn, use `eval_metric` in constructor or`set_params` instead.\n",
            "  warnings.warn(\n",
            "\n",
            "/usr/local/lib/python3.10/dist-packages/xgboost/sklearn.py:889: UserWarning: `early_stopping_rounds` in `fit` method is deprecated for better compatibility with scikit-learn, use `early_stopping_rounds` in constructor or`set_params` instead.\n",
            "  warnings.warn(\n",
            "\n"
          ]
        },
        {
          "output_type": "stream",
          "name": "stdout",
          "text": [
            "SCORE:\n",
            "1.0\n",
            " 92%|█████████▏| 92/100 [03:37<00:15,  1.89s/trial, best loss: -1.0]"
          ]
        },
        {
          "output_type": "stream",
          "name": "stderr",
          "text": [
            "/usr/local/lib/python3.10/dist-packages/xgboost/sklearn.py:889: UserWarning: `eval_metric` in `fit` method is deprecated for better compatibility with scikit-learn, use `eval_metric` in constructor or`set_params` instead.\n",
            "  warnings.warn(\n",
            "\n",
            "/usr/local/lib/python3.10/dist-packages/xgboost/sklearn.py:889: UserWarning: `early_stopping_rounds` in `fit` method is deprecated for better compatibility with scikit-learn, use `early_stopping_rounds` in constructor or`set_params` instead.\n",
            "  warnings.warn(\n",
            "\n"
          ]
        },
        {
          "output_type": "stream",
          "name": "stdout",
          "text": [
            "SCORE:\n",
            "1.0\n",
            " 93%|█████████▎| 93/100 [03:40<00:16,  2.34s/trial, best loss: -1.0]"
          ]
        },
        {
          "output_type": "stream",
          "name": "stderr",
          "text": [
            "/usr/local/lib/python3.10/dist-packages/xgboost/sklearn.py:889: UserWarning: `eval_metric` in `fit` method is deprecated for better compatibility with scikit-learn, use `eval_metric` in constructor or`set_params` instead.\n",
            "  warnings.warn(\n",
            "\n",
            "/usr/local/lib/python3.10/dist-packages/xgboost/sklearn.py:889: UserWarning: `early_stopping_rounds` in `fit` method is deprecated for better compatibility with scikit-learn, use `early_stopping_rounds` in constructor or`set_params` instead.\n",
            "  warnings.warn(\n",
            "\n"
          ]
        },
        {
          "output_type": "stream",
          "name": "stdout",
          "text": [
            "SCORE:\n",
            "1.0\n",
            " 94%|█████████▍| 94/100 [03:42<00:12,  2.16s/trial, best loss: -1.0]"
          ]
        },
        {
          "output_type": "stream",
          "name": "stderr",
          "text": [
            "/usr/local/lib/python3.10/dist-packages/xgboost/sklearn.py:889: UserWarning: `eval_metric` in `fit` method is deprecated for better compatibility with scikit-learn, use `eval_metric` in constructor or`set_params` instead.\n",
            "  warnings.warn(\n",
            "\n",
            "/usr/local/lib/python3.10/dist-packages/xgboost/sklearn.py:889: UserWarning: `early_stopping_rounds` in `fit` method is deprecated for better compatibility with scikit-learn, use `early_stopping_rounds` in constructor or`set_params` instead.\n",
            "  warnings.warn(\n",
            "\n"
          ]
        },
        {
          "output_type": "stream",
          "name": "stdout",
          "text": [
            "SCORE:\n",
            "1.0\n",
            " 95%|█████████▌| 95/100 [03:44<00:10,  2.03s/trial, best loss: -1.0]"
          ]
        },
        {
          "output_type": "stream",
          "name": "stderr",
          "text": [
            "/usr/local/lib/python3.10/dist-packages/xgboost/sklearn.py:889: UserWarning: `eval_metric` in `fit` method is deprecated for better compatibility with scikit-learn, use `eval_metric` in constructor or`set_params` instead.\n",
            "  warnings.warn(\n",
            "\n",
            "/usr/local/lib/python3.10/dist-packages/xgboost/sklearn.py:889: UserWarning: `early_stopping_rounds` in `fit` method is deprecated for better compatibility with scikit-learn, use `early_stopping_rounds` in constructor or`set_params` instead.\n",
            "  warnings.warn(\n",
            "\n"
          ]
        },
        {
          "output_type": "stream",
          "name": "stdout",
          "text": [
            "SCORE:\n",
            "1.0\n",
            " 96%|█████████▌| 96/100 [03:46<00:07,  1.97s/trial, best loss: -1.0]"
          ]
        },
        {
          "output_type": "stream",
          "name": "stderr",
          "text": [
            "/usr/local/lib/python3.10/dist-packages/xgboost/sklearn.py:889: UserWarning: `eval_metric` in `fit` method is deprecated for better compatibility with scikit-learn, use `eval_metric` in constructor or`set_params` instead.\n",
            "  warnings.warn(\n",
            "\n",
            "/usr/local/lib/python3.10/dist-packages/xgboost/sklearn.py:889: UserWarning: `early_stopping_rounds` in `fit` method is deprecated for better compatibility with scikit-learn, use `early_stopping_rounds` in constructor or`set_params` instead.\n",
            "  warnings.warn(\n",
            "\n"
          ]
        },
        {
          "output_type": "stream",
          "name": "stdout",
          "text": [
            "SCORE:\n",
            "1.0\n",
            " 97%|█████████▋| 97/100 [03:47<00:05,  1.89s/trial, best loss: -1.0]"
          ]
        },
        {
          "output_type": "stream",
          "name": "stderr",
          "text": [
            "/usr/local/lib/python3.10/dist-packages/xgboost/sklearn.py:889: UserWarning: `eval_metric` in `fit` method is deprecated for better compatibility with scikit-learn, use `eval_metric` in constructor or`set_params` instead.\n",
            "  warnings.warn(\n",
            "\n",
            "/usr/local/lib/python3.10/dist-packages/xgboost/sklearn.py:889: UserWarning: `early_stopping_rounds` in `fit` method is deprecated for better compatibility with scikit-learn, use `early_stopping_rounds` in constructor or`set_params` instead.\n",
            "  warnings.warn(\n",
            "\n"
          ]
        },
        {
          "output_type": "stream",
          "name": "stdout",
          "text": [
            "SCORE:\n",
            "1.0\n",
            " 98%|█████████▊| 98/100 [03:49<00:03,  1.84s/trial, best loss: -1.0]"
          ]
        },
        {
          "output_type": "stream",
          "name": "stderr",
          "text": [
            "/usr/local/lib/python3.10/dist-packages/xgboost/sklearn.py:889: UserWarning: `eval_metric` in `fit` method is deprecated for better compatibility with scikit-learn, use `eval_metric` in constructor or`set_params` instead.\n",
            "  warnings.warn(\n",
            "\n",
            "/usr/local/lib/python3.10/dist-packages/xgboost/sklearn.py:889: UserWarning: `early_stopping_rounds` in `fit` method is deprecated for better compatibility with scikit-learn, use `early_stopping_rounds` in constructor or`set_params` instead.\n",
            "  warnings.warn(\n",
            "\n"
          ]
        },
        {
          "output_type": "stream",
          "name": "stdout",
          "text": [
            "SCORE:\n",
            "1.0\n",
            " 99%|█████████▉| 99/100 [03:52<00:02,  2.31s/trial, best loss: -1.0]"
          ]
        },
        {
          "output_type": "stream",
          "name": "stderr",
          "text": [
            "/usr/local/lib/python3.10/dist-packages/xgboost/sklearn.py:889: UserWarning: `eval_metric` in `fit` method is deprecated for better compatibility with scikit-learn, use `eval_metric` in constructor or`set_params` instead.\n",
            "  warnings.warn(\n",
            "\n",
            "/usr/local/lib/python3.10/dist-packages/xgboost/sklearn.py:889: UserWarning: `early_stopping_rounds` in `fit` method is deprecated for better compatibility with scikit-learn, use `early_stopping_rounds` in constructor or`set_params` instead.\n",
            "  warnings.warn(\n",
            "\n"
          ]
        },
        {
          "output_type": "stream",
          "name": "stdout",
          "text": [
            "SCORE:\n",
            "1.0\n",
            "100%|██████████| 100/100 [03:54<00:00,  2.35s/trial, best loss: -1.0]\n"
          ]
        }
      ]
    },
    {
      "cell_type": "code",
      "source": [
        "print(\"The best hyperparameters are : \",\"\\n\")\n",
        "print(best_hyperparams)"
      ],
      "metadata": {
        "colab": {
          "base_uri": "https://localhost:8080/"
        },
        "id": "A6NbRU0NzxWw",
        "outputId": "2fa45a48-1e86-42ec-d852-22e4f60459f0"
      },
      "execution_count": null,
      "outputs": [
        {
          "output_type": "stream",
          "name": "stdout",
          "text": [
            "The best hyperparameters are :  \n",
            "\n",
            "{'colsample_bytree': 0.6340055984635441, 'gamma': 0.21251759681705068, 'learning_rate': 0.2, 'max_depth': 18.0, 'min_child_weight': 9.0, 'n_estimators': 550.0, 'reg_alpha': 70.0, 'reg_lambda': 0.7986825609991298, 'subsample': 0.6906508457471517}\n"
          ]
        }
      ]
    },
    {
      "cell_type": "markdown",
      "source": [
        "## hyperpot stacking"
      ],
      "metadata": {
        "id": "GbEwkru_z7XP"
      }
    },
    {
      "cell_type": "code",
      "source": [
        "space={'max_depth': hp.quniform(\"max_depth\", 3, 7, 1), 'gamma': hp.uniform ('gamma', 0,0.5),\n",
        "       'reg_alpha' : hp.quniform('reg_alpha', 40,180,1),'reg_lambda' : hp.uniform('reg_lambda', 0,1),\n",
        "       'colsample_bytree' : hp.uniform('colsample_bytree', 0.5,1),\n",
        "       'min_child_weight' : hp.quniform('min_child_weight', 0, 10, 1),\n",
        "       'n_estimators': hp.quniform('n_estimators', 100, 300, 100) ,\n",
        "       'learning_rate': hp.quniform('learning_rate', 0.02, 0.18, 0.02),'subsample': hp.uniform('subsample', 0.6, 1.0) ,\n",
        "       'min_samples_split':hp.quniform('min_samples_split',2,10,2)}\n",
        "\n",
        "\n",
        "def objective(params):\n",
        "    hgbc = HistGradientBoostingClassifier(random_state=42 , learning_rate = params['learning_rate'])\n",
        "    # rf = RandomForestClassifier(random_state=42, n_estimators = int(params['n_estimators']), max_depth = int(params['max_depth']))\n",
        "    # et = ExtraTreesClassifier(random_state=42, n_estimators = int(params['n_estimators']), max_depth = int(params['max_depth']), min_samples_split = int(params['min_samples_split']))\n",
        "    xgb = XGBClassifier(use_label_encoder=True, eval_metric='logloss', random_state=42,  n_jobs=4,colsample_bytree= 0.9, gamma=0, learning_rate= 0.1, max_depth= 7, n_estimators= 200, subsample=0.8)\n",
        "\n",
        "    best_lr  = ExtraTreesClassifier(random_state=42)\n",
        "    # lr = LogisticRegression(random_state=42)\n",
        "\n",
        "    estimators = [('hgbc', hgbc),   ('xgb', xgb) ]\n",
        "    stacking_clf = StackingClassifier(\n",
        "        estimators=estimators,\n",
        "        final_estimator=best_lr )\n",
        "\n",
        "\n",
        "    score = cross_val_score(stacking_clf, X, y, cv=5, scoring='f1').mean()\n",
        "    return {'loss': -score, 'status': STATUS_OK}\n",
        "\n",
        "trials = Trials()\n",
        "\n",
        "best_hyperparams = fmin(fn = objective,\n",
        "                        space = space,\n",
        "                        algo = tpe.suggest,\n",
        "                        max_evals = 100,\n",
        "                        trials = trials)\n",
        "\n",
        "\n"
      ],
      "metadata": {
        "id": "EMz7Ue910Ff6"
      },
      "execution_count": null,
      "outputs": []
    }
  ]
}